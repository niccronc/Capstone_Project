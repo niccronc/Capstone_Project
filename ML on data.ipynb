{
 "cells": [
  {
   "cell_type": "code",
   "execution_count": 1,
   "metadata": {},
   "outputs": [],
   "source": [
    "import numpy as np\n",
    "import pandas as pd"
   ]
  },
  {
   "cell_type": "code",
   "execution_count": 2,
   "metadata": {},
   "outputs": [],
   "source": [
    "X=pd.read_csv('fbref_obs.csv')"
   ]
  },
  {
   "cell_type": "code",
   "execution_count": 3,
   "metadata": {},
   "outputs": [],
   "source": [
    "y=pd.read_csv('fbref_y.csv')#.drop(columns=['Unnamed: 0'], inplace=True)"
   ]
  },
  {
   "cell_type": "code",
   "execution_count": 4,
   "metadata": {},
   "outputs": [],
   "source": [
    "y.drop(columns=['Unnamed: 0'], inplace=True)"
   ]
  },
  {
   "cell_type": "code",
   "execution_count": 5,
   "metadata": {},
   "outputs": [
    {
     "data": {
      "text/plain": [
       "array([False, False, False, ..., False, False, False])"
      ]
     },
     "execution_count": 5,
     "metadata": {},
     "output_type": "execute_result"
    }
   ],
   "source": [
    "y['0'].values"
   ]
  },
  {
   "cell_type": "code",
   "execution_count": 6,
   "metadata": {},
   "outputs": [
    {
     "data": {
      "text/html": [
       "<div>\n",
       "<style scoped>\n",
       "    .dataframe tbody tr th:only-of-type {\n",
       "        vertical-align: middle;\n",
       "    }\n",
       "\n",
       "    .dataframe tbody tr th {\n",
       "        vertical-align: top;\n",
       "    }\n",
       "\n",
       "    .dataframe thead th {\n",
       "        text-align: right;\n",
       "    }\n",
       "</style>\n",
       "<table border=\"1\" class=\"dataframe\">\n",
       "  <thead>\n",
       "    <tr style=\"text-align: right;\">\n",
       "      <th></th>\n",
       "      <th>Min</th>\n",
       "      <th>Sh</th>\n",
       "      <th>SoT</th>\n",
       "      <th>Touches</th>\n",
       "      <th>Press</th>\n",
       "      <th>Tkl</th>\n",
       "      <th>Int</th>\n",
       "      <th>Blocks</th>\n",
       "      <th>xG</th>\n",
       "      <th>npxG</th>\n",
       "      <th>...</th>\n",
       "      <th>SCA</th>\n",
       "      <th>GCA</th>\n",
       "      <th>Cmp</th>\n",
       "      <th>Att</th>\n",
       "      <th>Cmp%</th>\n",
       "      <th>PrgDist</th>\n",
       "      <th>Carries</th>\n",
       "      <th>PrgDist.1</th>\n",
       "      <th>Succ</th>\n",
       "      <th>Att.1</th>\n",
       "    </tr>\n",
       "  </thead>\n",
       "  <tbody>\n",
       "    <tr>\n",
       "      <th>0</th>\n",
       "      <td>90</td>\n",
       "      <td>0</td>\n",
       "      <td>0</td>\n",
       "      <td>62</td>\n",
       "      <td>7</td>\n",
       "      <td>1</td>\n",
       "      <td>5</td>\n",
       "      <td>8</td>\n",
       "      <td>0.0</td>\n",
       "      <td>0.0</td>\n",
       "      <td>...</td>\n",
       "      <td>1</td>\n",
       "      <td>0</td>\n",
       "      <td>38</td>\n",
       "      <td>49</td>\n",
       "      <td>77.6</td>\n",
       "      <td>287</td>\n",
       "      <td>27</td>\n",
       "      <td>59</td>\n",
       "      <td>0</td>\n",
       "      <td>0</td>\n",
       "    </tr>\n",
       "    <tr>\n",
       "      <th>1</th>\n",
       "      <td>90</td>\n",
       "      <td>0</td>\n",
       "      <td>0</td>\n",
       "      <td>71</td>\n",
       "      <td>9</td>\n",
       "      <td>3</td>\n",
       "      <td>1</td>\n",
       "      <td>1</td>\n",
       "      <td>0.0</td>\n",
       "      <td>0.0</td>\n",
       "      <td>...</td>\n",
       "      <td>1</td>\n",
       "      <td>0</td>\n",
       "      <td>44</td>\n",
       "      <td>63</td>\n",
       "      <td>69.8</td>\n",
       "      <td>488</td>\n",
       "      <td>43</td>\n",
       "      <td>68</td>\n",
       "      <td>0</td>\n",
       "      <td>0</td>\n",
       "    </tr>\n",
       "    <tr>\n",
       "      <th>2</th>\n",
       "      <td>88</td>\n",
       "      <td>0</td>\n",
       "      <td>0</td>\n",
       "      <td>74</td>\n",
       "      <td>8</td>\n",
       "      <td>3</td>\n",
       "      <td>2</td>\n",
       "      <td>1</td>\n",
       "      <td>0.0</td>\n",
       "      <td>0.0</td>\n",
       "      <td>...</td>\n",
       "      <td>3</td>\n",
       "      <td>1</td>\n",
       "      <td>53</td>\n",
       "      <td>66</td>\n",
       "      <td>80.3</td>\n",
       "      <td>376</td>\n",
       "      <td>41</td>\n",
       "      <td>138</td>\n",
       "      <td>4</td>\n",
       "      <td>4</td>\n",
       "    </tr>\n",
       "    <tr>\n",
       "      <th>3</th>\n",
       "      <td>90</td>\n",
       "      <td>0</td>\n",
       "      <td>0</td>\n",
       "      <td>103</td>\n",
       "      <td>13</td>\n",
       "      <td>0</td>\n",
       "      <td>1</td>\n",
       "      <td>1</td>\n",
       "      <td>0.0</td>\n",
       "      <td>0.0</td>\n",
       "      <td>...</td>\n",
       "      <td>1</td>\n",
       "      <td>0</td>\n",
       "      <td>69</td>\n",
       "      <td>93</td>\n",
       "      <td>74.2</td>\n",
       "      <td>562</td>\n",
       "      <td>62</td>\n",
       "      <td>61</td>\n",
       "      <td>3</td>\n",
       "      <td>3</td>\n",
       "    </tr>\n",
       "    <tr>\n",
       "      <th>4</th>\n",
       "      <td>90</td>\n",
       "      <td>0</td>\n",
       "      <td>0</td>\n",
       "      <td>37</td>\n",
       "      <td>19</td>\n",
       "      <td>4</td>\n",
       "      <td>2</td>\n",
       "      <td>2</td>\n",
       "      <td>0.0</td>\n",
       "      <td>0.0</td>\n",
       "      <td>...</td>\n",
       "      <td>0</td>\n",
       "      <td>0</td>\n",
       "      <td>16</td>\n",
       "      <td>25</td>\n",
       "      <td>64.0</td>\n",
       "      <td>196</td>\n",
       "      <td>18</td>\n",
       "      <td>24</td>\n",
       "      <td>2</td>\n",
       "      <td>2</td>\n",
       "    </tr>\n",
       "  </tbody>\n",
       "</table>\n",
       "<p>5 rows × 21 columns</p>\n",
       "</div>"
      ],
      "text/plain": [
       "  Min Sh SoT Touches Press Tkl Int Blocks   xG npxG  ... SCA GCA Cmp Att  \\\n",
       "0  90  0   0      62     7   1   5      8  0.0  0.0  ...   1   0  38  49   \n",
       "1  90  0   0      71     9   3   1      1  0.0  0.0  ...   1   0  44  63   \n",
       "2  88  0   0      74     8   3   2      1  0.0  0.0  ...   3   1  53  66   \n",
       "3  90  0   0     103    13   0   1      1  0.0  0.0  ...   1   0  69  93   \n",
       "4  90  0   0      37    19   4   2      2  0.0  0.0  ...   0   0  16  25   \n",
       "\n",
       "   Cmp% PrgDist Carries PrgDist.1 Succ Att.1  \n",
       "0  77.6     287      27        59    0     0  \n",
       "1  69.8     488      43        68    0     0  \n",
       "2  80.3     376      41       138    4     4  \n",
       "3  74.2     562      62        61    3     3  \n",
       "4  64.0     196      18        24    2     2  \n",
       "\n",
       "[5 rows x 21 columns]"
      ]
     },
     "execution_count": 6,
     "metadata": {},
     "output_type": "execute_result"
    }
   ],
   "source": [
    "X.drop(columns=['Unnamed: 0'], inplace=True)\n",
    "X.head()"
   ]
  },
  {
   "cell_type": "code",
   "execution_count": 7,
   "metadata": {},
   "outputs": [
    {
     "data": {
      "text/plain": [
       "Index(['Min', 'Sh', 'SoT', 'Touches', 'Press', 'Tkl', 'Int', 'Blocks', 'xG',\n",
       "       'npxG', 'xA', 'SCA', 'GCA', 'Cmp', 'Att', 'Cmp%', 'PrgDist', 'Carries',\n",
       "       'PrgDist.1', 'Succ', 'Att.1'],\n",
       "      dtype='object')"
      ]
     },
     "execution_count": 7,
     "metadata": {},
     "output_type": "execute_result"
    }
   ],
   "source": [
    "X.columns"
   ]
  },
  {
   "cell_type": "code",
   "execution_count": 7,
   "metadata": {},
   "outputs": [
    {
     "data": {
      "text/html": [
       "<div>\n",
       "<style scoped>\n",
       "    .dataframe tbody tr th:only-of-type {\n",
       "        vertical-align: middle;\n",
       "    }\n",
       "\n",
       "    .dataframe tbody tr th {\n",
       "        vertical-align: top;\n",
       "    }\n",
       "\n",
       "    .dataframe thead th {\n",
       "        text-align: right;\n",
       "    }\n",
       "</style>\n",
       "<table border=\"1\" class=\"dataframe\">\n",
       "  <thead>\n",
       "    <tr style=\"text-align: right;\">\n",
       "      <th></th>\n",
       "      <th>Min</th>\n",
       "      <th>Sh</th>\n",
       "      <th>SoT</th>\n",
       "      <th>Touches</th>\n",
       "      <th>Press</th>\n",
       "      <th>Tkl</th>\n",
       "      <th>Int</th>\n",
       "      <th>Blocks</th>\n",
       "      <th>xG</th>\n",
       "      <th>npxG</th>\n",
       "      <th>...</th>\n",
       "      <th>expected assists</th>\n",
       "      <th>shot-creating actions</th>\n",
       "      <th>goal-creating actions</th>\n",
       "      <th>Attempted Passes</th>\n",
       "      <th>Percentage Completed Passes</th>\n",
       "      <th>Distance Passes</th>\n",
       "      <th>Carries_int</th>\n",
       "      <th>Distance Carries</th>\n",
       "      <th>Successful Dribblings</th>\n",
       "      <th>Attempted Dribblings</th>\n",
       "    </tr>\n",
       "  </thead>\n",
       "  <tbody>\n",
       "    <tr>\n",
       "      <th>0</th>\n",
       "      <td>90</td>\n",
       "      <td>0</td>\n",
       "      <td>0</td>\n",
       "      <td>62</td>\n",
       "      <td>7</td>\n",
       "      <td>1</td>\n",
       "      <td>5</td>\n",
       "      <td>8</td>\n",
       "      <td>0.0</td>\n",
       "      <td>0.0</td>\n",
       "      <td>...</td>\n",
       "      <td>0.0</td>\n",
       "      <td>1.0</td>\n",
       "      <td>0.0</td>\n",
       "      <td>49.0</td>\n",
       "      <td>77.6</td>\n",
       "      <td>287.0</td>\n",
       "      <td>27.0</td>\n",
       "      <td>59.0</td>\n",
       "      <td>0.0</td>\n",
       "      <td>0.0</td>\n",
       "    </tr>\n",
       "    <tr>\n",
       "      <th>1</th>\n",
       "      <td>90</td>\n",
       "      <td>0</td>\n",
       "      <td>0</td>\n",
       "      <td>71</td>\n",
       "      <td>9</td>\n",
       "      <td>3</td>\n",
       "      <td>1</td>\n",
       "      <td>1</td>\n",
       "      <td>0.0</td>\n",
       "      <td>0.0</td>\n",
       "      <td>...</td>\n",
       "      <td>0.0</td>\n",
       "      <td>1.0</td>\n",
       "      <td>0.0</td>\n",
       "      <td>63.0</td>\n",
       "      <td>69.8</td>\n",
       "      <td>488.0</td>\n",
       "      <td>43.0</td>\n",
       "      <td>68.0</td>\n",
       "      <td>0.0</td>\n",
       "      <td>0.0</td>\n",
       "    </tr>\n",
       "    <tr>\n",
       "      <th>2</th>\n",
       "      <td>88</td>\n",
       "      <td>0</td>\n",
       "      <td>0</td>\n",
       "      <td>74</td>\n",
       "      <td>8</td>\n",
       "      <td>3</td>\n",
       "      <td>2</td>\n",
       "      <td>1</td>\n",
       "      <td>0.0</td>\n",
       "      <td>0.0</td>\n",
       "      <td>...</td>\n",
       "      <td>0.0</td>\n",
       "      <td>3.0</td>\n",
       "      <td>1.0</td>\n",
       "      <td>66.0</td>\n",
       "      <td>80.3</td>\n",
       "      <td>376.0</td>\n",
       "      <td>41.0</td>\n",
       "      <td>138.0</td>\n",
       "      <td>4.0</td>\n",
       "      <td>4.0</td>\n",
       "    </tr>\n",
       "    <tr>\n",
       "      <th>3</th>\n",
       "      <td>90</td>\n",
       "      <td>0</td>\n",
       "      <td>0</td>\n",
       "      <td>103</td>\n",
       "      <td>13</td>\n",
       "      <td>0</td>\n",
       "      <td>1</td>\n",
       "      <td>1</td>\n",
       "      <td>0.0</td>\n",
       "      <td>0.0</td>\n",
       "      <td>...</td>\n",
       "      <td>0.1</td>\n",
       "      <td>1.0</td>\n",
       "      <td>0.0</td>\n",
       "      <td>93.0</td>\n",
       "      <td>74.2</td>\n",
       "      <td>562.0</td>\n",
       "      <td>62.0</td>\n",
       "      <td>61.0</td>\n",
       "      <td>3.0</td>\n",
       "      <td>3.0</td>\n",
       "    </tr>\n",
       "    <tr>\n",
       "      <th>4</th>\n",
       "      <td>90</td>\n",
       "      <td>0</td>\n",
       "      <td>0</td>\n",
       "      <td>37</td>\n",
       "      <td>19</td>\n",
       "      <td>4</td>\n",
       "      <td>2</td>\n",
       "      <td>2</td>\n",
       "      <td>0.0</td>\n",
       "      <td>0.0</td>\n",
       "      <td>...</td>\n",
       "      <td>0.0</td>\n",
       "      <td>0.0</td>\n",
       "      <td>0.0</td>\n",
       "      <td>25.0</td>\n",
       "      <td>64.0</td>\n",
       "      <td>196.0</td>\n",
       "      <td>18.0</td>\n",
       "      <td>24.0</td>\n",
       "      <td>2.0</td>\n",
       "      <td>2.0</td>\n",
       "    </tr>\n",
       "  </tbody>\n",
       "</table>\n",
       "<p>5 rows × 38 columns</p>\n",
       "</div>"
      ],
      "text/plain": [
       "  Min Sh SoT Touches Press Tkl Int Blocks   xG npxG  ... expected assists  \\\n",
       "0  90  0   0      62     7   1   5      8  0.0  0.0  ...              0.0   \n",
       "1  90  0   0      71     9   3   1      1  0.0  0.0  ...              0.0   \n",
       "2  88  0   0      74     8   3   2      1  0.0  0.0  ...              0.0   \n",
       "3  90  0   0     103    13   0   1      1  0.0  0.0  ...              0.1   \n",
       "4  90  0   0      37    19   4   2      2  0.0  0.0  ...              0.0   \n",
       "\n",
       "  shot-creating actions goal-creating actions Attempted Passes  \\\n",
       "0                   1.0                   0.0             49.0   \n",
       "1                   1.0                   0.0             63.0   \n",
       "2                   3.0                   1.0             66.0   \n",
       "3                   1.0                   0.0             93.0   \n",
       "4                   0.0                   0.0             25.0   \n",
       "\n",
       "  Percentage Completed Passes Distance Passes Carries_int Distance Carries  \\\n",
       "0                        77.6           287.0        27.0             59.0   \n",
       "1                        69.8           488.0        43.0             68.0   \n",
       "2                        80.3           376.0        41.0            138.0   \n",
       "3                        74.2           562.0        62.0             61.0   \n",
       "4                        64.0           196.0        18.0             24.0   \n",
       "\n",
       "  Successful Dribblings Attempted Dribblings  \n",
       "0                   0.0                  0.0  \n",
       "1                   0.0                  0.0  \n",
       "2                   4.0                  4.0  \n",
       "3                   3.0                  3.0  \n",
       "4                   2.0                  2.0  \n",
       "\n",
       "[5 rows x 38 columns]"
      ]
     },
     "execution_count": 7,
     "metadata": {},
     "output_type": "execute_result"
    }
   ],
   "source": [
    "X['Touches_int']=pd.to_numeric(X['Touches'], errors='coerce')\n",
    "X['Press_int']=pd.to_numeric(X['Press'], errors='coerce')\n",
    "X['Tackles']=pd.to_numeric(X['Tkl'], errors='coerce')\n",
    "X['Interceptions']=pd.to_numeric(X['Int'], errors='coerce')\n",
    "X['Blocks_int']=pd.to_numeric(X['Blocks'], errors='coerce')\n",
    "X['expected goals']=pd.to_numeric(X['xG'], errors='coerce')\n",
    "X['expected non-penalty goals']=pd.to_numeric(X['npxG'], errors='coerce')\n",
    "X['expected assists']=pd.to_numeric(X['xA'], errors='coerce')\n",
    "X['shot-creating actions']=pd.to_numeric(X['SCA'], errors='coerce')\n",
    "X['goal-creating actions']=pd.to_numeric(X['GCA'], errors='coerce')\n",
    "#X['Completed Passes']=pd.to_numeric(X['Cmp'], errors='coerce')\n",
    "X['Attempted Passes']=pd.to_numeric(X['Att'], errors='coerce')\n",
    "X['Percentage Completed Passes']=pd.to_numeric(X['Cmp%'], errors='coerce')\n",
    "X['Distance Passes']=pd.to_numeric(X['PrgDist'], errors='coerce')\n",
    "X['Carries_int']=pd.to_numeric(X['Carries'], errors='coerce')\n",
    "X['Distance Carries']=pd.to_numeric(X['PrgDist.1'], errors='coerce')\n",
    "X['Successful Dribblings']=pd.to_numeric(X['Succ'], errors='coerce')\n",
    "X['Attempted Dribblings']=pd.to_numeric(X['Att.1'], errors='coerce')\n",
    "\n",
    "\n",
    "X.head()"
   ]
  },
  {
   "cell_type": "code",
   "execution_count": 8,
   "metadata": {},
   "outputs": [
    {
     "data": {
      "text/html": [
       "<div>\n",
       "<style scoped>\n",
       "    .dataframe tbody tr th:only-of-type {\n",
       "        vertical-align: middle;\n",
       "    }\n",
       "\n",
       "    .dataframe tbody tr th {\n",
       "        vertical-align: top;\n",
       "    }\n",
       "\n",
       "    .dataframe thead th {\n",
       "        text-align: right;\n",
       "    }\n",
       "</style>\n",
       "<table border=\"1\" class=\"dataframe\">\n",
       "  <thead>\n",
       "    <tr style=\"text-align: right;\">\n",
       "      <th></th>\n",
       "      <th>Touches_int</th>\n",
       "      <th>Press_int</th>\n",
       "      <th>Tackles</th>\n",
       "      <th>Interceptions</th>\n",
       "      <th>Blocks_int</th>\n",
       "      <th>expected goals</th>\n",
       "      <th>expected non-penalty goals</th>\n",
       "      <th>expected assists</th>\n",
       "      <th>shot-creating actions</th>\n",
       "      <th>goal-creating actions</th>\n",
       "      <th>Attempted Passes</th>\n",
       "      <th>Percentage Completed Passes</th>\n",
       "      <th>Distance Passes</th>\n",
       "      <th>Carries_int</th>\n",
       "      <th>Distance Carries</th>\n",
       "      <th>Successful Dribblings</th>\n",
       "      <th>Attempted Dribblings</th>\n",
       "    </tr>\n",
       "  </thead>\n",
       "  <tbody>\n",
       "    <tr>\n",
       "      <th>0</th>\n",
       "      <td>62.0</td>\n",
       "      <td>7.0</td>\n",
       "      <td>1.0</td>\n",
       "      <td>5.0</td>\n",
       "      <td>8.0</td>\n",
       "      <td>0.0</td>\n",
       "      <td>0.0</td>\n",
       "      <td>0.0</td>\n",
       "      <td>1.0</td>\n",
       "      <td>0.0</td>\n",
       "      <td>49.0</td>\n",
       "      <td>77.6</td>\n",
       "      <td>287.0</td>\n",
       "      <td>27.0</td>\n",
       "      <td>59.0</td>\n",
       "      <td>0.0</td>\n",
       "      <td>0.0</td>\n",
       "    </tr>\n",
       "    <tr>\n",
       "      <th>1</th>\n",
       "      <td>71.0</td>\n",
       "      <td>9.0</td>\n",
       "      <td>3.0</td>\n",
       "      <td>1.0</td>\n",
       "      <td>1.0</td>\n",
       "      <td>0.0</td>\n",
       "      <td>0.0</td>\n",
       "      <td>0.0</td>\n",
       "      <td>1.0</td>\n",
       "      <td>0.0</td>\n",
       "      <td>63.0</td>\n",
       "      <td>69.8</td>\n",
       "      <td>488.0</td>\n",
       "      <td>43.0</td>\n",
       "      <td>68.0</td>\n",
       "      <td>0.0</td>\n",
       "      <td>0.0</td>\n",
       "    </tr>\n",
       "    <tr>\n",
       "      <th>2</th>\n",
       "      <td>74.0</td>\n",
       "      <td>8.0</td>\n",
       "      <td>3.0</td>\n",
       "      <td>2.0</td>\n",
       "      <td>1.0</td>\n",
       "      <td>0.0</td>\n",
       "      <td>0.0</td>\n",
       "      <td>0.0</td>\n",
       "      <td>3.0</td>\n",
       "      <td>1.0</td>\n",
       "      <td>66.0</td>\n",
       "      <td>80.3</td>\n",
       "      <td>376.0</td>\n",
       "      <td>41.0</td>\n",
       "      <td>138.0</td>\n",
       "      <td>4.0</td>\n",
       "      <td>4.0</td>\n",
       "    </tr>\n",
       "    <tr>\n",
       "      <th>3</th>\n",
       "      <td>103.0</td>\n",
       "      <td>13.0</td>\n",
       "      <td>0.0</td>\n",
       "      <td>1.0</td>\n",
       "      <td>1.0</td>\n",
       "      <td>0.0</td>\n",
       "      <td>0.0</td>\n",
       "      <td>0.1</td>\n",
       "      <td>1.0</td>\n",
       "      <td>0.0</td>\n",
       "      <td>93.0</td>\n",
       "      <td>74.2</td>\n",
       "      <td>562.0</td>\n",
       "      <td>62.0</td>\n",
       "      <td>61.0</td>\n",
       "      <td>3.0</td>\n",
       "      <td>3.0</td>\n",
       "    </tr>\n",
       "    <tr>\n",
       "      <th>4</th>\n",
       "      <td>37.0</td>\n",
       "      <td>19.0</td>\n",
       "      <td>4.0</td>\n",
       "      <td>2.0</td>\n",
       "      <td>2.0</td>\n",
       "      <td>0.0</td>\n",
       "      <td>0.0</td>\n",
       "      <td>0.0</td>\n",
       "      <td>0.0</td>\n",
       "      <td>0.0</td>\n",
       "      <td>25.0</td>\n",
       "      <td>64.0</td>\n",
       "      <td>196.0</td>\n",
       "      <td>18.0</td>\n",
       "      <td>24.0</td>\n",
       "      <td>2.0</td>\n",
       "      <td>2.0</td>\n",
       "    </tr>\n",
       "  </tbody>\n",
       "</table>\n",
       "</div>"
      ],
      "text/plain": [
       "   Touches_int  Press_int  Tackles  Interceptions  Blocks_int  expected goals  \\\n",
       "0         62.0        7.0      1.0            5.0         8.0             0.0   \n",
       "1         71.0        9.0      3.0            1.0         1.0             0.0   \n",
       "2         74.0        8.0      3.0            2.0         1.0             0.0   \n",
       "3        103.0       13.0      0.0            1.0         1.0             0.0   \n",
       "4         37.0       19.0      4.0            2.0         2.0             0.0   \n",
       "\n",
       "   expected non-penalty goals  expected assists  shot-creating actions  \\\n",
       "0                         0.0               0.0                    1.0   \n",
       "1                         0.0               0.0                    1.0   \n",
       "2                         0.0               0.0                    3.0   \n",
       "3                         0.0               0.1                    1.0   \n",
       "4                         0.0               0.0                    0.0   \n",
       "\n",
       "   goal-creating actions  Attempted Passes  Percentage Completed Passes  \\\n",
       "0                    0.0              49.0                         77.6   \n",
       "1                    0.0              63.0                         69.8   \n",
       "2                    1.0              66.0                         80.3   \n",
       "3                    0.0              93.0                         74.2   \n",
       "4                    0.0              25.0                         64.0   \n",
       "\n",
       "   Distance Passes  Carries_int  Distance Carries  Successful Dribblings  \\\n",
       "0            287.0         27.0              59.0                    0.0   \n",
       "1            488.0         43.0              68.0                    0.0   \n",
       "2            376.0         41.0             138.0                    4.0   \n",
       "3            562.0         62.0              61.0                    3.0   \n",
       "4            196.0         18.0              24.0                    2.0   \n",
       "\n",
       "   Attempted Dribblings  \n",
       "0                   0.0  \n",
       "1                   0.0  \n",
       "2                   4.0  \n",
       "3                   3.0  \n",
       "4                   2.0  "
      ]
     },
     "execution_count": 8,
     "metadata": {},
     "output_type": "execute_result"
    }
   ],
   "source": [
    "X_clean=X[['Touches_int', 'Press_int','Tackles','Interceptions','Blocks_int',\n",
    "           'expected goals', 'expected non-penalty goals', 'expected assists', 'shot-creating actions',\n",
    "           'goal-creating actions', 'Attempted Passes', 'Percentage Completed Passes',\n",
    "          'Distance Passes','Carries_int','Distance Carries','Successful Dribblings','Attempted Dribblings']]\n",
    "\n",
    "X_clean.head()"
   ]
  },
  {
   "cell_type": "code",
   "execution_count": 9,
   "metadata": {},
   "outputs": [
    {
     "data": {
      "text/plain": [
       "Touches_int                    float64\n",
       "Press_int                      float64\n",
       "Tackles                        float64\n",
       "Interceptions                  float64\n",
       "Blocks_int                     float64\n",
       "expected goals                 float64\n",
       "expected non-penalty goals     float64\n",
       "expected assists               float64\n",
       "shot-creating actions          float64\n",
       "goal-creating actions          float64\n",
       "Attempted Passes               float64\n",
       "Percentage Completed Passes    float64\n",
       "Distance Passes                float64\n",
       "Carries_int                    float64\n",
       "Distance Carries               float64\n",
       "Successful Dribblings          float64\n",
       "Attempted Dribblings           float64\n",
       "dtype: object"
      ]
     },
     "execution_count": 9,
     "metadata": {},
     "output_type": "execute_result"
    }
   ],
   "source": [
    "X_clean.dtypes"
   ]
  },
  {
   "cell_type": "code",
   "execution_count": 10,
   "metadata": {},
   "outputs": [],
   "source": [
    "Xandy=X_clean.join(y)"
   ]
  },
  {
   "cell_type": "code",
   "execution_count": 11,
   "metadata": {},
   "outputs": [],
   "source": [
    "Xandy.dropna(inplace=True)"
   ]
  },
  {
   "cell_type": "code",
   "execution_count": 12,
   "metadata": {},
   "outputs": [],
   "source": [
    "Xandy.to_csv('fbref_0507.csv')"
   ]
  },
  {
   "cell_type": "code",
   "execution_count": 13,
   "metadata": {},
   "outputs": [
    {
     "data": {
      "text/plain": [
       "8268"
      ]
     },
     "execution_count": 13,
     "metadata": {},
     "output_type": "execute_result"
    }
   ],
   "source": [
    "len(Xandy)"
   ]
  },
  {
   "cell_type": "code",
   "execution_count": 14,
   "metadata": {},
   "outputs": [],
   "source": [
    "from collections import Counter"
   ]
  },
  {
   "cell_type": "code",
   "execution_count": 17,
   "metadata": {},
   "outputs": [
    {
     "data": {
      "text/plain": [
       "8268"
      ]
     },
     "execution_count": 17,
     "metadata": {},
     "output_type": "execute_result"
    }
   ],
   "source": [
    "y=Xandy['0']\n",
    "len(y)"
   ]
  },
  {
   "cell_type": "code",
   "execution_count": 18,
   "metadata": {},
   "outputs": [
    {
     "data": {
      "text/plain": [
       "Counter({False: 8073, True: 195})"
      ]
     },
     "execution_count": 18,
     "metadata": {},
     "output_type": "execute_result"
    }
   ],
   "source": [
    "Counter(y)"
   ]
  },
  {
   "cell_type": "code",
   "execution_count": 19,
   "metadata": {},
   "outputs": [
    {
     "data": {
      "text/html": [
       "<div>\n",
       "<style scoped>\n",
       "    .dataframe tbody tr th:only-of-type {\n",
       "        vertical-align: middle;\n",
       "    }\n",
       "\n",
       "    .dataframe tbody tr th {\n",
       "        vertical-align: top;\n",
       "    }\n",
       "\n",
       "    .dataframe thead th {\n",
       "        text-align: right;\n",
       "    }\n",
       "</style>\n",
       "<table border=\"1\" class=\"dataframe\">\n",
       "  <thead>\n",
       "    <tr style=\"text-align: right;\">\n",
       "      <th></th>\n",
       "      <th>Touches_int</th>\n",
       "      <th>Press_int</th>\n",
       "      <th>Tackles</th>\n",
       "      <th>Interceptions</th>\n",
       "      <th>Blocks_int</th>\n",
       "      <th>expected goals</th>\n",
       "      <th>expected non-penalty goals</th>\n",
       "      <th>expected assists</th>\n",
       "      <th>shot-creating actions</th>\n",
       "      <th>goal-creating actions</th>\n",
       "      <th>Attempted Passes</th>\n",
       "      <th>Percentage Completed Passes</th>\n",
       "      <th>Distance Passes</th>\n",
       "      <th>Carries_int</th>\n",
       "      <th>Distance Carries</th>\n",
       "      <th>Successful Dribblings</th>\n",
       "      <th>Attempted Dribblings</th>\n",
       "    </tr>\n",
       "  </thead>\n",
       "  <tbody>\n",
       "    <tr>\n",
       "      <th>0</th>\n",
       "      <td>62.0</td>\n",
       "      <td>7.0</td>\n",
       "      <td>1.0</td>\n",
       "      <td>5.0</td>\n",
       "      <td>8.0</td>\n",
       "      <td>0.0</td>\n",
       "      <td>0.0</td>\n",
       "      <td>0.0</td>\n",
       "      <td>1.0</td>\n",
       "      <td>0.0</td>\n",
       "      <td>49.0</td>\n",
       "      <td>77.6</td>\n",
       "      <td>287.0</td>\n",
       "      <td>27.0</td>\n",
       "      <td>59.0</td>\n",
       "      <td>0.0</td>\n",
       "      <td>0.0</td>\n",
       "    </tr>\n",
       "    <tr>\n",
       "      <th>1</th>\n",
       "      <td>71.0</td>\n",
       "      <td>9.0</td>\n",
       "      <td>3.0</td>\n",
       "      <td>1.0</td>\n",
       "      <td>1.0</td>\n",
       "      <td>0.0</td>\n",
       "      <td>0.0</td>\n",
       "      <td>0.0</td>\n",
       "      <td>1.0</td>\n",
       "      <td>0.0</td>\n",
       "      <td>63.0</td>\n",
       "      <td>69.8</td>\n",
       "      <td>488.0</td>\n",
       "      <td>43.0</td>\n",
       "      <td>68.0</td>\n",
       "      <td>0.0</td>\n",
       "      <td>0.0</td>\n",
       "    </tr>\n",
       "    <tr>\n",
       "      <th>2</th>\n",
       "      <td>74.0</td>\n",
       "      <td>8.0</td>\n",
       "      <td>3.0</td>\n",
       "      <td>2.0</td>\n",
       "      <td>1.0</td>\n",
       "      <td>0.0</td>\n",
       "      <td>0.0</td>\n",
       "      <td>0.0</td>\n",
       "      <td>3.0</td>\n",
       "      <td>1.0</td>\n",
       "      <td>66.0</td>\n",
       "      <td>80.3</td>\n",
       "      <td>376.0</td>\n",
       "      <td>41.0</td>\n",
       "      <td>138.0</td>\n",
       "      <td>4.0</td>\n",
       "      <td>4.0</td>\n",
       "    </tr>\n",
       "    <tr>\n",
       "      <th>3</th>\n",
       "      <td>103.0</td>\n",
       "      <td>13.0</td>\n",
       "      <td>0.0</td>\n",
       "      <td>1.0</td>\n",
       "      <td>1.0</td>\n",
       "      <td>0.0</td>\n",
       "      <td>0.0</td>\n",
       "      <td>0.1</td>\n",
       "      <td>1.0</td>\n",
       "      <td>0.0</td>\n",
       "      <td>93.0</td>\n",
       "      <td>74.2</td>\n",
       "      <td>562.0</td>\n",
       "      <td>62.0</td>\n",
       "      <td>61.0</td>\n",
       "      <td>3.0</td>\n",
       "      <td>3.0</td>\n",
       "    </tr>\n",
       "    <tr>\n",
       "      <th>4</th>\n",
       "      <td>37.0</td>\n",
       "      <td>19.0</td>\n",
       "      <td>4.0</td>\n",
       "      <td>2.0</td>\n",
       "      <td>2.0</td>\n",
       "      <td>0.0</td>\n",
       "      <td>0.0</td>\n",
       "      <td>0.0</td>\n",
       "      <td>0.0</td>\n",
       "      <td>0.0</td>\n",
       "      <td>25.0</td>\n",
       "      <td>64.0</td>\n",
       "      <td>196.0</td>\n",
       "      <td>18.0</td>\n",
       "      <td>24.0</td>\n",
       "      <td>2.0</td>\n",
       "      <td>2.0</td>\n",
       "    </tr>\n",
       "  </tbody>\n",
       "</table>\n",
       "</div>"
      ],
      "text/plain": [
       "   Touches_int  Press_int  Tackles  Interceptions  Blocks_int  expected goals  \\\n",
       "0         62.0        7.0      1.0            5.0         8.0             0.0   \n",
       "1         71.0        9.0      3.0            1.0         1.0             0.0   \n",
       "2         74.0        8.0      3.0            2.0         1.0             0.0   \n",
       "3        103.0       13.0      0.0            1.0         1.0             0.0   \n",
       "4         37.0       19.0      4.0            2.0         2.0             0.0   \n",
       "\n",
       "   expected non-penalty goals  expected assists  shot-creating actions  \\\n",
       "0                         0.0               0.0                    1.0   \n",
       "1                         0.0               0.0                    1.0   \n",
       "2                         0.0               0.0                    3.0   \n",
       "3                         0.0               0.1                    1.0   \n",
       "4                         0.0               0.0                    0.0   \n",
       "\n",
       "   goal-creating actions  Attempted Passes  Percentage Completed Passes  \\\n",
       "0                    0.0              49.0                         77.6   \n",
       "1                    0.0              63.0                         69.8   \n",
       "2                    1.0              66.0                         80.3   \n",
       "3                    0.0              93.0                         74.2   \n",
       "4                    0.0              25.0                         64.0   \n",
       "\n",
       "   Distance Passes  Carries_int  Distance Carries  Successful Dribblings  \\\n",
       "0            287.0         27.0              59.0                    0.0   \n",
       "1            488.0         43.0              68.0                    0.0   \n",
       "2            376.0         41.0             138.0                    4.0   \n",
       "3            562.0         62.0              61.0                    3.0   \n",
       "4            196.0         18.0              24.0                    2.0   \n",
       "\n",
       "   Attempted Dribblings  \n",
       "0                   0.0  \n",
       "1                   0.0  \n",
       "2                   4.0  \n",
       "3                   3.0  \n",
       "4                   2.0  "
      ]
     },
     "execution_count": 19,
     "metadata": {},
     "output_type": "execute_result"
    }
   ],
   "source": [
    "X=Xandy.drop(columns=['0'])\n",
    "X.head()"
   ]
  },
  {
   "cell_type": "code",
   "execution_count": 2,
   "metadata": {},
   "outputs": [],
   "source": [
    "%matplotlib inline\n",
    "import matplotlib\n",
    "import seaborn as sns\n",
    "sns.set()\n",
    "matplotlib.rcParams['figure.dpi'] = 144\n",
    "import matplotlib.pyplot as plt"
   ]
  },
  {
   "cell_type": "code",
   "execution_count": null,
   "metadata": {},
   "outputs": [],
   "source": [
    "#palette = sns.color_palette()\n",
    "\n",
    "#plt.figure(figsize=(20,10))\n",
    "\n",
    "#plt.scatter(X_array[y_clean==0, 0]*100, X_array[y_clean==0, 1]*100, label=\"Class #0\", alpha=0.5, \n",
    "            #edgecolor='#262626', facecolor=palette[0], linewidth=0.15)\n",
    "#plt.scatter(X_array[y_clean==1, 0]*100, X_array[y_clean==1, 1]*100, label=\"Class #1\", alpha=0.5, \n",
    "            #edgecolor='#262626', facecolor=palette[2], linewidth=0.15)\n",
    "\n",
    "#plt.legend()\n",
    "#plt.show()"
   ]
  },
  {
   "cell_type": "code",
   "execution_count": 3,
   "metadata": {},
   "outputs": [],
   "source": [
    "from sklearn.pipeline import Pipeline\n",
    "from sklearn.impute import SimpleImputer\n",
    "from sklearn.tree import DecisionTreeRegressor\n",
    "from sklearn.model_selection import GridSearchCV"
   ]
  },
  {
   "cell_type": "code",
   "execution_count": 4,
   "metadata": {},
   "outputs": [],
   "source": [
    "from sklearn.linear_model import LogisticRegression\n",
    "from sklearn.metrics import confusion_matrix, classification_report"
   ]
  },
  {
   "cell_type": "code",
   "execution_count": 5,
   "metadata": {},
   "outputs": [],
   "source": [
    "from sklearn import neighbors\n",
    "from sklearn import model_selection"
   ]
  },
  {
   "cell_type": "code",
   "execution_count": 25,
   "metadata": {},
   "outputs": [
    {
     "name": "stderr",
     "output_type": "stream",
     "text": [
      "/anaconda3/lib/python3.6/site-packages/sklearn/linear_model/_logistic.py:940: ConvergenceWarning: lbfgs failed to converge (status=1):\n",
      "STOP: TOTAL NO. of ITERATIONS REACHED LIMIT.\n",
      "\n",
      "Increase the number of iterations (max_iter) or scale the data as shown in:\n",
      "    https://scikit-learn.org/stable/modules/preprocessing.html\n",
      "Please also refer to the documentation for alternative solver options:\n",
      "    https://scikit-learn.org/stable/modules/linear_model.html#logistic-regression\n",
      "  extra_warning_msg=_LOGISTIC_SOLVER_CONVERGENCE_MSG)\n"
     ]
    },
    {
     "data": {
      "text/plain": [
       "0.5942186744073537"
      ]
     },
     "execution_count": 25,
     "metadata": {},
     "output_type": "execute_result"
    }
   ],
   "source": [
    "log_reg=LogisticRegression(class_weight='balanced')\n",
    "log_reg.fit(X,y)\n",
    "log_reg.score(X,y)"
   ]
  },
  {
   "cell_type": "code",
   "execution_count": 26,
   "metadata": {},
   "outputs": [
    {
     "data": {
      "text/plain": [
       "array([[-2.35281267e-02, -3.35317854e-02, -1.05777181e-01,\n",
       "        -2.82980425e-03, -1.12006116e-01,  9.88048214e-03,\n",
       "         1.64062326e-02, -5.00188105e-03, -5.84234088e-02,\n",
       "        -9.10367545e-02,  7.84258301e-04,  1.09538956e-02,\n",
       "        -8.81053567e-05,  1.58974843e-02,  3.01751522e-03,\n",
       "        -3.09308515e-02,  3.43608134e-02]])"
      ]
     },
     "execution_count": 26,
     "metadata": {},
     "output_type": "execute_result"
    }
   ],
   "source": [
    "log_reg.coef_"
   ]
  },
  {
   "cell_type": "code",
   "execution_count": 89,
   "metadata": {},
   "outputs": [],
   "source": [
    "#pipe=Pipeline([(\"transformer\", mean_inputer),\n",
    "                 (\"Regressor\", LogisticRegression(max_iter=500) )])"
   ]
  },
  {
   "cell_type": "code",
   "execution_count": 105,
   "metadata": {},
   "outputs": [
    {
     "name": "stderr",
     "output_type": "stream",
     "text": [
      "/anaconda3/lib/python3.6/site-packages/sklearn/linear_model/logistic.py:432: FutureWarning: Default solver will be changed to 'lbfgs' in 0.22. Specify a solver to silence this warning.\n",
      "  FutureWarning)\n"
     ]
    },
    {
     "data": {
      "text/plain": [
       "Pipeline(memory=None,\n",
       "     steps=[('transformer', SimpleImputer(copy=True, fill_value=None, missing_values=nan, strategy='mean',\n",
       "       verbose=0)), ('Regressor', LogisticRegression(C=1.0, class_weight=None, dual=False, fit_intercept=True,\n",
       "          intercept_scaling=1, max_iter=500, multi_class='warn',\n",
       "          n_jobs=None, penalty='l2', random_state=None, solver='warn',\n",
       "          tol=0.0001, verbose=0, warm_start=False))])"
      ]
     },
     "execution_count": 105,
     "metadata": {},
     "output_type": "execute_result"
    }
   ],
   "source": [
    "#pipe.fit(X_dropped,y_dropped)\n",
    "\n",
    "#pipe.score(X_dropped,y_dropped)"
   ]
  },
  {
   "cell_type": "code",
   "execution_count": null,
   "metadata": {},
   "outputs": [],
   "source": [
    "#gs = GridSearchCV(\n",
    " #   LogisticRegression(class_weight='balanced'),\n",
    "  #  {\"C\": [0.1, 0.3, 0.5, 0.7, 0.9, 1.1, 1.3, 1.5, 1.7, 1.9],\n",
    "  #   \"max_iter\": [ 10,  30,  50,  70,  90, 110, 130, 150, 170, 190] },\n",
    "  #  cv=5,  # 5-fold cross validation\n",
    "  #  n_jobs=3,  # run each hyperparameter in one of two parallel jobs\n",
    "  #  scoring='recall',\n",
    "  #  verbose=1\n",
    "#)\n",
    "#gs.fit(X_dropped,y_dropped)"
   ]
  },
  {
   "cell_type": "code",
   "execution_count": 27,
   "metadata": {},
   "outputs": [
    {
     "name": "stdout",
     "output_type": "stream",
     "text": [
      "Fitting 5 folds for each of 55 candidates, totalling 275 fits\n"
     ]
    },
    {
     "name": "stderr",
     "output_type": "stream",
     "text": [
      "[Parallel(n_jobs=3)]: Using backend LokyBackend with 3 concurrent workers.\n",
      "[Parallel(n_jobs=3)]: Done  44 tasks      | elapsed:   19.6s\n",
      "[Parallel(n_jobs=3)]: Done 275 out of 275 | elapsed:   27.0s finished\n"
     ]
    },
    {
     "data": {
      "text/plain": [
       "GridSearchCV(cv=5, error_score=nan,\n",
       "             estimator=KNeighborsClassifier(algorithm='auto', leaf_size=30,\n",
       "                                            metric='minkowski',\n",
       "                                            metric_params=None, n_jobs=None,\n",
       "                                            n_neighbors=5, p=2,\n",
       "                                            weights='uniform'),\n",
       "             iid='deprecated', n_jobs=3,\n",
       "             param_grid={'leaf_size': range(25, 36),\n",
       "                         'n_neighbors': range(3, 8)},\n",
       "             pre_dispatch='2*n_jobs', refit=True, return_train_score=False,\n",
       "             scoring='precision', verbose=1)"
      ]
     },
     "execution_count": 27,
     "metadata": {},
     "output_type": "execute_result"
    }
   ],
   "source": [
    "knn = GridSearchCV(\n",
    "    neighbors.KNeighborsClassifier(),\n",
    "    {\"n_neighbors\": range(3, 8, 1), \"leaf_size\": range(25,36,1)},\n",
    "    cv=5,  # 5-fold cross validation\n",
    "    n_jobs=3,  # run each hyperparameter in one of two parallel jobs\n",
    "    scoring='precision',\n",
    "    verbose=1\n",
    ")\n",
    "knn.fit(X,y)"
   ]
  },
  {
   "cell_type": "code",
   "execution_count": 29,
   "metadata": {},
   "outputs": [
    {
     "data": {
      "text/plain": [
       "0.6428571428571429"
      ]
     },
     "execution_count": 29,
     "metadata": {},
     "output_type": "execute_result"
    }
   ],
   "source": [
    "knn.score(X,y)"
   ]
  },
  {
   "cell_type": "code",
   "execution_count": 31,
   "metadata": {},
   "outputs": [
    {
     "data": {
      "text/plain": [
       "{'leaf_size': 25, 'n_neighbors': 3}"
      ]
     },
     "execution_count": 31,
     "metadata": {},
     "output_type": "execute_result"
    }
   ],
   "source": [
    "knn.best_params_"
   ]
  },
  {
   "cell_type": "code",
   "execution_count": 30,
   "metadata": {},
   "outputs": [],
   "source": [
    "from imblearn.over_sampling import SMOTE\n",
    "\n",
    "smote = SMOTE(sampling_strategy='auto', random_state=0)\n",
    "smox, smoy = smote.fit_sample(X,y)"
   ]
  },
  {
   "cell_type": "code",
   "execution_count": 36,
   "metadata": {},
   "outputs": [
    {
     "name": "stdout",
     "output_type": "stream",
     "text": [
      "              precision    recall  f1-score   support\n",
      "\n",
      "       False       1.00      0.90      0.95      8073\n",
      "        True       0.91      1.00      0.95      8073\n",
      "\n",
      "    accuracy                           0.95     16146\n",
      "   macro avg       0.95      0.95      0.95     16146\n",
      "weighted avg       0.95      0.95      0.95     16146\n",
      "\n"
     ]
    },
    {
     "data": {
      "text/html": [
       "<div>\n",
       "<style scoped>\n",
       "    .dataframe tbody tr th:only-of-type {\n",
       "        vertical-align: middle;\n",
       "    }\n",
       "\n",
       "    .dataframe tbody tr th {\n",
       "        vertical-align: top;\n",
       "    }\n",
       "\n",
       "    .dataframe thead th {\n",
       "        text-align: right;\n",
       "    }\n",
       "</style>\n",
       "<table border=\"1\" class=\"dataframe\">\n",
       "  <thead>\n",
       "    <tr style=\"text-align: right;\">\n",
       "      <th></th>\n",
       "      <th>class 0 pred</th>\n",
       "      <th>class 1 pred</th>\n",
       "    </tr>\n",
       "  </thead>\n",
       "  <tbody>\n",
       "    <tr>\n",
       "      <th>class 0 actual</th>\n",
       "      <td>7267</td>\n",
       "      <td>806</td>\n",
       "    </tr>\n",
       "    <tr>\n",
       "      <th>class 1 actual</th>\n",
       "      <td>13</td>\n",
       "      <td>8060</td>\n",
       "    </tr>\n",
       "  </tbody>\n",
       "</table>\n",
       "</div>"
      ],
      "text/plain": [
       "                class 0 pred  class 1 pred\n",
       "class 0 actual          7267           806\n",
       "class 1 actual            13          8060"
      ]
     },
     "execution_count": 36,
     "metadata": {},
     "output_type": "execute_result"
    }
   ],
   "source": [
    "estimator=neighbors.KNeighborsClassifier(leaf_size=25, n_neighbors=3)\n",
    "\n",
    "estimator.fit(smox, smoy)\n",
    "y_knn_pred = estimator.predict(smox)\n",
    "print(classification_report(smoy, y_knn_pred))\n",
    "pd.DataFrame(confusion_matrix(smoy, y_knn_pred),\n",
    "             index = ['class 0 actual', 'class 1 actual'],\n",
    "             columns = ['class 0 pred', 'class 1 pred'])"
   ]
  },
  {
   "cell_type": "code",
   "execution_count": 39,
   "metadata": {},
   "outputs": [
    {
     "name": "stdout",
     "output_type": "stream",
     "text": [
      "              precision    recall  f1-score   support\n",
      "\n",
      "       False       1.00      0.90      0.95      8073\n",
      "        True       0.19      0.99      0.32       195\n",
      "\n",
      "    accuracy                           0.90      8268\n",
      "   macro avg       0.60      0.95      0.64      8268\n",
      "weighted avg       0.98      0.90      0.93      8268\n",
      "\n"
     ]
    },
    {
     "data": {
      "text/html": [
       "<div>\n",
       "<style scoped>\n",
       "    .dataframe tbody tr th:only-of-type {\n",
       "        vertical-align: middle;\n",
       "    }\n",
       "\n",
       "    .dataframe tbody tr th {\n",
       "        vertical-align: top;\n",
       "    }\n",
       "\n",
       "    .dataframe thead th {\n",
       "        text-align: right;\n",
       "    }\n",
       "</style>\n",
       "<table border=\"1\" class=\"dataframe\">\n",
       "  <thead>\n",
       "    <tr style=\"text-align: right;\">\n",
       "      <th></th>\n",
       "      <th>class 0 pred</th>\n",
       "      <th>class 1 pred</th>\n",
       "    </tr>\n",
       "  </thead>\n",
       "  <tbody>\n",
       "    <tr>\n",
       "      <th>class 0 actual</th>\n",
       "      <td>7267</td>\n",
       "      <td>806</td>\n",
       "    </tr>\n",
       "    <tr>\n",
       "      <th>class 1 actual</th>\n",
       "      <td>1</td>\n",
       "      <td>194</td>\n",
       "    </tr>\n",
       "  </tbody>\n",
       "</table>\n",
       "</div>"
      ],
      "text/plain": [
       "                class 0 pred  class 1 pred\n",
       "class 0 actual          7267           806\n",
       "class 1 actual             1           194"
      ]
     },
     "execution_count": 39,
     "metadata": {},
     "output_type": "execute_result"
    }
   ],
   "source": [
    "y_knn_pred_real = estimator.predict(X)\n",
    "print(classification_report(y, y_knn_pred_real))\n",
    "pd.DataFrame(confusion_matrix(y, y_knn_pred_real),\n",
    "             index = ['class 0 actual', 'class 1 actual'],\n",
    "             columns = ['class 0 pred', 'class 1 pred'])"
   ]
  },
  {
   "cell_type": "code",
   "execution_count": null,
   "metadata": {},
   "outputs": [],
   "source": []
  },
  {
   "cell_type": "code",
   "execution_count": 41,
   "metadata": {},
   "outputs": [],
   "source": [
    "from sklearn.svm import LinearSVC, SVC, NuSVC\n",
    "\n",
    "lsvc = LinearSVC(random_state=0, tol=1e-5, class_weight='balanced')"
   ]
  },
  {
   "cell_type": "code",
   "execution_count": 43,
   "metadata": {},
   "outputs": [
    {
     "name": "stdout",
     "output_type": "stream",
     "text": [
      "              precision    recall  f1-score   support\n",
      "\n",
      "       False       0.98      1.00      0.99      8073\n",
      "        True       0.00      0.00      0.00       195\n",
      "\n",
      "    accuracy                           0.98      8268\n",
      "   macro avg       0.49      0.50      0.49      8268\n",
      "weighted avg       0.95      0.98      0.96      8268\n",
      "\n"
     ]
    },
    {
     "name": "stderr",
     "output_type": "stream",
     "text": [
      "/anaconda3/lib/python3.6/site-packages/sklearn/svm/_base.py:947: ConvergenceWarning: Liblinear failed to converge, increase the number of iterations.\n",
      "  \"the number of iterations.\", ConvergenceWarning)\n"
     ]
    },
    {
     "data": {
      "text/html": [
       "<div>\n",
       "<style scoped>\n",
       "    .dataframe tbody tr th:only-of-type {\n",
       "        vertical-align: middle;\n",
       "    }\n",
       "\n",
       "    .dataframe tbody tr th {\n",
       "        vertical-align: top;\n",
       "    }\n",
       "\n",
       "    .dataframe thead th {\n",
       "        text-align: right;\n",
       "    }\n",
       "</style>\n",
       "<table border=\"1\" class=\"dataframe\">\n",
       "  <thead>\n",
       "    <tr style=\"text-align: right;\">\n",
       "      <th></th>\n",
       "      <th>class 0 pred</th>\n",
       "      <th>class 1 pred</th>\n",
       "    </tr>\n",
       "  </thead>\n",
       "  <tbody>\n",
       "    <tr>\n",
       "      <th>class 0 actual</th>\n",
       "      <td>8071</td>\n",
       "      <td>2</td>\n",
       "    </tr>\n",
       "    <tr>\n",
       "      <th>class 1 actual</th>\n",
       "      <td>195</td>\n",
       "      <td>0</td>\n",
       "    </tr>\n",
       "  </tbody>\n",
       "</table>\n",
       "</div>"
      ],
      "text/plain": [
       "                class 0 pred  class 1 pred\n",
       "class 0 actual          8071             2\n",
       "class 1 actual           195             0"
      ]
     },
     "execution_count": 43,
     "metadata": {},
     "output_type": "execute_result"
    }
   ],
   "source": [
    "lsvc.fit(X,y)\n",
    "\n",
    "y_lsvc_pred_real = lsvc.predict(X)\n",
    "print(classification_report(y, y_lsvc_pred_real))\n",
    "pd.DataFrame(confusion_matrix(y, y_lsvc_pred_real),\n",
    "             index = ['class 0 actual', 'class 1 actual'],\n",
    "             columns = ['class 0 pred', 'class 1 pred'])"
   ]
  },
  {
   "cell_type": "code",
   "execution_count": 45,
   "metadata": {},
   "outputs": [
    {
     "name": "stdout",
     "output_type": "stream",
     "text": [
      "              precision    recall  f1-score   support\n",
      "\n",
      "       False       0.71      0.22      0.34      8073\n",
      "        True       0.54      0.91      0.68      8073\n",
      "\n",
      "    accuracy                           0.57     16146\n",
      "   macro avg       0.63      0.57      0.51     16146\n",
      "weighted avg       0.63      0.57      0.51     16146\n",
      "\n"
     ]
    },
    {
     "name": "stderr",
     "output_type": "stream",
     "text": [
      "/anaconda3/lib/python3.6/site-packages/sklearn/svm/_base.py:947: ConvergenceWarning: Liblinear failed to converge, increase the number of iterations.\n",
      "  \"the number of iterations.\", ConvergenceWarning)\n"
     ]
    },
    {
     "data": {
      "text/html": [
       "<div>\n",
       "<style scoped>\n",
       "    .dataframe tbody tr th:only-of-type {\n",
       "        vertical-align: middle;\n",
       "    }\n",
       "\n",
       "    .dataframe tbody tr th {\n",
       "        vertical-align: top;\n",
       "    }\n",
       "\n",
       "    .dataframe thead th {\n",
       "        text-align: right;\n",
       "    }\n",
       "</style>\n",
       "<table border=\"1\" class=\"dataframe\">\n",
       "  <thead>\n",
       "    <tr style=\"text-align: right;\">\n",
       "      <th></th>\n",
       "      <th>class 0 pred</th>\n",
       "      <th>class 1 pred</th>\n",
       "    </tr>\n",
       "  </thead>\n",
       "  <tbody>\n",
       "    <tr>\n",
       "      <th>class 0 actual</th>\n",
       "      <td>1799</td>\n",
       "      <td>6274</td>\n",
       "    </tr>\n",
       "    <tr>\n",
       "      <th>class 1 actual</th>\n",
       "      <td>718</td>\n",
       "      <td>7355</td>\n",
       "    </tr>\n",
       "  </tbody>\n",
       "</table>\n",
       "</div>"
      ],
      "text/plain": [
       "                class 0 pred  class 1 pred\n",
       "class 0 actual          1799          6274\n",
       "class 1 actual           718          7355"
      ]
     },
     "execution_count": 45,
     "metadata": {},
     "output_type": "execute_result"
    }
   ],
   "source": [
    "lsvc.fit(smox,smoy)\n",
    "\n",
    "y_lsvc_pred = lsvc.predict(smox)\n",
    "print(classification_report(smoy, y_lsvc_pred))\n",
    "pd.DataFrame(confusion_matrix(smoy, y_lsvc_pred),\n",
    "             index = ['class 0 actual', 'class 1 actual'],\n",
    "             columns = ['class 0 pred', 'class 1 pred'])"
   ]
  },
  {
   "cell_type": "code",
   "execution_count": 20,
   "metadata": {},
   "outputs": [],
   "source": [
    "from sklearn.ensemble import RandomForestClassifier"
   ]
  },
  {
   "cell_type": "code",
   "execution_count": 6,
   "metadata": {},
   "outputs": [],
   "source": [
    "rfc=RandomForestClassifier(class_weight='balanced_subsample')"
   ]
  },
  {
   "cell_type": "code",
   "execution_count": 3,
   "metadata": {},
   "outputs": [],
   "source": [
    "X=pd.read_csv('allobservations.csv')"
   ]
  },
  {
   "cell_type": "code",
   "execution_count": 4,
   "metadata": {},
   "outputs": [],
   "source": [
    "y=X.label"
   ]
  },
  {
   "cell_type": "code",
   "execution_count": 5,
   "metadata": {},
   "outputs": [
    {
     "data": {
      "text/plain": [
       "pandas.core.series.Series"
      ]
     },
     "execution_count": 5,
     "metadata": {},
     "output_type": "execute_result"
    }
   ],
   "source": [
    "type(y)"
   ]
  },
  {
   "cell_type": "code",
   "execution_count": 75,
   "metadata": {},
   "outputs": [],
   "source": [
    "X.drop(columns=['Unnamed: 0'], inplace=True)"
   ]
  },
  {
   "cell_type": "code",
   "execution_count": 76,
   "metadata": {
    "scrolled": true
   },
   "outputs": [
    {
     "data": {
      "text/html": [
       "<div>\n",
       "<style scoped>\n",
       "    .dataframe tbody tr th:only-of-type {\n",
       "        vertical-align: middle;\n",
       "    }\n",
       "\n",
       "    .dataframe tbody tr th {\n",
       "        vertical-align: top;\n",
       "    }\n",
       "\n",
       "    .dataframe thead th {\n",
       "        text-align: right;\n",
       "    }\n",
       "</style>\n",
       "<table border=\"1\" class=\"dataframe\">\n",
       "  <thead>\n",
       "    <tr style=\"text-align: right;\">\n",
       "      <th></th>\n",
       "      <th>name</th>\n",
       "      <th>label</th>\n",
       "      <th>injured games</th>\n",
       "      <th>Sh</th>\n",
       "      <th>SoT</th>\n",
       "      <th>Touches</th>\n",
       "      <th>Press</th>\n",
       "      <th>Tkl</th>\n",
       "      <th>Int</th>\n",
       "      <th>Blocks</th>\n",
       "      <th>...</th>\n",
       "      <th>SCA</th>\n",
       "      <th>GCA</th>\n",
       "      <th>Cmp</th>\n",
       "      <th>Att</th>\n",
       "      <th>Cmp%</th>\n",
       "      <th>PrgDist</th>\n",
       "      <th>Carries</th>\n",
       "      <th>PrgDist.1</th>\n",
       "      <th>Succ</th>\n",
       "      <th>Att.1</th>\n",
       "    </tr>\n",
       "  </thead>\n",
       "  <tbody>\n",
       "    <tr>\n",
       "      <th>0</th>\n",
       "      <td>Kyle Naughton</td>\n",
       "      <td>0</td>\n",
       "      <td>0</td>\n",
       "      <td>-0.352941</td>\n",
       "      <td>-0.029412</td>\n",
       "      <td>-10.714171</td>\n",
       "      <td>-8.159759</td>\n",
       "      <td>-1.754211</td>\n",
       "      <td>2.959693</td>\n",
       "      <td>4.788302</td>\n",
       "      <td>...</td>\n",
       "      <td>-0.070388</td>\n",
       "      <td>-0.059492</td>\n",
       "      <td>-6.477340</td>\n",
       "      <td>-11.827206</td>\n",
       "      <td>5.261765</td>\n",
       "      <td>-78.657219</td>\n",
       "      <td>-13.281083</td>\n",
       "      <td>-52.997393</td>\n",
       "      <td>-1.123997</td>\n",
       "      <td>-1.623997</td>\n",
       "    </tr>\n",
       "    <tr>\n",
       "      <th>1</th>\n",
       "      <td>Kyle Naughton</td>\n",
       "      <td>0</td>\n",
       "      <td>0</td>\n",
       "      <td>-0.352941</td>\n",
       "      <td>-0.029412</td>\n",
       "      <td>-1.714171</td>\n",
       "      <td>-6.159759</td>\n",
       "      <td>0.245789</td>\n",
       "      <td>-1.040307</td>\n",
       "      <td>-2.211698</td>\n",
       "      <td>...</td>\n",
       "      <td>-0.070388</td>\n",
       "      <td>-0.059492</td>\n",
       "      <td>-0.477340</td>\n",
       "      <td>2.172794</td>\n",
       "      <td>-2.538235</td>\n",
       "      <td>122.342781</td>\n",
       "      <td>2.718917</td>\n",
       "      <td>-43.997393</td>\n",
       "      <td>-1.123997</td>\n",
       "      <td>-1.623997</td>\n",
       "    </tr>\n",
       "    <tr>\n",
       "      <th>2</th>\n",
       "      <td>Kyle Naughton</td>\n",
       "      <td>0</td>\n",
       "      <td>0</td>\n",
       "      <td>-0.352941</td>\n",
       "      <td>-0.029412</td>\n",
       "      <td>2.967647</td>\n",
       "      <td>-6.977941</td>\n",
       "      <td>0.313971</td>\n",
       "      <td>0.005147</td>\n",
       "      <td>-2.188971</td>\n",
       "      <td>...</td>\n",
       "      <td>1.997794</td>\n",
       "      <td>0.963235</td>\n",
       "      <td>9.727206</td>\n",
       "      <td>6.672794</td>\n",
       "      <td>7.961765</td>\n",
       "      <td>18.888235</td>\n",
       "      <td>1.650735</td>\n",
       "      <td>29.138971</td>\n",
       "      <td>2.966912</td>\n",
       "      <td>2.466912</td>\n",
       "    </tr>\n",
       "    <tr>\n",
       "      <th>3</th>\n",
       "      <td>Kyle Naughton</td>\n",
       "      <td>0</td>\n",
       "      <td>0</td>\n",
       "      <td>-0.352941</td>\n",
       "      <td>-0.029412</td>\n",
       "      <td>30.285829</td>\n",
       "      <td>-2.159759</td>\n",
       "      <td>-2.754211</td>\n",
       "      <td>-1.040307</td>\n",
       "      <td>-2.211698</td>\n",
       "      <td>...</td>\n",
       "      <td>-0.070388</td>\n",
       "      <td>-0.059492</td>\n",
       "      <td>24.522660</td>\n",
       "      <td>32.172794</td>\n",
       "      <td>1.861765</td>\n",
       "      <td>196.342781</td>\n",
       "      <td>21.718917</td>\n",
       "      <td>-50.997393</td>\n",
       "      <td>1.876003</td>\n",
       "      <td>1.376003</td>\n",
       "    </tr>\n",
       "    <tr>\n",
       "      <th>4</th>\n",
       "      <td>Kyle Naughton</td>\n",
       "      <td>0</td>\n",
       "      <td>0</td>\n",
       "      <td>-0.352941</td>\n",
       "      <td>-0.029412</td>\n",
       "      <td>-35.714171</td>\n",
       "      <td>3.840241</td>\n",
       "      <td>1.245789</td>\n",
       "      <td>-0.040307</td>\n",
       "      <td>-1.211698</td>\n",
       "      <td>...</td>\n",
       "      <td>-1.070388</td>\n",
       "      <td>-0.059492</td>\n",
       "      <td>-28.477340</td>\n",
       "      <td>-35.827206</td>\n",
       "      <td>-8.338235</td>\n",
       "      <td>-169.657219</td>\n",
       "      <td>-22.281083</td>\n",
       "      <td>-87.997393</td>\n",
       "      <td>0.876003</td>\n",
       "      <td>0.376003</td>\n",
       "    </tr>\n",
       "  </tbody>\n",
       "</table>\n",
       "<p>5 rows × 23 columns</p>\n",
       "</div>"
      ],
      "text/plain": [
       "            name  label  injured games        Sh       SoT    Touches  \\\n",
       "0  Kyle Naughton      0              0 -0.352941 -0.029412 -10.714171   \n",
       "1  Kyle Naughton      0              0 -0.352941 -0.029412  -1.714171   \n",
       "2  Kyle Naughton      0              0 -0.352941 -0.029412   2.967647   \n",
       "3  Kyle Naughton      0              0 -0.352941 -0.029412  30.285829   \n",
       "4  Kyle Naughton      0              0 -0.352941 -0.029412 -35.714171   \n",
       "\n",
       "      Press       Tkl       Int    Blocks  ...       SCA       GCA        Cmp  \\\n",
       "0 -8.159759 -1.754211  2.959693  4.788302  ... -0.070388 -0.059492  -6.477340   \n",
       "1 -6.159759  0.245789 -1.040307 -2.211698  ... -0.070388 -0.059492  -0.477340   \n",
       "2 -6.977941  0.313971  0.005147 -2.188971  ...  1.997794  0.963235   9.727206   \n",
       "3 -2.159759 -2.754211 -1.040307 -2.211698  ... -0.070388 -0.059492  24.522660   \n",
       "4  3.840241  1.245789 -0.040307 -1.211698  ... -1.070388 -0.059492 -28.477340   \n",
       "\n",
       "         Att      Cmp%     PrgDist    Carries  PrgDist.1      Succ     Att.1  \n",
       "0 -11.827206  5.261765  -78.657219 -13.281083 -52.997393 -1.123997 -1.623997  \n",
       "1   2.172794 -2.538235  122.342781   2.718917 -43.997393 -1.123997 -1.623997  \n",
       "2   6.672794  7.961765   18.888235   1.650735  29.138971  2.966912  2.466912  \n",
       "3  32.172794  1.861765  196.342781  21.718917 -50.997393  1.876003  1.376003  \n",
       "4 -35.827206 -8.338235 -169.657219 -22.281083 -87.997393  0.876003  0.376003  \n",
       "\n",
       "[5 rows x 23 columns]"
      ]
     },
     "execution_count": 76,
     "metadata": {},
     "output_type": "execute_result"
    }
   ],
   "source": [
    "X.head()"
   ]
  },
  {
   "cell_type": "code",
   "execution_count": 79,
   "metadata": {},
   "outputs": [],
   "source": [
    "X = X.apply(counter, axis =1)"
   ]
  },
  {
   "cell_type": "code",
   "execution_count": 80,
   "metadata": {},
   "outputs": [
    {
     "data": {
      "text/html": [
       "<div>\n",
       "<style scoped>\n",
       "    .dataframe tbody tr th:only-of-type {\n",
       "        vertical-align: middle;\n",
       "    }\n",
       "\n",
       "    .dataframe tbody tr th {\n",
       "        vertical-align: top;\n",
       "    }\n",
       "\n",
       "    .dataframe thead th {\n",
       "        text-align: right;\n",
       "    }\n",
       "</style>\n",
       "<table border=\"1\" class=\"dataframe\">\n",
       "  <thead>\n",
       "    <tr style=\"text-align: right;\">\n",
       "      <th></th>\n",
       "      <th>name</th>\n",
       "      <th>label</th>\n",
       "      <th>injured games</th>\n",
       "      <th>Sh</th>\n",
       "      <th>SoT</th>\n",
       "      <th>Touches</th>\n",
       "      <th>Press</th>\n",
       "      <th>Tkl</th>\n",
       "      <th>Int</th>\n",
       "      <th>Blocks</th>\n",
       "      <th>...</th>\n",
       "      <th>GCA</th>\n",
       "      <th>Cmp</th>\n",
       "      <th>Att</th>\n",
       "      <th>Cmp%</th>\n",
       "      <th>PrgDist</th>\n",
       "      <th>Carries</th>\n",
       "      <th>PrgDist.1</th>\n",
       "      <th>Succ</th>\n",
       "      <th>Att.1</th>\n",
       "      <th>negative</th>\n",
       "    </tr>\n",
       "  </thead>\n",
       "  <tbody>\n",
       "    <tr>\n",
       "      <th>0</th>\n",
       "      <td>Kyle Naughton</td>\n",
       "      <td>0</td>\n",
       "      <td>0</td>\n",
       "      <td>-0.352941</td>\n",
       "      <td>-0.029412</td>\n",
       "      <td>-10.714171</td>\n",
       "      <td>-8.159759</td>\n",
       "      <td>-1.754211</td>\n",
       "      <td>2.959693</td>\n",
       "      <td>4.788302</td>\n",
       "      <td>...</td>\n",
       "      <td>-0.059492</td>\n",
       "      <td>-6.477340</td>\n",
       "      <td>-11.827206</td>\n",
       "      <td>5.261765</td>\n",
       "      <td>-78.657219</td>\n",
       "      <td>-13.281083</td>\n",
       "      <td>-52.997393</td>\n",
       "      <td>-1.123997</td>\n",
       "      <td>-1.623997</td>\n",
       "      <td>16</td>\n",
       "    </tr>\n",
       "    <tr>\n",
       "      <th>1</th>\n",
       "      <td>Kyle Naughton</td>\n",
       "      <td>0</td>\n",
       "      <td>0</td>\n",
       "      <td>-0.352941</td>\n",
       "      <td>-0.029412</td>\n",
       "      <td>-1.714171</td>\n",
       "      <td>-6.159759</td>\n",
       "      <td>0.245789</td>\n",
       "      <td>-1.040307</td>\n",
       "      <td>-2.211698</td>\n",
       "      <td>...</td>\n",
       "      <td>-0.059492</td>\n",
       "      <td>-0.477340</td>\n",
       "      <td>2.172794</td>\n",
       "      <td>-2.538235</td>\n",
       "      <td>122.342781</td>\n",
       "      <td>2.718917</td>\n",
       "      <td>-43.997393</td>\n",
       "      <td>-1.123997</td>\n",
       "      <td>-1.623997</td>\n",
       "      <td>15</td>\n",
       "    </tr>\n",
       "    <tr>\n",
       "      <th>2</th>\n",
       "      <td>Kyle Naughton</td>\n",
       "      <td>0</td>\n",
       "      <td>0</td>\n",
       "      <td>-0.352941</td>\n",
       "      <td>-0.029412</td>\n",
       "      <td>2.967647</td>\n",
       "      <td>-6.977941</td>\n",
       "      <td>0.313971</td>\n",
       "      <td>0.005147</td>\n",
       "      <td>-2.188971</td>\n",
       "      <td>...</td>\n",
       "      <td>0.963235</td>\n",
       "      <td>9.727206</td>\n",
       "      <td>6.672794</td>\n",
       "      <td>7.961765</td>\n",
       "      <td>18.888235</td>\n",
       "      <td>1.650735</td>\n",
       "      <td>29.138971</td>\n",
       "      <td>2.966912</td>\n",
       "      <td>2.466912</td>\n",
       "      <td>6</td>\n",
       "    </tr>\n",
       "    <tr>\n",
       "      <th>3</th>\n",
       "      <td>Kyle Naughton</td>\n",
       "      <td>0</td>\n",
       "      <td>0</td>\n",
       "      <td>-0.352941</td>\n",
       "      <td>-0.029412</td>\n",
       "      <td>30.285829</td>\n",
       "      <td>-2.159759</td>\n",
       "      <td>-2.754211</td>\n",
       "      <td>-1.040307</td>\n",
       "      <td>-2.211698</td>\n",
       "      <td>...</td>\n",
       "      <td>-0.059492</td>\n",
       "      <td>24.522660</td>\n",
       "      <td>32.172794</td>\n",
       "      <td>1.861765</td>\n",
       "      <td>196.342781</td>\n",
       "      <td>21.718917</td>\n",
       "      <td>-50.997393</td>\n",
       "      <td>1.876003</td>\n",
       "      <td>1.376003</td>\n",
       "      <td>10</td>\n",
       "    </tr>\n",
       "    <tr>\n",
       "      <th>4</th>\n",
       "      <td>Kyle Naughton</td>\n",
       "      <td>0</td>\n",
       "      <td>0</td>\n",
       "      <td>-0.352941</td>\n",
       "      <td>-0.029412</td>\n",
       "      <td>-35.714171</td>\n",
       "      <td>3.840241</td>\n",
       "      <td>1.245789</td>\n",
       "      <td>-0.040307</td>\n",
       "      <td>-1.211698</td>\n",
       "      <td>...</td>\n",
       "      <td>-0.059492</td>\n",
       "      <td>-28.477340</td>\n",
       "      <td>-35.827206</td>\n",
       "      <td>-8.338235</td>\n",
       "      <td>-169.657219</td>\n",
       "      <td>-22.281083</td>\n",
       "      <td>-87.997393</td>\n",
       "      <td>0.876003</td>\n",
       "      <td>0.376003</td>\n",
       "      <td>15</td>\n",
       "    </tr>\n",
       "  </tbody>\n",
       "</table>\n",
       "<p>5 rows × 24 columns</p>\n",
       "</div>"
      ],
      "text/plain": [
       "            name  label  injured games        Sh       SoT    Touches  \\\n",
       "0  Kyle Naughton      0              0 -0.352941 -0.029412 -10.714171   \n",
       "1  Kyle Naughton      0              0 -0.352941 -0.029412  -1.714171   \n",
       "2  Kyle Naughton      0              0 -0.352941 -0.029412   2.967647   \n",
       "3  Kyle Naughton      0              0 -0.352941 -0.029412  30.285829   \n",
       "4  Kyle Naughton      0              0 -0.352941 -0.029412 -35.714171   \n",
       "\n",
       "      Press       Tkl       Int    Blocks  ...       GCA        Cmp  \\\n",
       "0 -8.159759 -1.754211  2.959693  4.788302  ... -0.059492  -6.477340   \n",
       "1 -6.159759  0.245789 -1.040307 -2.211698  ... -0.059492  -0.477340   \n",
       "2 -6.977941  0.313971  0.005147 -2.188971  ...  0.963235   9.727206   \n",
       "3 -2.159759 -2.754211 -1.040307 -2.211698  ... -0.059492  24.522660   \n",
       "4  3.840241  1.245789 -0.040307 -1.211698  ... -0.059492 -28.477340   \n",
       "\n",
       "         Att      Cmp%     PrgDist    Carries  PrgDist.1      Succ     Att.1  \\\n",
       "0 -11.827206  5.261765  -78.657219 -13.281083 -52.997393 -1.123997 -1.623997   \n",
       "1   2.172794 -2.538235  122.342781   2.718917 -43.997393 -1.123997 -1.623997   \n",
       "2   6.672794  7.961765   18.888235   1.650735  29.138971  2.966912  2.466912   \n",
       "3  32.172794  1.861765  196.342781  21.718917 -50.997393  1.876003  1.376003   \n",
       "4 -35.827206 -8.338235 -169.657219 -22.281083 -87.997393  0.876003  0.376003   \n",
       "\n",
       "   negative  \n",
       "0        16  \n",
       "1        15  \n",
       "2         6  \n",
       "3        10  \n",
       "4        15  \n",
       "\n",
       "[5 rows x 24 columns]"
      ]
     },
     "execution_count": 80,
     "metadata": {},
     "output_type": "execute_result"
    }
   ],
   "source": [
    "X.head()"
   ]
  },
  {
   "cell_type": "code",
   "execution_count": 83,
   "metadata": {},
   "outputs": [],
   "source": [
    "injuries_samples = X[X['label'] == 1].sample(n=50, random_state=1)"
   ]
  },
  {
   "cell_type": "code",
   "execution_count": 84,
   "metadata": {},
   "outputs": [],
   "source": [
    "noinjuries_samples = X[X['label'] == 0].sample(n=50, random_state=1)"
   ]
  },
  {
   "cell_type": "code",
   "execution_count": 86,
   "metadata": {},
   "outputs": [],
   "source": [
    "plot_samples = pd.concat([injuries_samples,noinjuries_samples])"
   ]
  },
  {
   "cell_type": "code",
   "execution_count": 98,
   "metadata": {},
   "outputs": [],
   "source": [
    "def one_hot(row):\n",
    "    if row['label'] == 0:\n",
    "        row['label'] = 'no'\n",
    "    elif row['label'] == 1:\n",
    "        row['label'] = 'yes'\n",
    "    return row\n",
    "        "
   ]
  },
  {
   "cell_type": "code",
   "execution_count": 105,
   "metadata": {},
   "outputs": [],
   "source": [
    "plot_sample = plot_samples.apply(one_hot, axis = 1)"
   ]
  },
  {
   "cell_type": "code",
   "execution_count": 113,
   "metadata": {},
   "outputs": [],
   "source": [
    "plot_sample.rename(columns={'label':'injured?','negative':'negative features'}, inplace=True)"
   ]
  },
  {
   "cell_type": "code",
   "execution_count": 87,
   "metadata": {},
   "outputs": [],
   "source": [
    "import altair as alt"
   ]
  },
  {
   "cell_type": "code",
   "execution_count": 117,
   "metadata": {},
   "outputs": [
    {
     "data": {
      "text/html": [
       "\n",
       "<div id=\"altair-viz-f2a0bd95db6249188b5d2a670819131f\"></div>\n",
       "<script type=\"text/javascript\">\n",
       "  (function(spec, embedOpt){\n",
       "    let outputDiv = document.currentScript.previousElementSibling;\n",
       "    if (outputDiv.id !== \"altair-viz-f2a0bd95db6249188b5d2a670819131f\") {\n",
       "      outputDiv = document.getElementById(\"altair-viz-f2a0bd95db6249188b5d2a670819131f\");\n",
       "    }\n",
       "    const paths = {\n",
       "      \"vega\": \"https://cdn.jsdelivr.net/npm//vega@5?noext\",\n",
       "      \"vega-lib\": \"https://cdn.jsdelivr.net/npm//vega-lib?noext\",\n",
       "      \"vega-lite\": \"https://cdn.jsdelivr.net/npm//vega-lite@4.8.1?noext\",\n",
       "      \"vega-embed\": \"https://cdn.jsdelivr.net/npm//vega-embed@6?noext\",\n",
       "    };\n",
       "\n",
       "    function loadScript(lib) {\n",
       "      return new Promise(function(resolve, reject) {\n",
       "        var s = document.createElement('script');\n",
       "        s.src = paths[lib];\n",
       "        s.async = true;\n",
       "        s.onload = () => resolve(paths[lib]);\n",
       "        s.onerror = () => reject(`Error loading script: ${paths[lib]}`);\n",
       "        document.getElementsByTagName(\"head\")[0].appendChild(s);\n",
       "      });\n",
       "    }\n",
       "\n",
       "    function showError(err) {\n",
       "      outputDiv.innerHTML = `<div class=\"error\" style=\"color:red;\">${err}</div>`;\n",
       "      throw err;\n",
       "    }\n",
       "\n",
       "    function displayChart(vegaEmbed) {\n",
       "      vegaEmbed(outputDiv, spec, embedOpt)\n",
       "        .catch(err => showError(`Javascript Error: ${err.message}<br>This usually means there's a typo in your chart specification. See the javascript console for the full traceback.`));\n",
       "    }\n",
       "\n",
       "    if(typeof define === \"function\" && define.amd) {\n",
       "      requirejs.config({paths});\n",
       "      require([\"vega-embed\"], displayChart, err => showError(`Error loading script: ${err.message}`));\n",
       "    } else if (typeof vegaEmbed === \"function\") {\n",
       "      displayChart(vegaEmbed);\n",
       "    } else {\n",
       "      loadScript(\"vega\")\n",
       "        .then(() => loadScript(\"vega-lite\"))\n",
       "        .then(() => loadScript(\"vega-embed\"))\n",
       "        .catch(showError)\n",
       "        .then(() => displayChart(vegaEmbed));\n",
       "    }\n",
       "  })({\"config\": {\"view\": {\"continuousWidth\": 600, \"continuousHeight\": 450}, \"axis\": {\"labelFontSize\": 12, \"titleFontSize\": 14}, \"legend\": {\"labelFontSize\": 12, \"symbolSize\": 400, \"titleFontSize\": 14}, \"title\": {\"fontSize\": 16}}, \"data\": {\"name\": \"data-34d7e5309ad21ec2ac6503dacdffd971\"}, \"mark\": \"point\", \"encoding\": {\"color\": {\"type\": \"nominal\", \"field\": \"injured?\"}, \"tooltip\": [{\"type\": \"nominal\", \"field\": \"name\"}, {\"type\": \"nominal\", \"field\": \"injured?\"}], \"x\": {\"type\": \"quantitative\", \"field\": \"negative features\"}, \"y\": {\"type\": \"quantitative\", \"field\": \"injured games\"}}, \"$schema\": \"https://vega.github.io/schema/vega-lite/v4.8.1.json\", \"datasets\": {\"data-34d7e5309ad21ec2ac6503dacdffd971\": [{\"name\": \"Michail Antonio\", \"injured?\": \"yes\", \"injured games\": 8, \"Sh\": 0.3902948835918827, \"SoT\": -0.9359413642190312, \"Touches\": 11.448469808243622, \"Press\": 1.3520917399189651, \"Tkl\": -0.9112394957983192, \"Int\": -0.9898034601867356, \"Blocks\": -1.5909932154680055, \"xG\": -0.1313266099968493, \"npxG\": -0.1313266099968493, \"xA\": -0.07855243792432227, \"SCA\": -2.214560235007604, \"GCA\": -0.2058823529411765, \"Cmp\": -5.89440074661098, \"Att\": 1.9914915517515157, \"Cmp%\": -20.79047619047619, \"PrgDist\": -81.0496165555615, \"Carries\": 9.59587815771242, \"PrgDist.1\": 103.82386515525448, \"Succ\": 6.7208596732972135, \"Att.1\": 7.813743258008986, \"negative features\": 12}, {\"name\": \"Alex Ferrari\", \"injured?\": \"yes\", \"injured games\": 3, \"Sh\": 0.64, \"SoT\": -0.04, \"Touches\": -9.673157894736846, \"Press\": 4.965112781954884, \"Tkl\": 0.7862406015037595, \"Int\": 0.8736842105263158, \"Blocks\": -0.4148872180451133, \"xG\": 0.08, \"npxG\": 0.08, \"xA\": -0.02, \"SCA\": 1.36, \"GCA\": -0.08, \"Cmp\": -3.150827067669184, \"Att\": -7.652481203007525, \"Cmp%\": 7.383999999999973, \"PrgDist\": 32.24105263157895, \"Carries\": -0.5342857142857156, \"PrgDist.1\": 33.966842105263154, \"Succ\": 0.11368421052631572, \"Att.1\": -0.3906015037593986, \"negative features\": 9}, {\"name\": \"Thomas Vermaelen\", \"injured?\": \"yes\", \"injured games\": 1, \"Sh\": -0.3641025641025641, \"SoT\": -0.06666666666666668, \"Touches\": -20.117845741730488, \"Press\": -6.680247459125058, \"Tkl\": -0.8155251141552512, \"Int\": 4.4733683420855215, \"Blocks\": 0.9534883720930228, \"xG\": -0.0594871794871795, \"npxG\": -0.0594871794871795, \"xA\": -0.03333333333333333, \"SCA\": -0.4, \"GCA\": -0.06666666666666668, \"Cmp\": -19.56331200819173, \"Att\": -18.360381138488, \"Cmp%\": -7.126666666666638, \"PrgDist\": -116.00514201258436, \"Carries\": -23.53486459075253, \"PrgDist.1\": -83.60744327283084, \"Succ\": -0.06666666666666668, \"Att.1\": -0.13333333333333333, \"negative features\": 17}, {\"name\": \"David Alaba\", \"injured?\": \"yes\", \"injured games\": 0, \"Sh\": 2.4142889911948875, \"SoT\": 2.131754744619545, \"Touches\": 14.112740747843162, \"Press\": -7.410273465194226, \"Tkl\": -0.2370782297951681, \"Int\": -0.8913043478260869, \"Blocks\": -2.0273591171511782, \"xG\": 0.08314472900536035, \"npxG\": 0.08314472900536035, \"xA\": 0.2537820131030375, \"SCA\": 1.8910065515187608, \"GCA\": -0.17391304347826084, \"Cmp\": 17.535247919800042, \"Att\": 15.087856996883446, \"Cmp%\": 6.173913043478265, \"PrgDist\": -49.55594528806458, \"Carries\": 27.48250560423954, \"PrgDist.1\": 41.535263666960866, \"Succ\": 2.8856462179868974, \"Att.1\": 2.3676878058885986, \"negative features\": 6}, {\"name\": \"Jordan Amavi\", \"injured?\": \"yes\", \"injured games\": 0, \"Sh\": 0.2592592592592593, \"SoT\": -0.1851851851851852, \"Touches\": -3.1455478248647215, \"Press\": 16.1863623585635, \"Tkl\": 1.2488865169723804, \"Int\": 2.2442129629629632, \"Blocks\": -1.8418436819172117, \"xG\": -0.007407407407407408, \"npxG\": -0.007407407407407408, \"xA\": -0.1675065008082086, \"SCA\": -3.090350253004427, \"GCA\": 0.6546840958605664, \"Cmp\": 0.6568847072879294, \"Att\": -1.9150151099866408, \"Cmp%\": 4.7962962962962905, \"PrgDist\": -73.85685264249071, \"Carries\": 3.7041385550636012, \"PrgDist.1\": 12.076250527092526, \"Succ\": -0.4004629629629628, \"Att.1\": 1.3323999402628433, \"negative features\": 10}, {\"name\": \"Alberto de la Bella\", \"injured?\": \"yes\", \"injured games\": 8, \"Sh\": -0.2352941176470588, \"SoT\": -0.05882352941176471, \"Touches\": -3.282881692002647, \"Press\": -0.06278916060806239, \"Tkl\": 0.05684071381361555, \"Int\": -0.4124256444150691, \"Blocks\": 0.5869134170522137, \"xG\": -0.011764705882352941, \"npxG\": -0.011764705882352941, \"xA\": -0.10588235294117647, \"SCA\": -1.706543291473893, \"GCA\": -0.05882352941176471, \"Cmp\": -5.798413747521478, \"Att\": -4.92531394580304, \"Cmp%\": -3.2117647058823597, \"PrgDist\": -169.29015201586247, \"Carries\": -6.914077990746862, \"PrgDist.1\": -40.09715796430932, \"Succ\": -0.35294117647058826, \"Att.1\": -0.7647058823529411, \"negative features\": 17}, {\"name\": \"Valentin Rongier\", \"injured?\": \"yes\", \"injured games\": 4, \"Sh\": -0.9394114626698328, \"SoT\": -0.19400643823657795, \"Touches\": -8.123386963426498, \"Press\": -8.380680766160799, \"Tkl\": -2.3956961449789955, \"Int\": 5.922330185476563, \"Blocks\": -1.865626181058236, \"xG\": -0.04195131949933347, \"npxG\": -0.04195131949933347, \"xA\": -0.04269216312810814, \"SCA\": -2.230243990893172, \"GCA\": -0.17957448010849908, \"Cmp\": -11.87584694158582, \"Att\": -19.170071297606057, \"Cmp%\": 14.843750000000016, \"PrgDist\": -97.74121081855611, \"Carries\": -0.24023529366971985, \"PrgDist.1\": -92.6228748412153, \"Succ\": -1.907916412385226, \"Att.1\": -2.328293987396421, \"negative features\": 17}, {\"name\": \"Nathaniel Chalobah\", \"injured?\": \"yes\", \"injured games\": 0, \"Sh\": 0.4761904761904754, \"SoT\": 0.5714285714285713, \"Touches\": -6.547619047619038, \"Press\": 1.6190476190476168, \"Tkl\": -1.5, \"Int\": 0.6428571428571423, \"Blocks\": -2.0, \"xG\": -0.026190476190476156, \"npxG\": -0.026190476190476156, \"xA\": 0.0, \"SCA\": -0.3333333333333333, \"GCA\": 0.0, \"Cmp\": -2.047619047619051, \"Att\": -8.428571428571429, \"Cmp%\": 12.416666666666654, \"PrgDist\": 1.404761904761898, \"Carries\": -7.7142857142857135, \"PrgDist.1\": -47.28571428571429, \"Succ\": 0.2380952380952379, \"Att.1\": 1.5476190476190474, \"negative features\": 10}, {\"name\": \"Facundo Roncaglia\", \"injured?\": \"yes\", \"injured games\": 0, \"Sh\": -0.43125, \"SoT\": -0.140625, \"Touches\": -3.151182432432435, \"Press\": -0.8698873873873865, \"Tkl\": 0.5652759009009011, \"Int\": 1.9410867117117117, \"Blocks\": -0.4766666666666664, \"xG\": -0.06125000000000001, \"npxG\": -0.06125000000000001, \"xA\": 0.0, \"SCA\": 0.474375, \"GCA\": 0.0, \"Cmp\": 0.528873873873863, \"Att\": -2.3397691441441566, \"Cmp%\": 4.690000000000026, \"PrgDist\": 6.136069819819737, \"Carries\": -4.23545045045045, \"PrgDist.1\": -16.197646396396408, \"Succ\": -0.5774774774774775, \"Att.1\": -0.6274774774774775, \"negative features\": 11}, {\"name\": \"Rick Karsdorp\", \"injured?\": \"yes\", \"injured games\": 3, \"Sh\": 0.0, \"SoT\": 0.0, \"Touches\": 0.0, \"Press\": -8.881784197001252e-16, \"Tkl\": 0.0, \"Int\": 0.0, \"Blocks\": 0.0, \"xG\": 0.0, \"npxG\": 0.0, \"xA\": 0.0, \"SCA\": 0.0, \"GCA\": 0.0, \"Cmp\": 7.105427357601002e-15, \"Att\": 0.0, \"Cmp%\": 0.0, \"PrgDist\": 0.0, \"Carries\": 0.0, \"PrgDist.1\": 0.0, \"Succ\": 0.0, \"Att.1\": 0.0, \"negative features\": 1}, {\"name\": \"Jens Stryger Larsen\", \"injured?\": \"yes\", \"injured games\": 2, \"Sh\": 2.4242424242424243, \"SoT\": -0.18181818181818185, \"Touches\": 15.715765247410815, \"Press\": -1.6137322593018817, \"Tkl\": 0.5370157268891445, \"Int\": 0.8097429996164172, \"Blocks\": 0.21212121212121213, \"xG\": 0.057575757575757586, \"npxG\": 0.057575757575757586, \"xA\": -0.027272727272727268, \"SCA\": -0.7575757575757576, \"GCA\": -0.15151515151515152, \"Cmp\": 5.684695051783656, \"Att\": 7.966628308400459, \"Cmp%\": 0.06666666666666288, \"PrgDist\": -80.09819716148832, \"Carries\": 3.93479094744918, \"PrgDist.1\": 31.385500575373996, \"Succ\": -0.30303030303030304, \"Att.1\": -0.5757575757575758, \"negative features\": 8}, {\"name\": \"Vedad Ibisevic\", \"injured?\": \"yes\", \"injured games\": 0, \"Sh\": 3.8333248003799416, \"SoT\": -0.7665189295584953, \"Touches\": -5.886295255094937, \"Press\": -9.210678056471806, \"Tkl\": -0.4964789474610128, \"Int\": -0.2689230052527484, \"Blocks\": -0.3924670725707153, \"xG\": -0.4916665271900038, \"npxG\": -0.3235378722192435, \"xA\": -0.4617672191042563, \"SCA\": -3.76470344887968, \"GCA\": -0.3965714940947139, \"Cmp\": -11.401983378943696, \"Att\": -19.439173099843927, \"Cmp%\": 29.02962962962964, \"PrgDist\": -46.837696517921785, \"Carries\": -12.125406941888214, \"PrgDist.1\": -47.309819973159954, \"Succ\": -0.8121607190600334, \"Att.1\": -1.6309047890790733, \"negative features\": 18}, {\"name\": \"Neymar\", \"injured?\": \"yes\", \"injured games\": 1, \"Sh\": 4.461745871250422, \"SoT\": 3.997977755308392, \"Touches\": 14.525109538254128, \"Press\": 0.1371755982473868, \"Tkl\": 0.21536905965621844, \"Int\": -0.17391304347826084, \"Blocks\": -0.4830917874396135, \"xG\": 1.5500393214245591, \"npxG\": 0.8804741040332547, \"xA\": 0.5299516908212561, \"SCA\": 1.6364453432198616, \"GCA\": 3.5100550499943823, \"Cmp\": 5.701718907987868, \"Att\": 9.153690596562186, \"Cmp%\": -1.6999999999999744, \"PrgDist\": -23.67981125716216, \"Carries\": 22.7691270643748, \"PrgDist.1\": 174.64048983260312, \"Succ\": 2.9746095944275925, \"Att.1\": 1.4234355690371867, \"negative features\": 4}, {\"name\": \"Shinji Okazaki\", \"injured?\": \"yes\", \"injured games\": 0, \"Sh\": -2.7296241068023632, \"SoT\": -0.5894306005717607, \"Touches\": -28.719435822301396, \"Press\": -0.817867212423085, \"Tkl\": 1.9442223552363551, \"Int\": -0.6379648457064505, \"Blocks\": -2.260827022232444, \"xG\": -0.43392611512903545, \"npxG\": -0.43392611512903545, \"xA\": -0.4064851660207697, \"SCA\": -3.914108943293206, \"GCA\": -0.24278929504554, \"Cmp\": -12.464946736567304, \"Att\": -17.194685558919197, \"Cmp%\": 11.75, \"PrgDist\": -29.48302949557129, \"Carries\": -19.737220403864733, \"PrgDist.1\": -32.69194766964584, \"Succ\": -2.4603244782756786, \"Att.1\": -5.701276358866317, \"negative features\": 17}, {\"name\": \"Neymar\", \"injured?\": \"yes\", \"injured games\": 1, \"Sh\": -1.2049207954162453, \"SoT\": -2.002022244691608, \"Touches\": -22.808223795079197, \"Press\": 3.470508931580719, \"Tkl\": -0.7846309403437816, \"Int\": -0.17391304347826084, \"Blocks\": 0.6280193236714977, \"xG\": -0.30551623413099643, \"npxG\": -0.17508145152230087, \"xA\": -0.4589371980676328, \"SCA\": -6.141332434557916, \"GCA\": 0.7322772722166049, \"Cmp\": -13.298281092012134, \"Att\": -19.84630940343781, \"Cmp%\": 3.6000000000000227, \"PrgDist\": -77.34647792382884, \"Carries\": -23.89753960229187, \"PrgDist.1\": -86.13728794517466, \"Succ\": -1.5809459611279628, \"Att.1\": -0.6876755420739239, \"negative features\": 15}, {\"name\": \"Rani Khedira\", \"injured?\": \"yes\", \"injured games\": 0, \"Sh\": -0.6612767874743037, \"SoT\": -0.17280701754385966, \"Touches\": -23.00522362547768, \"Press\": 1.931583114191252, \"Tkl\": -1.9054558972205, \"Int\": -2.1215957104921883, \"Blocks\": -1.8731236621384133, \"xG\": -0.0805513784461153, \"npxG\": -0.0805513784461153, \"xA\": -0.04483681112894596, \"SCA\": -0.9744218820800724, \"GCA\": -0.03333333333333333, \"Cmp\": -10.007243944629927, \"Att\": -19.231289124261007, \"Cmp%\": 26.316666666666666, \"PrgDist\": 4.345691995802753, \"Carries\": -7.750692069538715, \"PrgDist.1\": -14.010275498984733, \"Succ\": -0.23933557079624496, \"Att.1\": -0.23933557079624496, \"negative features\": 16}, {\"name\": \"Jonathan Tah\", \"injured?\": \"yes\", \"injured games\": 14, \"Sh\": -0.21428571428571427, \"SoT\": -0.03571428571428571, \"Touches\": -7.25, \"Press\": 1.1989795918367347, \"Tkl\": -0.4285714285714286, \"Int\": -0.7551020408163267, \"Blocks\": 0.9591836734693876, \"xG\": -0.010714285714285716, \"npxG\": -0.010714285714285716, \"xA\": 0.057142857142857134, \"SCA\": 1.1785714285714286, \"GCA\": -0.03571428571428571, \"Cmp\": -3.1530612244897966, \"Att\": -6.729591836734683, \"Cmp%\": 6.5928571428571425, \"PrgDist\": -32.520408163265245, \"Carries\": -5.87244897959183, \"PrgDist.1\": -52.14285714285714, \"Succ\": -0.5765306122448979, \"Att.1\": -0.7193877551020408, \"negative features\": 14}, {\"name\": \"Riza Durmisi\", \"injured?\": \"yes\", \"injured games\": 4, \"Sh\": -0.8872549019607843, \"SoT\": -0.25, \"Touches\": 4.946934798015576, \"Press\": -8.307937632884482, \"Tkl\": 1.8333333333333333, \"Int\": -0.6666666666666666, \"Blocks\": -1.8403614457831323, \"xG\": -0.04583333333333334, \"npxG\": -0.04583333333333334, \"xA\": -0.10539215686274513, \"SCA\": -0.8491022915190167, \"GCA\": -0.2916666666666667, \"Cmp\": 8.322850224427121, \"Att\": 8.731986770611861, \"Cmp%\": 2.3291666666666657, \"PrgDist\": 43.26757028112445, \"Carries\": 10.659284195605958, \"PrgDist.1\": -25.470145287030448, \"Succ\": 0.4548192771084337, \"Att.1\": 1.2429718875502007, \"negative features\": 10}, {\"name\": \"Chema\", \"injured?\": \"yes\", \"injured games\": 4, \"Sh\": -0.4255952380952381, \"SoT\": -0.2172619047619048, \"Touches\": -10.383855981416964, \"Press\": 1.810975609756099, \"Tkl\": -0.9166666666666666, \"Int\": -1.25, \"Blocks\": 0.04115853658536617, \"xG\": -0.021726190476190482, \"npxG\": -0.021726190476190482, \"xA\": -0.008333333333333333, \"SCA\": -0.4166666666666667, \"GCA\": -0.08333333333333333, \"Cmp\": -13.053644018583045, \"Att\": -8.584712543554001, \"Cmp%\": -23.11666666666666, \"PrgDist\": -17.542900696864162, \"Carries\": -15.589576074332173, \"PrgDist.1\": -20.312354819976765, \"Succ\": -0.08333333333333333, \"Att.1\": -0.3958333333333333, \"negative features\": 17}, {\"name\": \"Dominic Maroh\", \"injured?\": \"yes\", \"injured games\": 6, \"Sh\": -0.4545454545454545, \"SoT\": -0.09090909090909093, \"Touches\": 7.119122257053277, \"Press\": 0.9717868338558002, \"Tkl\": 2.031347962382445, \"Int\": 1.5454545454545454, \"Blocks\": -2.0501567398119125, \"xG\": -0.027272727272727282, \"npxG\": -0.027272727272727282, \"xA\": -0.018181818181818184, \"SCA\": -0.2727272727272727, \"GCA\": 0.0, \"Cmp\": 0.8526645768025034, \"Att\": 5.702194357366771, \"Cmp%\": -6.736363636363662, \"PrgDist\": 247.61755485893417, \"Carries\": 3.2852664576802515, \"PrgDist.1\": 30.57366771159877, \"Succ\": -0.18181818181818185, \"Att.1\": -0.3636363636363637, \"negative features\": 9}, {\"name\": \"Kevin Bonifazi\", \"injured?\": \"yes\", \"injured games\": 0, \"Sh\": -0.576923076923077, \"SoT\": 0.0, \"Touches\": 0.8386911595866806, \"Press\": -3.884806735553005, \"Tkl\": 1.5, \"Int\": 1.8283582089552242, \"Blocks\": -0.5246842709529282, \"xG\": 0.0, \"npxG\": 0.0, \"xA\": 0.0, \"SCA\": -0.22388059701492533, \"GCA\": 0.0, \"Cmp\": 1.7275162648296956, \"Att\": -0.3515116724071916, \"Cmp%\": 4.500000000000028, \"PrgDist\": 15.579984691925006, \"Carries\": 0.08055874473784996, \"PrgDist.1\": 27.03444316877152, \"Succ\": -0.16666666666666666, \"Att.1\": 0.33333333333333337, \"negative features\": 5}, {\"name\": \"Enis Bardhi\", \"injured?\": \"yes\", \"injured games\": 0, \"Sh\": 1.3473596264137442, \"SoT\": -0.5447258704981277, \"Touches\": 4.321054354423772, \"Press\": -9.79354797085875, \"Tkl\": -1.3724719006905124, \"Int\": -0.8811054189707987, \"Blocks\": -1.1512714813276612, \"xG\": -0.009442224073816188, \"npxG\": -0.009442224073816188, \"xA\": -0.05891575463076476, \"SCA\": -1.439578759704033, \"GCA\": -0.3711922536817216, \"Cmp\": 10.217537314929, \"Att\": 9.428766310755343, \"Cmp%\": 6.934615384615397, \"PrgDist\": 35.08483503665008, \"Carries\": 5.031008481273993, \"PrgDist.1\": -19.592125851217844, \"Succ\": 0.7710716246251457, \"Att.1\": 0.3893565197190045, \"negative features\": 11}, {\"name\": \"Nabil Fekir\", \"injured?\": \"yes\", \"injured games\": 3, \"Sh\": -3.3517323298435597, \"SoT\": -1.8507649209800965, \"Touches\": -14.33135642580676, \"Press\": -4.354765843743131, \"Tkl\": -1.9330801028375888, \"Int\": -0.2, \"Blocks\": -1.0397636556162098, \"xG\": -0.370960159888654, \"npxG\": -0.2639519631673425, \"xA\": -0.05455724070450094, \"SCA\": -3.5034599309630776, \"GCA\": -0.7395923405998271, \"Cmp\": -3.2086718793507814, \"Att\": -7.964527576494355, \"Cmp%\": 7.759999999999992, \"PrgDist\": -72.39890234024351, \"Carries\": -11.171422447679829, \"PrgDist.1\": -12.256495565293276, \"Succ\": -1.6685542828976705, \"Att.1\": -1.8844399191624848, \"negative features\": 18}, {\"name\": \"Christian Clemens\", \"injured?\": \"yes\", \"injured games\": 15, \"Sh\": 0.3659281197905879, \"SoT\": -0.6741713570981864, \"Touches\": 8.289455112930874, \"Press\": -8.802347995397142, \"Tkl\": -1.9849045329444264, \"Int\": 0.4039351517775531, \"Blocks\": -0.6325066086564619, \"xG\": 0.013674641968956291, \"npxG\": 0.013674641968956291, \"xA\": -0.15184804047680306, \"SCA\": -2.885770667924274, \"GCA\": -0.4252657911194497, \"Cmp\": 1.7854817948068522, \"Att\": 10.901871009638016, \"Cmp%\": -9.769230769230779, \"PrgDist\": -8.637434173510371, \"Carries\": 8.47494272020699, \"PrgDist.1\": -26.24306454075607, \"Succ\": -0.7850098619329391, \"Att.1\": -2.1758456895091203, \"negative features\": 12}, {\"name\": \"Hiroki Sakai\", \"injured?\": \"yes\", \"injured games\": 0, \"Sh\": -0.14285714285714285, \"SoT\": -0.028571428571428567, \"Touches\": -12.899483591993274, \"Press\": -1.7388829994734107, \"Tkl\": 2.9308965667201106, \"Int\": -1.397459893048128, \"Blocks\": -2.330988187181449, \"xG\": -0.002857142857142857, \"npxG\": -0.002857142857142857, \"xA\": -0.03428571428571429, \"SCA\": -1.1952642073778663, \"GCA\": -0.08571428571428573, \"Cmp\": -6.770523426303463, \"Att\": -5.383762320109298, \"Cmp%\": -4.65714285714283, \"PrgDist\": -187.10720308316337, \"Carries\": -5.58752185490204, \"PrgDist.1\": -48.12761691733703, \"Succ\": -0.3533834586466165, \"Att.1\": -0.7853162317558602, \"negative features\": 18}, {\"name\": \"Iker Muniain\", \"injured?\": \"yes\", \"injured games\": 0, \"Sh\": -2.0291984263584952, \"SoT\": -1.3207216621588391, \"Touches\": -10.878519644440443, \"Press\": -1.3012495250016798, \"Tkl\": 2.078159577083845, \"Int\": 0.7091836734693877, \"Blocks\": -0.8869047619047621, \"xG\": -0.3955433980821244, \"npxG\": -0.3955433980821244, \"xA\": 0.2809523809523809, \"SCA\": 3.547619047619047, \"GCA\": 2.7857142857142856, \"Cmp\": -6.779743277376652, \"Att\": -11.415156917093228, \"Cmp%\": 5.70714285714284, \"PrgDist\": 84.00755154197492, \"Carries\": -8.572607684914047, \"PrgDist.1\": -22.370509868788677, \"Succ\": 0.6725473321858864, \"Att.1\": 1.201624680540343, \"negative features\": 10}, {\"name\": \"Simon Zoller\", \"injured?\": \"yes\", \"injured games\": 1, \"Sh\": 0.7164013492721031, \"SoT\": -0.6544117647058824, \"Touches\": 5.539790251520174, \"Press\": 2.8861706660454907, \"Tkl\": -0.476442681148749, \"Int\": 1.106459814036265, \"Blocks\": 5.365164247517188, \"xG\": 0.37258699254349625, \"npxG\": 0.37258699254349625, \"xA\": -0.0842817237286997, \"SCA\": -1.7491841652907696, \"GCA\": -0.125, \"Cmp\": -6.823358886035352, \"Att\": -4.349955166399226, \"Cmp%\": -12.300000000000011, \"PrgDist\": -56.869516104530184, \"Carries\": -6.2573996133208825, \"PrgDist.1\": 43.75089623483007, \"Succ\": -0.6073780258372006, \"Att.1\": -1.7095257293898676, \"negative features\": 12}, {\"name\": \"Stevan Jovetic\", \"injured?\": \"yes\", \"injured games\": 0, \"Sh\": -2.3336325389656776, \"SoT\": 0.036213727826819975, \"Touches\": -9.176934232618024, \"Press\": -12.685768184993787, \"Tkl\": -0.6952380952380952, \"Int\": -0.2, \"Blocks\": -0.6523991972267834, \"xG\": -0.5007184343785747, \"npxG\": -0.5007184343785747, \"xA\": -0.06337662337662338, \"SCA\": -3.9636259491315013, \"GCA\": -1.0257689893283113, \"Cmp\": 3.070345800810447, \"Att\": -0.5169955555840957, \"Cmp%\": 11.226666666666686, \"PrgDist\": -30.000728948844067, \"Carries\": -5.50542748860984, \"PrgDist.1\": -61.91843177819216, \"Succ\": -1.5742538378131599, \"Att.1\": -2.9644837228706318, \"negative features\": 16}, {\"name\": \"Daniel Sturridge\", \"injured?\": \"yes\", \"injured games\": 8, \"Sh\": -5.0021265136548045, \"SoT\": -1.342931392931393, \"Touches\": -13.939493187961155, \"Press\": 4.256943784409022, \"Tkl\": 0.0, \"Int\": 0.0, \"Blocks\": -0.18181818181818185, \"xG\": -0.5597361901513144, \"npxG\": -0.5597361901513144, \"xA\": -0.1444755244755245, \"SCA\": -4.610923836661075, \"GCA\": -0.32754342431761785, \"Cmp\": 3.922564962952873, \"Att\": -0.90653354982841, \"Cmp%\": 25.75333333333332, \"PrgDist\": 150.56287235514844, \"Carries\": -7.53675768365942, \"PrgDist.1\": -100.79982365538253, \"Succ\": -1.2566476490824021, \"Att.1\": -1.6875741767831234, \"negative features\": 13}, {\"name\": \"Antonio Luna\", \"injured?\": \"yes\", \"injured games\": 6, \"Sh\": -0.21739130434782608, \"SoT\": 0.0, \"Touches\": -4.845537757437072, \"Press\": 5.240274599542334, \"Tkl\": -1.3478260869565215, \"Int\": 0.043478260869564966, \"Blocks\": 2.3832951945080088, \"xG\": -0.004347826086956522, \"npxG\": -0.004347826086956522, \"xA\": -0.09130434782608696, \"SCA\": -1.225400457665904, \"GCA\": -0.08695652173913042, \"Cmp\": -6.2162471395881065, \"Att\": -3.5091533180777996, \"Cmp%\": -9.53478260869565, \"PrgDist\": -48.432494279176204, \"Carries\": -10.449656750572087, \"PrgDist.1\": -78.68192219679634, \"Succ\": -0.7471395881006864, \"Att.1\": -0.9290617848970252, \"negative features\": 15}, {\"name\": \"Lorenzo Pellegrini\", \"injured?\": \"yes\", \"injured games\": 7, \"Sh\": 0.223817177101358, \"SoT\": -0.035862556322668215, \"Touches\": -5.378604997104716, \"Press\": -8.140028759960508, \"Tkl\": -2.170722848229786, \"Int\": 2.741610096180783, \"Blocks\": -0.5227565570848742, \"xG\": -0.0407070179184961, \"npxG\": -0.0407070179184961, \"xA\": -0.23724110308603044, \"SCA\": -2.066210890948552, \"GCA\": 1.0939153439153442, \"Cmp\": 1.9788700581115748, \"Att\": -5.7674397717018735, \"Cmp%\": 13.048148148148158, \"PrgDist\": -70.21361771683917, \"Carries\": 2.457775826019762, \"PrgDist.1\": -52.5632824530687, \"Succ\": 1.7340940952052066, \"Att.1\": 0.6732160318202043, \"negative features\": 12}, {\"name\": \"Eliaquim Mangala\", \"injured?\": \"yes\", \"injured games\": 1, \"Sh\": -0.41140215716486894, \"SoT\": 0.0, \"Touches\": -28.16040389641151, \"Press\": 1.4950055268319495, \"Tkl\": 0.9266862170087976, \"Int\": -0.6841294298921418, \"Blocks\": 0.6433566433566431, \"xG\": -0.03204930662557781, \"npxG\": -0.03204930662557781, \"xA\": -0.1291866028708134, \"SCA\": -0.5215311004784688, \"GCA\": -0.43062200956937796, \"Cmp\": -22.07075693148036, \"Att\": -27.778511178327022, \"Cmp%\": -0.8363636363636431, \"PrgDist\": -197.5656465487837, \"Carries\": -19.747535161739076, \"PrgDist.1\": 32.7677551362913, \"Succ\": -0.09090909090909093, \"Att.1\": -0.3204930662557781, \"negative features\": 14}, {\"name\": \"Erick Pulgar\", \"injured?\": \"yes\", \"injured games\": 0, \"Sh\": 0.9482758620689656, \"SoT\": -0.3609913793103448, \"Touches\": -17.225754310344826, \"Press\": 11.428879310344826, \"Tkl\": -2.0, \"Int\": -1.4094827586206895, \"Blocks\": -1.0625, \"xG\": 0.037499999999999985, \"npxG\": 0.0625, \"xA\": -0.090625, \"SCA\": -1.34375, \"GCA\": -0.0625, \"Cmp\": -8.712823275862071, \"Att\": -13.71928879310346, \"Cmp%\": 6.615625000000023, \"PrgDist\": -65.92941810344826, \"Carries\": -6.054956896551715, \"PrgDist.1\": 13.811961206896555, \"Succ\": -0.59375, \"Att.1\": -0.875, \"negative features\": 14}, {\"name\": \"Toni Kroos\", \"injured?\": \"yes\", \"injured games\": 5, \"Sh\": 0.10800894601736122, \"SoT\": 1.2679506873055262, \"Touches\": -20.53581541272905, \"Press\": 2.3485130343080343, \"Tkl\": 2.0303241995456998, \"Int\": -0.5629209500177242, \"Blocks\": -0.9989074350925684, \"xG\": 0.09213045019496632, \"npxG\": 0.09213045019496632, \"xA\": -0.010351966873706014, \"SCA\": -2.5585113032518354, \"GCA\": 0.3950332821300564, \"Cmp\": -12.153541982888315, \"Att\": -18.810194488275584, \"Cmp%\": 6.803225806451592, \"PrgDist\": -99.04091240481802, \"Carries\": -13.69246122495633, \"PrgDist.1\": -171.9254993163691, \"Succ\": -0.713291617218686, \"Att.1\": -0.817234269548435, \"negative features\": 12}, {\"name\": \"Celso Borges\", \"injured?\": \"yes\", \"injured games\": 1, \"Sh\": -1.298247645211931, \"SoT\": -0.30659340659340656, \"Touches\": 11.2465613060349, \"Press\": -26.30236007533686, \"Tkl\": -1.8417228341278973, \"Int\": -1.1498004321260131, \"Blocks\": -1.8134078531859656, \"xG\": -0.1327305729984301, \"npxG\": -0.1327305729984301, \"xA\": 0.5180398671096347, \"SCA\": 15.876036576968596, \"GCA\": -0.12275747508305647, \"Cmp\": 19.165242178444792, \"Att\": 14.385637849296215, \"Cmp%\": 14.314285714285715, \"PrgDist\": 185.8621843713081, \"Carries\": 13.720395928664471, \"PrgDist.1\": 53.27101155121426, \"Succ\": 5.003432757718472, \"Att.1\": 4.9010151753008895, \"negative features\": 8}, {\"name\": \"Andrea Poli\", \"injured?\": \"yes\", \"injured games\": 1, \"Sh\": -0.5190931203770762, \"SoT\": -0.1509046052631579, \"Touches\": -20.653582058225105, \"Press\": -3.7962082166526976, \"Tkl\": -2.4973967696175774, \"Int\": 9.890221044319178, \"Blocks\": 8.612920389969634, \"xG\": -0.08349224788369526, \"npxG\": -0.08349224788369526, \"xA\": -0.033863705738705736, \"SCA\": -1.3556437426460195, \"GCA\": -0.0625, \"Cmp\": -27.321921157622622, \"Att\": -21.343439185338358, \"Cmp%\": -37.72812499999998, \"PrgDist\": -104.79130354141438, \"Carries\": -17.633890639981967, \"PrgDist.1\": -67.9807850458177, \"Succ\": -1.1392933930215825, \"Att.1\": -1.6917711868928655, \"negative features\": 17}, {\"name\": \"Kerem Demirbay\", \"injured?\": \"yes\", \"injured games\": 1, \"Sh\": -1.3570403532781845, \"SoT\": -0.2265446224256293, \"Touches\": 6.318884400666505, \"Press\": -2.81413956358573, \"Tkl\": -2.3888442506695298, \"Int\": -0.9750223015165028, \"Blocks\": 0.2094448962734268, \"xG\": -0.09699248120300752, \"npxG\": -0.05488721804511278, \"xA\": -0.18454047794504688, \"SCA\": -2.9296352480598364, \"GCA\": -0.4184950868219141, \"Cmp\": 6.840932143798149, \"Att\": 9.808733734475963, \"Cmp%\": -1.0684210526316065, \"PrgDist\": 15.482872385115344, \"Carries\": 6.472846478279827, \"PrgDist.1\": 16.303085442522956, \"Succ\": 0.23332144788257006, \"Att.1\": -0.4734454694106631, \"negative features\": 11}, {\"name\": \"Marcelo Brozovic\", \"injured?\": \"yes\", \"injured games\": 1, \"Sh\": 4.32561709795804, \"SoT\": 3.4558562713006618, \"Touches\": -5.9944665381037066, \"Press\": 6.028731858103387, \"Tkl\": -1.472337571867352, \"Int\": -0.68825377916287, \"Blocks\": -2.279425810497173, \"xG\": 0.4179994202335144, \"npxG\": 0.4179994202335144, \"xA\": 0.5098405921289935, \"SCA\": 6.461279849106671, \"GCA\": 0.4933165058556908, \"Cmp\": -4.323532732690906, \"Att\": -8.43400232208991, \"Cmp%\": 4.5909090909090935, \"PrgDist\": -38.25648814364729, \"Carries\": -12.176561484971844, \"PrgDist.1\": 8.130819177825742, \"Succ\": 0.09511784511784516, \"Att.1\": 0.4368545397957162, \"negative features\": 8}, {\"name\": \"Gabriele Angella\", \"injured?\": \"yes\", \"injured games\": 0, \"Sh\": -0.3840579710144928, \"SoT\": -0.08333333333333333, \"Touches\": 5.7641248222704515, \"Press\": 2.2236897902167674, \"Tkl\": 3.4822395170745093, \"Int\": 1.8674698795180718, \"Blocks\": 0.031411359724612835, \"xG\": -0.030072463768115943, \"npxG\": -0.030072463768115943, \"xA\": 0.0, \"SCA\": 1.043914789593155, \"GCA\": 0.0, \"Cmp\": 9.24613983885854, \"Att\": 5.142595225622991, \"Cmp%\": 7.816666666666663, \"PrgDist\": -45.179693931003506, \"Carries\": -0.914371772805506, \"PrgDist.1\": 13.10717403776598, \"Succ\": 1.75, \"Att.1\": 1.75, \"negative features\": 5}, {\"name\": \"Kasey Palmer\", \"injured?\": \"yes\", \"injured games\": 21, \"Sh\": 1.6727941176470589, \"SoT\": -0.3125, \"Touches\": 20.94485294117647, \"Press\": -7.007352941176468, \"Tkl\": -2.8125, \"Int\": 0.0, \"Blocks\": -0.02941176470588225, \"xG\": 0.0, \"npxG\": 0.0, \"xA\": 0.0, \"SCA\": 5.455882352941177, \"GCA\": 0.0, \"Cmp\": 22.25, \"Att\": 24.37867647058824, \"Cmp%\": 13.5, \"PrgDist\": 197.9375, \"Carries\": 23.28308823529411, \"PrgDist.1\": 129.53308823529414, \"Succ\": 1.9852941176470589, \"Att.1\": 1.9852941176470589, \"negative features\": 4}, {\"name\": \"Makoto Hasebe\", \"injured?\": \"yes\", \"injured games\": 12, \"Sh\": -0.1111111111111111, \"SoT\": -0.037037037037037035, \"Touches\": -16.945868945868952, \"Press\": 7.022792022792026, \"Tkl\": 2.6296296296296298, \"Int\": -0.7094017094017091, \"Blocks\": -1.1225071225071224, \"xG\": -0.003703703703703704, \"npxG\": -0.003703703703703704, \"xA\": 0.0, \"SCA\": -0.4814814814814815, \"GCA\": 0.0, \"Cmp\": -12.407407407407405, \"Att\": -14.954415954415948, \"Cmp%\": 2.6851851851851904, \"PrgDist\": -155.29914529914532, \"Carries\": -12.527065527065533, \"PrgDist.1\": -82.3162393162393, \"Succ\": 0.7350427350427351, \"Att.1\": 0.698005698005698, \"negative features\": 12}, {\"name\": \"Ludwig Augustinsson\", \"injured?\": \"yes\", \"injured games\": 0, \"Sh\": -0.8125, \"SoT\": -0.21875, \"Touches\": 2.9554687499999943, \"Press\": -5.603125, \"Tkl\": -1.57421875, \"Int\": -1.71875, \"Blocks\": -1.4140625, \"xG\": -0.05, \"npxG\": -0.05, \"xA\": -0.07851562500000002, \"SCA\": -1.9140625, \"GCA\": -0.0625, \"Cmp\": 1.8937500000000045, \"Att\": 8.276562499999997, \"Cmp%\": -6.343749999999987, \"PrgDist\": -59.26953125, \"Carries\": 2.21484375, \"PrgDist.1\": -53.8171875, \"Succ\": -0.3125, \"Att.1\": -0.5625, \"negative features\": 15}, {\"name\": \"Alfonso Pedraza\", \"injured?\": \"yes\", \"injured games\": 0, \"Sh\": -1.6097595716528796, \"SoT\": -0.4382681472206662, \"Touches\": -2.191203813069855, \"Press\": 1.1356982291711797, \"Tkl\": -0.6028525726472942, \"Int\": 2.8921449392041505, \"Blocks\": 0.21112781885754184, \"xG\": -0.135202106097358, \"npxG\": -0.135202106097358, \"xA\": 0.15992624189105126, \"SCA\": -1.5490843920715016, \"GCA\": 0.4597651152675076, \"Cmp\": -0.4822240155439666, \"Att\": 0.8062584935238881, \"Cmp%\": -2.5212121212121157, \"PrgDist\": 29.74718427324184, \"Carries\": -7.034028995628403, \"PrgDist.1\": -111.48274256059828, \"Succ\": -2.004368122103999, \"Att.1\": -0.4127143928529149, \"negative features\": 12}, {\"name\": \"Yoshinori Muto\", \"injured?\": \"yes\", \"injured games\": 13, \"Sh\": -2.070559543788676, \"SoT\": -1.0341351147893865, \"Touches\": 0.4444047482186946, \"Press\": 11.42833756396303, \"Tkl\": -1.1574255137968117, \"Int\": -0.30603448275862066, \"Blocks\": -0.7848216270722841, \"xG\": -0.22592819540847, \"npxG\": -0.22592819540847, \"xA\": -0.07979175996417376, \"SCA\": 0.9183524998806938, \"GCA\": -0.2955589261716521, \"Cmp\": 8.720371904601647, \"Att\": 7.391253119047758, \"Cmp%\": 14.507142857142869, \"PrgDist\": 86.28127865239115, \"Carries\": 7.471289567098251, \"PrgDist.1\": -50.36161406851921, \"Succ\": 1.906010475997192, \"Att.1\": 0.649502776376766, \"negative features\": 9}, {\"name\": \"Manuel Lazzari\", \"injured?\": \"yes\", \"injured games\": 0, \"Sh\": -0.6130952380952379, \"SoT\": -0.11309523809523807, \"Touches\": 23.935783325869533, \"Press\": 2.6624247400109464, \"Tkl\": 5.688871473354232, \"Int\": -1.0032467532467533, \"Blocks\": 5.581896551724138, \"xG\": -0.03710317460317461, \"npxG\": -0.03710317460317461, \"xA\": -0.05568181818181818, \"SCA\": 12.730886450714035, \"GCA\": -0.1111111111111111, \"Cmp\": -11.5045342588446, \"Att\": -6.670526073543308, \"Cmp%\": -16.797222222222214, \"PrgDist\": -18.517536821416144, \"Carries\": 12.073020848882926, \"PrgDist.1\": 280.04100736428325, \"Succ\": 5.047998457481215, \"Att.1\": 3.3283978952082416, \"negative features\": 10}, {\"name\": \"Henrikh Mkhitaryan\", \"injured?\": \"yes\", \"injured games\": 9, \"Sh\": 4.5827834149883, \"SoT\": 5.468956500793972, \"Touches\": 12.080677861331525, \"Press\": -15.936096112929382, \"Tkl\": -1.9195070961885643, \"Int\": -1.0108371604092483, \"Blocks\": -2.0954612325499404, \"xG\": 0.4947076247104295, \"npxG\": 0.4947076247104295, \"xA\": -0.2673279535023868, \"SCA\": 8.785485422113979, \"GCA\": -0.4078689440680391, \"Cmp\": 9.070553101215438, \"Att\": 13.8754623775191, \"Cmp%\": -1.7000000000000028, \"PrgDist\": -48.593966932699736, \"Carries\": -18.344208712866443, \"PrgDist.1\": -115.2837891937915, \"Succ\": -1.4391240554927691, \"Att.1\": -2.6708099994809817, \"negative features\": 12}, {\"name\": \"Nicola Murru\", \"injured?\": \"yes\", \"injured games\": 8, \"Sh\": -0.2548780487804878, \"SoT\": 0.0, \"Touches\": 2.793408540028373, \"Press\": -14.191640212915402, \"Tkl\": -2.67756736238311, \"Int\": -1.0167207792207793, \"Blocks\": -2.5247802502375682, \"xG\": 0.0, \"npxG\": 0.0, \"xA\": -0.07, \"SCA\": -1.2, \"GCA\": -0.1, \"Cmp\": 2.10421217170952, \"Att\": 12.8193743027916, \"Cmp%\": -9.130000000000024, \"PrgDist\": -74.82004061023812, \"Carries\": 5.607147419123835, \"PrgDist.1\": -19.87447210133449, \"Succ\": -0.41818181818181815, \"Att.1\": -0.6779379157427938, \"negative features\": 12}, {\"name\": \"Arkadiusz Milik\", \"injured?\": \"yes\", \"injured games\": 21, \"Sh\": 4.700156881048984, \"SoT\": 6.3692674350926515, \"Touches\": -19.621045909112087, \"Press\": -20.85279275547677, \"Tkl\": -0.4437756147540983, \"Int\": 4.002403846153847, \"Blocks\": -0.29340094836670183, \"xG\": 1.481829850826331, \"npxG\": 1.481829850826331, \"xA\": -0.2889554794520548, \"SCA\": 5.13289163677802, \"GCA\": -0.625, \"Cmp\": -10.085908302456877, \"Att\": -16.392492878811154, \"Cmp%\": 21.4875, \"PrgDist\": 7.868881588255789, \"Carries\": -18.83592420847364, \"PrgDist.1\": -12.804287351506385, \"Succ\": 4.1416952054794525, \"Att.1\": 2.25911750739202, \"negative features\": 10}, {\"name\": \"Antonio Sanabria\", \"injured?\": \"yes\", \"injured games\": 10, \"Sh\": -2.6486740206918675, \"SoT\": -1.5235298453746822, \"Touches\": -2.1207048128315087, \"Press\": 6.008287052944375, \"Tkl\": -0.2352941176470588, \"Int\": -0.2352941176470588, \"Blocks\": -0.8912506178942164, \"xG\": -0.4994768495633548, \"npxG\": -0.4994768495633548, \"xA\": 0.0, \"SCA\": 1.4969346765075202, \"GCA\": 2.8032454361054766, \"Cmp\": -3.8640046228804312, \"Att\": -5.023788516153767, \"Cmp%\": 1.4764705882352869, \"PrgDist\": -25.64990921104216, \"Carries\": -4.820504813967858, \"PrgDist.1\": -14.618515942194124, \"Succ\": -1.1914648212226069, \"Att.1\": -1.4855824682814305, \"negative features\": 14}, {\"name\": \"Recio\", \"injured?\": \"yes\", \"injured games\": 19, \"Sh\": 1.4090909090909092, \"SoT\": 1.1363636363636362, \"Touches\": -0.22120000192907696, \"Press\": -3.377338074946998, \"Tkl\": 1.7004870129870135, \"Int\": -0.2655221490837929, \"Blocks\": 1.0307107276285357, \"xG\": -0.05909090909090909, \"npxG\": -0.027272727272727268, \"xA\": -0.07453300124533001, \"SCA\": -0.9877998919713726, \"GCA\": -0.1924034869240349, \"Cmp\": -10.19803627425554, \"Att\": -5.637937312316332, \"Cmp%\": -10.59545454545453, \"PrgDist\": -55.662274967151966, \"Carries\": -11.98963600354094, \"PrgDist.1\": -66.41417417579942, \"Succ\": -1.2833125778331258, \"Att.1\": -1.5357809998220957, \"negative features\": 16}, {\"name\": \"Ramy Bensebaini\", \"injured?\": \"no\", \"injured games\": 2, \"Sh\": 0.3448275862068966, \"SoT\": -0.13793103448275862, \"Touches\": 1.9073891625616002, \"Press\": 4.108374384236451, \"Tkl\": -0.5261083743842363, \"Int\": -0.4679802955665025, \"Blocks\": -1.2364532019704435, \"xG\": -0.02758620689655172, \"npxG\": -0.02758620689655172, \"xA\": -0.04482758620689655, \"SCA\": -0.9379310344827586, \"GCA\": -0.10344827586206896, \"Cmp\": -10.382266009852216, \"Att\": 6.015763546798028, \"Cmp%\": -22.82068965517243, \"PrgDist\": 123.48078817733996, \"Carries\": -2.4975369458128114, \"PrgDist.1\": -38.242364532019685, \"Succ\": -0.8325123152709359, \"Att.1\": -0.1773399014778323, \"negative features\": 15}, {\"name\": \"Mauro Arambarri\", \"injured?\": \"no\", \"injured games\": 0, \"Sh\": -0.9337668858730228, \"SoT\": -0.16527906134647707, \"Touches\": -29.716384978632497, \"Press\": 9.051871114590151, \"Tkl\": -0.31054120660862283, \"Int\": -3.092748291423998, \"Blocks\": -0.19597862375335676, \"xG\": -0.05404641257251965, \"npxG\": -0.05404641257251965, \"xA\": -0.037037037037037035, \"SCA\": 0.6826681983654883, \"GCA\": -0.0744902205576363, \"Cmp\": -10.049444154175507, \"Att\": -15.678128588356213, \"Cmp%\": 7.103703703703702, \"PrgDist\": -123.39911646043385, \"Carries\": -16.316668676101564, \"PrgDist.1\": -24.783131952133946, \"Succ\": -0.7418104819955447, \"Att.1\": -1.2563366965217595, \"negative features\": 16}, {\"name\": \"Douglas Santos\", \"injured?\": \"no\", \"injured games\": 0, \"Sh\": 1.1851851851851851, \"SoT\": -0.25925925925925924, \"Touches\": 25.419712070874862, \"Press\": -8.248308108773228, \"Tkl\": -0.3826750338378244, \"Int\": -1.7211763258274897, \"Blocks\": -0.8959025470653379, \"xG\": 0.06296296296296297, \"npxG\": 0.06296296296296297, \"xA\": 0.022222222222222227, \"SCA\": 1.070628768303187, \"GCA\": -0.1111111111111111, \"Cmp\": 9.724006398425004, \"Att\": 26.754521963824292, \"Cmp%\": -9.670370370370364, \"PrgDist\": 136.1176325827488, \"Carries\": 13.328903654485044, \"PrgDist.1\": 47.43607727328654, \"Succ\": 1.4056847545219635, \"Att.1\": 0.664944013781223, \"negative features\": 7}, {\"name\": \"Pablo Zabaleta\", \"injured?\": \"no\", \"injured games\": 0, \"Sh\": -0.1891891891891892, \"SoT\": -0.027027027027027032, \"Touches\": 1.177182082041206, \"Press\": 11.006919536931784, \"Tkl\": 0.5774778453422797, \"Int\": -0.990089722225288, \"Blocks\": 0.9262136779490796, \"xG\": -0.008108108108108109, \"npxG\": -0.008108108108108109, \"xA\": -0.029729729729729724, \"SCA\": -0.972972972972973, \"GCA\": -0.027027027027027032, \"Cmp\": -2.412534625274525, \"Att\": -0.7386136647059374, \"Cmp%\": -3.4918918918918966, \"PrgDist\": 13.669903876927151, \"Carries\": -3.3518700407226376, \"PrgDist.1\": -24.155849602154216, \"Succ\": -0.13513513513513514, \"Att.1\": -0.32808758125213816, \"negative features\": 14}, {\"name\": \"Sergio Escudero\", \"injured?\": \"no\", \"injured games\": 11, \"Sh\": -0.7407407407407407, \"SoT\": -0.14814814814814814, \"Touches\": 7.501424501424509, \"Press\": -6.351851851851852, \"Tkl\": 0.7977207977207983, \"Int\": -2.52991452991453, \"Blocks\": -1.0427350427350426, \"xG\": -0.03333333333333333, \"npxG\": -0.03333333333333333, \"xA\": -0.03333333333333333, \"SCA\": -1.4558404558404558, \"GCA\": -0.2222222222222222, \"Cmp\": 10.5911680911681, \"Att\": 6.17094017094017, \"Cmp%\": 9.777777777777773, \"PrgDist\": 220.6438746438747, \"Carries\": -4.309116809116809, \"PrgDist.1\": 1.5968660968660802, \"Succ\": -0.9629629629629628, \"Att.1\": -0.2279202279202281, \"negative features\": 12}, {\"name\": \"Waldemar Anton\", \"injured?\": \"no\", \"injured games\": 0, \"Sh\": 0.14814814814814814, \"SoT\": 0.8148148148148148, \"Touches\": 20.740740740740737, \"Press\": -1.2962962962962938, \"Tkl\": 0.7037037037037037, \"Int\": -0.9259259259259256, \"Blocks\": 0.11111111111111116, \"xG\": -0.059259259259259275, \"npxG\": -0.059259259259259275, \"xA\": 0.0, \"SCA\": -0.4074074074074074, \"GCA\": 0.0, \"Cmp\": 17.777777777777782, \"Att\": 21.407407407407398, \"Cmp%\": 0.8555555555555685, \"PrgDist\": -6.8148148148148096, \"Carries\": 20.407407407407398, \"PrgDist.1\": 89.77777777777777, \"Succ\": 0.14814814814814814, \"Att.1\": -0.11111111111111116, \"negative features\": 7}, {\"name\": \"Sofiane Boufal\", \"injured?\": \"no\", \"injured games\": 13, \"Sh\": -0.8169822476353272, \"SoT\": -0.6, \"Touches\": -19.18273244776908, \"Press\": -5.545145668453507, \"Tkl\": -0.30324279946078825, \"Int\": 0.9669014084507044, \"Blocks\": 2.159912739937674, \"xG\": -0.15523200924454714, \"npxG\": -0.15523200924454714, \"xA\": -0.2272925185638809, \"SCA\": -3.7299687799414354, \"GCA\": -1.3359037848796802, \"Cmp\": -12.013923910179924, \"Att\": -15.357172735541734, \"Cmp%\": -0.5960000000000036, \"PrgDist\": -34.96790523221155, \"Carries\": -27.168762272535123, \"PrgDist.1\": -227.93925558827468, \"Succ\": -5.926977260389688, \"Att.1\": -4.779656624336001, \"negative features\": 17}, {\"name\": \"Filip Kostic\", \"injured?\": \"no\", \"injured games\": 1, \"Sh\": 0.3742958041152016, \"SoT\": 1.1971914264597192, \"Touches\": 6.364858617991104, \"Press\": -10.863085577409967, \"Tkl\": 2.1176972992873138, \"Int\": 0.6303030303030304, \"Blocks\": -0.2269431901665755, \"xG\": -0.1549295384418684, \"npxG\": -0.13068711419944426, \"xA\": -0.08514412416851443, \"SCA\": -0.9128219122708076, \"GCA\": -0.15151515151515152, \"Cmp\": 0.7312826265890777, \"Att\": 5.553152895536427, \"Cmp%\": -6.242424242424248, \"PrgDist\": 51.50497483966795, \"Carries\": -3.52688387713992, \"PrgDist.1\": 68.49476478327878, \"Succ\": -0.5279461279461282, \"Att.1\": -0.1659551843651701, \"negative features\": 11}, {\"name\": \"Kevin Danso\", \"injured?\": \"no\", \"injured games\": 0, \"Sh\": 0.3954022988505748, \"SoT\": -0.26666666666666666, \"Touches\": 0.33324786485925983, \"Press\": -3.239233800267717, \"Tkl\": -0.3366226126958394, \"Int\": -0.25880608083055323, \"Blocks\": 2.9472433274887986, \"xG\": -0.03356321839080459, \"npxG\": -0.03356321839080459, \"xA\": -0.02689655172413793, \"SCA\": -1.0347052280311455, \"GCA\": -0.06666666666666668, \"Cmp\": 5.782336934321236, \"Att\": 0.2347454484895337, \"Cmp%\": 13.593333333333335, \"PrgDist\": -110.54252873563215, \"Carries\": 5.245496879772247, \"PrgDist.1\": -4.015854401940629, \"Succ\": 1.3698924731182796, \"Att.1\": 1.0681975578640424, \"negative features\": 11}, {\"name\": \"Roberto Firmino\", \"injured?\": \"no\", \"injured games\": 2, \"Sh\": -2.8290764723885253, \"SoT\": -1.1719210142397674, \"Touches\": 24.788767961127117, \"Press\": 10.090814569123967, \"Tkl\": -2.032753250979457, \"Int\": -0.5022763509516479, \"Blocks\": -1.5546241918887729, \"xG\": -0.3801394013997016, \"npxG\": -0.3579171791774794, \"xA\": -0.15118936117597762, \"SCA\": -3.994439063862752, \"GCA\": -0.5513240245371926, \"Cmp\": 15.22559190421433, \"Att\": 21.456504779757665, \"Cmp%\": -0.2399999999999807, \"PrgDist\": -18.66094967124279, \"Carries\": 28.277951376515908, \"PrgDist.1\": -55.40117884359879, \"Succ\": -1.5555719473550864, \"Att.1\": -2.4556050403377445, \"negative features\": 14}, {\"name\": \"Chaouki Ben Saada\", \"injured?\": \"no\", \"injured games\": 0, \"Sh\": 6.437420076726342, \"SoT\": -0.3338509316770187, \"Touches\": -31.740624824344447, \"Press\": -17.691163735561126, \"Tkl\": 16.994485294117645, \"Int\": -0.3195652173913044, \"Blocks\": -0.8008928571428572, \"xG\": -0.026785714285714288, \"npxG\": -0.026785714285714288, \"xA\": -0.250672268907563, \"SCA\": -3.7271664915966394, \"GCA\": -0.8035714285714286, \"Cmp\": -41.320519597889316, \"Att\": -46.97209232982489, \"Cmp%\": -24.037499999999994, \"PrgDist\": -247.02702135620137, \"Carries\": -37.44663391276242, \"PrgDist.1\": -144.29517430299882, \"Succ\": -4.053047360248447, \"Att.1\": -5.3578804347826114, \"negative features\": 18}, {\"name\": \"Paulo Dybala\", \"injured?\": \"no\", \"injured games\": 8, \"Sh\": -4.740692805245217, \"SoT\": -1.5953453389469383, \"Touches\": -45.371488420207434, \"Press\": 30.8052514007398, \"Tkl\": -0.7972944755995705, \"Int\": -0.5326753696130858, \"Blocks\": -0.8396813510303156, \"xG\": -0.541685354018087, \"npxG\": -0.3822735893122045, \"xA\": -0.010631557620282091, \"SCA\": -1.81245143678192, \"GCA\": -0.6509664717814103, \"Cmp\": -29.32278407016489, \"Att\": -37.55972150688037, \"Cmp%\": 15.66470588235292, \"PrgDist\": -45.96391674076526, \"Carries\": -33.784148082233315, \"PrgDist.1\": -69.6726374104783, \"Succ\": 1.214663369992993, \"Att.1\": 3.1811788974928086, \"negative features\": 15}, {\"name\": \"Nathaniel Clyne\", \"injured?\": \"no\", \"injured games\": 0, \"Sh\": 0.0, \"SoT\": 0.0, \"Touches\": -12.166101694915247, \"Press\": 3.5649717514124277, \"Tkl\": -0.8418079096045198, \"Int\": -0.3333333333333333, \"Blocks\": -1.1751412429378532, \"xG\": 0.0, \"npxG\": 0.0, \"xA\": -0.1016949152542373, \"SCA\": 1.8915254237288133, \"GCA\": 0.0, \"Cmp\": -9.906214689265534, \"Att\": -10.198870056497183, \"Cmp%\": -2.799999999999997, \"PrgDist\": -70.30282485875702, \"Carries\": -5.0463276836158135, \"PrgDist.1\": -31.185310734463283, \"Succ\": 0.0, \"Att.1\": -0.8418079096045198, \"negative features\": 12}, {\"name\": \"Giampaolo Pazzini\", \"injured?\": \"no\", \"injured games\": 0, \"Sh\": -1.9778426371048183, \"SoT\": -0.6665767268445839, \"Touches\": -11.158744675247707, \"Press\": -0.5967113954189998, \"Tkl\": -0.17511520737327188, \"Int\": -0.14597986902740726, \"Blocks\": -0.2295918367346939, \"xG\": -0.5464910203795285, \"npxG\": -0.2423805713953004, \"xA\": -0.07619346107605385, \"SCA\": -1.4719256931728049, \"GCA\": 0.0, \"Cmp\": -8.499142672181323, \"Att\": -9.885687051626237, \"Cmp%\": -17.439285714285713, \"PrgDist\": -26.61709773268834, \"Carries\": -3.6864030885396315, \"PrgDist.1\": -18.794272179705654, \"Succ\": -0.7506402688685301, \"Att.1\": -1.0016942115723722, \"negative features\": 18}, {\"name\": \"Andrea Poli\", \"injured?\": \"no\", \"injured games\": 1, \"Sh\": 0.4809068796229238, \"SoT\": -0.1509046052631579, \"Touches\": 35.596417941774895, \"Press\": 1.7037917833473024, \"Tkl\": -1.4973967696175774, \"Int\": -1.3597789556808226, \"Blocks\": 0.3629203899696334, \"xG\": 0.016507752116304744, \"npxG\": 0.016507752116304744, \"xA\": -0.033863705738705736, \"SCA\": -0.3556437426460195, \"GCA\": 0.9375, \"Cmp\": 30.428078842377378, \"Att\": 34.15656081466165, \"Cmp%\": 0.7718750000000227, \"PrgDist\": 137.45869645858562, \"Carries\": 24.86610936001804, \"PrgDist.1\": 99.0192149541823, \"Succ\": -1.1392933930215825, \"Att.1\": -1.6917711868928655, \"negative features\": 7}, {\"name\": \"Sergi Darder\", \"injured?\": \"no\", \"injured games\": 0, \"Sh\": -0.8246897860433555, \"SoT\": -0.23806609547123625, \"Touches\": 3.5120701553119313, \"Press\": -11.025931462204372, \"Tkl\": -0.7528444375572789, \"Int\": -1.8012985841594369, \"Blocks\": 0.016103385486645694, \"xG\": -0.02631578947368421, \"npxG\": -0.02631578947368421, \"xA\": 0.02961578446552135, \"SCA\": 3.258425740205463, \"GCA\": -0.12191505903198395, \"Cmp\": 4.962908144421, \"Att\": 6.796940680581108, \"Cmp%\": 0.8763157894737077, \"PrgDist\": 49.656455374193456, \"Carries\": -2.5758083294176832, \"PrgDist.1\": -6.333936194425122, \"Succ\": -0.9826154522154908, \"Att.1\": -1.2500933123926097, \"negative features\": 11}, {\"name\": \"Rodri\", \"injured?\": \"no\", \"injured games\": 0, \"Sh\": 1.1485492010092515, \"SoT\": 0.7804878048780488, \"Touches\": 4.869896398807229, \"Press\": -13.207508219282822, \"Tkl\": -0.7195313097331604, \"Int\": 3.5105130361648444, \"Blocks\": -0.8957871396895785, \"xG\": -0.03170731707317073, \"npxG\": -0.03170731707317073, \"xA\": -0.058536585365853676, \"SCA\": -0.8018292682926829, \"GCA\": -0.24390243902439024, \"Cmp\": -1.829555011851056, \"Att\": 4.9087277314779385, \"Cmp%\": -7.963414634146347, \"PrgDist\": 115.0965287866045, \"Carries\": -0.5501662971175207, \"PrgDist.1\": -45.520834926217596, \"Succ\": -0.9667501338022784, \"Att.1\": -1.1618720850217907, \"negative features\": 14}, {\"name\": \"Andre Gray\", \"injured?\": \"no\", \"injured games\": 0, \"Sh\": 3.473245939492407, \"SoT\": 2.2462511978168047, \"Touches\": -4.253550498426513, \"Press\": -8.959103185452381, \"Tkl\": 0.0, \"Int\": 2.5379988138608827, \"Blocks\": -1.1761844599586688, \"xG\": 0.4795496078498308, \"npxG\": 0.4795496078498308, \"xA\": -0.08417067845947157, \"SCA\": 1.6753049393135602, \"GCA\": -0.10344827586206896, \"Cmp\": 1.191664537655056, \"Att\": -2.8627744766644128, \"Cmp%\": 15.768965517241385, \"PrgDist\": 10.018798144349326, \"Carries\": -9.198446904826817, \"PrgDist.1\": -20.660241834100546, \"Succ\": -0.312469707517823, \"Att.1\": -0.7972492957456871, \"negative features\": 10}, {\"name\": \"Eden Hazard\", \"injured?\": \"no\", \"injured games\": 2, \"Sh\": -0.5443240489763705, \"SoT\": -0.15520482333587293, \"Touches\": 6.898974193204893, \"Press\": 2.081615691701808, \"Tkl\": -0.2453086799490772, \"Int\": -0.2175309021712994, \"Blocks\": -0.3253486530619704, \"xG\": -0.1327753467551161, \"npxG\": -0.05653744071089711, \"xA\": 0.11777380075150146, \"SCA\": 2.1897801506890966, \"GCA\": -0.6288144763645581, \"Cmp\": 14.978903737250016, \"Att\": 13.392446184790828, \"Cmp%\": 6.369444444444427, \"PrgDist\": 38.53916977580468, \"Carries\": 5.249628649297257, \"PrgDist.1\": 101.01965813344879, \"Succ\": 0.19231494405363048, \"Att.1\": -1.2434880715187866, \"negative features\": 8}, {\"name\": \"Gonzalo Escalante\", \"injured?\": \"no\", \"injured games\": 0, \"Sh\": 0.6645567320265597, \"SoT\": 0.664316209593717, \"Touches\": 2.802264270732437, \"Press\": -1.4415855337106045, \"Tkl\": 0.5025999152916492, \"Int\": -0.8619670554476426, \"Blocks\": -0.5920151759351591, \"xG\": 0.14715363919004476, \"npxG\": 0.14715363919004476, \"xA\": -0.019230769230769232, \"SCA\": 0.03756876241577567, \"GCA\": 0.0, \"Cmp\": 3.0011167426131, \"Att\": 2.0089015816390514, \"Cmp%\": 3.0269230769230973, \"PrgDist\": -30.155375535818248, \"Carries\": 9.312969757806954, \"PrgDist.1\": 20.167920228750102, \"Succ\": 0.438314712472124, \"Att.1\": -0.21927185683220274, \"negative features\": 6}, {\"name\": \"Sergi Darder\", \"injured?\": \"no\", \"injured games\": 0, \"Sh\": 0.17531021395664448, \"SoT\": -0.23806609547123625, \"Touches\": -9.066877213109123, \"Press\": 6.5003843272693125, \"Tkl\": -0.9370549638730684, \"Int\": 2.198701415840563, \"Blocks\": -0.1681071408291437, \"xG\": 0.0736842105263158, \"npxG\": 0.0736842105263158, \"xA\": 0.0111947318339424, \"SCA\": 1.5215836349423055, \"GCA\": 0.8780849409680159, \"Cmp\": -6.037091855579, \"Att\": -9.045164582576788, \"Cmp%\": 4.576315789473711, \"PrgDist\": -27.711965678438105, \"Carries\": -11.838966224154525, \"PrgDist.1\": -39.88656777337249, \"Succ\": 0.017384547784509152, \"Att.1\": 0.7499066876073903, \"negative features\": 9}, {\"name\": \"Bruno Gaspar\", \"injured?\": \"no\", \"injured games\": 0, \"Sh\": -0.06666666666666668, \"SoT\": 0.0, \"Touches\": -2.5016952603639595, \"Press\": 1.7522496079771592, \"Tkl\": 0.8246726957253276, \"Int\": -1.8011278195488722, \"Blocks\": 0.4461538461538459, \"xG\": 0.0, \"npxG\": 0.0, \"xA\": -0.09476190476190477, \"SCA\": -1.324185463659148, \"GCA\": -0.2, \"Cmp\": -4.130428498230351, \"Att\": -6.632095664912995, \"Cmp%\": 4.1799999999999935, \"PrgDist\": -56.887942758995344, \"Carries\": -7.249709372155187, \"PrgDist.1\": -12.02840956772846, \"Succ\": 0.7690476190476192, \"Att.1\": 0.2827731092436976, \"negative features\": 10}, {\"name\": \"Ben Chilwell\", \"injured?\": \"no\", \"injured games\": 10, \"Sh\": -0.2202380952380953, \"SoT\": -0.041666666666666664, \"Touches\": -8.085485271093319, \"Press\": 2.87885077692985, \"Tkl\": 0.34196982492871264, \"Int\": 0.7515574713739062, \"Blocks\": 0.649995707259881, \"xG\": -0.005357142857142858, \"npxG\": -0.005357142857142858, \"xA\": -0.10095948827292113, \"SCA\": -0.03410737834065447, \"GCA\": -0.3628890562248996, \"Cmp\": -6.806991205070645, \"Att\": -6.4636591537758425, \"Cmp%\": -2.870833333333323, \"PrgDist\": 15.47671542401119, \"Carries\": -11.636685230501756, \"PrgDist.1\": -134.03078381947216, \"Succ\": 0.7562377709130768, \"Att.1\": 0.698654024413218, \"negative features\": 12}, {\"name\": \"Danny Simpson\", \"injured?\": \"no\", \"injured games\": 0, \"Sh\": -0.11486486486486487, \"SoT\": -0.04343629343629344, \"Touches\": -21.3846450165852, \"Press\": -1.4998303296330624, \"Tkl\": -0.3986077586847809, \"Int\": -1.4158863558041948, \"Blocks\": -0.6883589768870801, \"xG\": -0.010714285714285714, \"npxG\": -0.010714285714285714, \"xA\": -0.008755760368663596, \"SCA\": 0.5625036073501851, \"GCA\": 0.0, \"Cmp\": -16.090516215408815, \"Att\": -20.086555746039764, \"Cmp%\": -3.817857142857136, \"PrgDist\": -167.86044098803924, \"Carries\": -9.675325637799492, \"PrgDist.1\": -34.223948225876924, \"Succ\": -0.3778195488721805, \"Att.1\": -0.6082342954159593, \"negative features\": 17}, {\"name\": \"Viktor Fischer\", \"injured?\": \"no\", \"injured games\": 4, \"Sh\": -2.273852115590332, \"SoT\": -0.4630257801899593, \"Touches\": -0.5491924868904476, \"Press\": -3.8827484119265527, \"Tkl\": -0.6887097882280199, \"Int\": -0.35150120305471283, \"Blocks\": -0.6720106705722355, \"xG\": -0.09075021898562424, \"npxG\": -0.09075021898562424, \"xA\": -0.13636363636363635, \"SCA\": 3.93348619760433, \"GCA\": 0.0, \"Cmp\": 2.277297608495015, \"Att\": 7.74282914855895, \"Cmp%\": -11.481818181818184, \"PrgDist\": 43.378246156930615, \"Carries\": -1.2553555572678905, \"PrgDist.1\": 9.512647067832548, \"Succ\": -1.6133075784974518, \"Att.1\": -2.9469519400010515, \"negative features\": 13}, {\"name\": \"Marcelo\", \"injured?\": \"no\", \"injured games\": 1, \"Sh\": -0.7294073222224129, \"SoT\": -0.2691337258200168, \"Touches\": 27.312335867904782, \"Press\": 4.604486706373045, \"Tkl\": -0.8057190916736754, \"Int\": 0.09649679888776364, \"Blocks\": -1.265151645182884, \"xG\": -0.05847479445941541, \"npxG\": -0.05847479445941541, \"xA\": 0.37560975609756103, \"SCA\": 1.4390243902439024, \"GCA\": -0.0975609756097561, \"Cmp\": 32.429120681073115, \"Att\": 32.40237894989788, \"Cmp%\": 5.641463414634131, \"PrgDist\": 291.3532036868574, \"Carries\": 34.49937350886528, \"PrgDist.1\": 283.64147542953265, \"Succ\": -0.04878048780487805, \"Att.1\": -0.04878048780487805, \"negative features\": 8}, {\"name\": \"Florent Mollet\", \"injured?\": \"no\", \"injured games\": 0, \"Sh\": -0.4136271487980654, \"SoT\": -0.07566568386964058, \"Touches\": 2.3204674325294405, \"Press\": -13.246968316489165, \"Tkl\": -0.15788282379657725, \"Int\": -1.2826603473155196, \"Blocks\": 0.6186291811569314, \"xG\": -0.164923412707338, \"npxG\": -0.08700133478526006, \"xA\": 0.6811454241474841, \"SCA\": -1.1212779077657802, \"GCA\": -0.1901913875598086, \"Cmp\": 7.469601931014233, \"Att\": 1.087039593345743, \"Cmp%\": 10.236363636363636, \"PrgDist\": 67.33322608098607, \"Carries\": 9.363150824929534, \"PrgDist.1\": -13.717469602060687, \"Succ\": 0.4498914622511361, \"Att.1\": 0.9606718717729648, \"negative features\": 9}, {\"name\": \"Mattia Destro\", \"injured?\": \"no\", \"injured games\": 5, \"Sh\": -0.4926321848133632, \"SoT\": 0.887863171223789, \"Touches\": 1.0308502094638785, \"Press\": 12.382046063762937, \"Tkl\": -1.039435090546673, \"Int\": -0.26216484607745777, \"Blocks\": -1.0390075572066102, \"xG\": 0.059482408680847976, \"npxG\": 0.059482408680847976, \"xA\": -0.04929411764705883, \"SCA\": 0.5239009287925691, \"GCA\": 1.76, \"Cmp\": 2.8933058037732633, \"Att\": 6.393570648947638, \"Cmp%\": -2.240000000000002, \"PrgDist\": 50.68428451855773, \"Carries\": 4.063409197663091, \"PrgDist.1\": -6.250840199528817, \"Succ\": 0.6706849315068493, \"Att.1\": -0.5004527768038831, \"negative features\": 7}, {\"name\": \"Nigel de Jong\", \"injured?\": \"no\", \"injured games\": 5, \"Sh\": -0.11538461538461538, \"SoT\": 0.0, \"Touches\": 2.252723377748069, \"Press\": -3.601270149956699, \"Tkl\": -0.2620451541348245, \"Int\": -1.5328977954693932, \"Blocks\": -0.6360025220680958, \"xG\": 0.0, \"npxG\": 0.0, \"xA\": -0.030843373493975906, \"SCA\": -1.0860982391102874, \"GCA\": -0.11538461538461538, \"Cmp\": 9.592263632081924, \"Att\": 6.344231149060285, \"Cmp%\": 9.5, \"PrgDist\": -42.347389051793584, \"Carries\": -2.604579224843892, \"PrgDist.1\": -4.916195931266047, \"Succ\": -0.23846153846153845, \"Att.1\": -0.23846153846153845, \"negative features\": 12}, {\"name\": \"Renaud Cohade\", \"injured?\": \"no\", \"injured games\": 0, \"Sh\": 1.976226849054324, \"SoT\": -0.19490131578947367, \"Touches\": -18.45875488906222, \"Press\": -0.7201481378990238, \"Tkl\": -0.48626624995193296, \"Int\": 1.4570880930734624, \"Blocks\": -2.0959272463592966, \"xG\": 0.0736842105263158, \"npxG\": 0.0736842105263158, \"xA\": 0.11052631578947368, \"SCA\": 0.53032986750092, \"GCA\": -0.21052631578947367, \"Cmp\": -9.14326377177418, \"Att\": -14.173515016013065, \"Cmp%\": 4.478947368421046, \"PrgDist\": 127.55986835238602, \"Carries\": -9.7024881172441, \"PrgDist.1\": -29.475955186800636, \"Succ\": 1.3421052631578947, \"Att.1\": 0.8027071122122185, \"negative features\": 10}, {\"name\": \"Bongani Zungu\", \"injured?\": \"no\", \"injured games\": 0, \"Sh\": -0.3681318681318681, \"SoT\": -0.16483516483516486, \"Touches\": -3.5567660576791127, \"Press\": 10.38895446078926, \"Tkl\": -1.890727654260459, \"Int\": -1.508029757478055, \"Blocks\": -2.147167935290904, \"xG\": -0.013736263736263741, \"npxG\": -0.013736263736263741, \"xA\": -0.02735042735042735, \"SCA\": 4.0662596892800495, \"GCA\": 0.0, \"Cmp\": -22.641783009965053, \"Att\": -9.927140327084013, \"Cmp%\": -39.0076923076923, \"PrgDist\": -150.8000682900014, \"Carries\": 3.2064323432391935, \"PrgDist.1\": 222.76698781735013, \"Succ\": -0.7254646385876071, \"Att.1\": -0.8408492539722225, \"negative features\": 14}, {\"name\": \"Gaetano Letizia\", \"injured?\": \"no\", \"injured games\": 0, \"Sh\": 0.31361142448090096, \"SoT\": -0.2873563218390805, \"Touches\": -17.36449017843573, \"Press\": -0.8576982455429984, \"Tkl\": -0.4761313946879326, \"Int\": 0.9494676163105868, \"Blocks\": -0.7303538671307439, \"xG\": -0.03218390804597701, \"npxG\": -0.03218390804597701, \"xA\": -0.07692006269592477, \"SCA\": -0.8866462222191758, \"GCA\": -0.14655172413793102, \"Cmp\": -14.57506977568088, \"Att\": -15.213504049801465, \"Cmp%\": -7.262068965517272, \"PrgDist\": -46.1989950341607, \"Carries\": -16.392227250776827, \"PrgDist.1\": -108.54684960880294, \"Succ\": -1.7127004825067549, \"Att.1\": -1.2001162573779398, \"negative features\": 18}, {\"name\": \"Perparim Hetemaj\", \"injured?\": \"no\", \"injured games\": 6, \"Sh\": -0.39676709965722057, \"SoT\": -0.4964028410941062, \"Touches\": 30.253965549819146, \"Press\": -14.346785201512613, \"Tkl\": 0.1317047458025402, \"Int\": -0.2359832612942576, \"Blocks\": -1.0284691062042892, \"xG\": 0.08922688704781473, \"npxG\": 0.08922688704781473, \"xA\": 0.11285094111139005, \"SCA\": 2.1428840228928347, \"GCA\": 1.8256578947368418, \"Cmp\": 34.47033474872322, \"Att\": 35.08838397122569, \"Cmp%\": 9.721874999999997, \"PrgDist\": 266.3343357980772, \"Carries\": 13.29575224484472, \"PrgDist.1\": 17.75554852930452, \"Succ\": -1.0802945058681237, \"Att.1\": -1.7568818074554249, \"negative features\": 6}, {\"name\": \"Claudio Pizarro\", \"injured?\": \"no\", \"injured games\": 12, \"Sh\": 4.521509740259739, \"SoT\": 3.3189935064935066, \"Touches\": -27.647822765469808, \"Press\": -8.939887318563796, \"Tkl\": -0.7329545454545454, \"Int\": 3.7366071428571432, \"Blocks\": -1.53125, \"xG\": -0.3462256493506495, \"npxG\": -0.3462256493506495, \"xA\": -0.04602272727272727, \"SCA\": -2.7017045454545454, \"GCA\": -0.7301136363636364, \"Cmp\": -15.658923796791447, \"Att\": -22.887223071046602, \"Cmp%\": 12.331249999999995, \"PrgDist\": 4.787862872421727, \"Carries\": -25.24005681818181, \"PrgDist.1\": -145.53785093582889, \"Succ\": -4.217245989304812, \"Att.1\": -4.68875334224599, \"negative features\": 15}, {\"name\": \"Marcelo\", \"injured?\": \"no\", \"injured games\": 1, \"Sh\": 1.2705926777775869, \"SoT\": -0.2691337258200168, \"Touches\": 35.312335867904785, \"Press\": -6.395513293626955, \"Tkl\": -0.8057190916736754, \"Int\": -0.9035032011122364, \"Blocks\": -0.2651516451828841, \"xG\": 0.041525205540584594, \"npxG\": 0.041525205540584594, \"xA\": -0.024390243902439025, \"SCA\": 0.4390243902439024, \"GCA\": -0.0975609756097561, \"Cmp\": 34.429120681073115, \"Att\": 39.40237894989788, \"Cmp%\": 1.4414634146341283, \"PrgDist\": 204.35320368685743, \"Carries\": 33.49937350886528, \"PrgDist.1\": 269.64147542953265, \"Succ\": -0.04878048780487805, \"Att.1\": -0.04878048780487805, \"negative features\": 9}, {\"name\": \"Alen Halilovic\", \"injured?\": \"no\", \"injured games\": 1, \"Sh\": 1.206503378378378, \"SoT\": -1.067157335907336, \"Touches\": 34.40320331330125, \"Press\": 3.638061243541653, \"Tkl\": -0.25357142857142856, \"Int\": -0.3419341216216216, \"Blocks\": -0.7866852830005815, \"xG\": -0.14040178571428572, \"npxG\": -0.14040178571428572, \"xA\": -0.07738839285714286, \"SCA\": -0.8601639158542147, \"GCA\": -0.2109375, \"Cmp\": 28.14070184933057, \"Att\": 38.17827240956905, \"Cmp%\": 0.4299999999999784, \"PrgDist\": 69.60093146944828, \"Carries\": 26.569082293009533, \"PrgDist.1\": 180.69305170991268, \"Succ\": -1.589465315468114, \"Att.1\": -2.505838098468696, \"negative features\": 11}, {\"name\": \"Vincent Pajot\", \"injured?\": \"no\", \"injured games\": 0, \"Sh\": -1.4216880341880342, \"SoT\": -0.25555555555555554, \"Touches\": -3.186356919577172, \"Press\": -0.7673894225053957, \"Tkl\": 1.9013764502560035, \"Int\": 3.4131952318162604, \"Blocks\": 1.938259989803072, \"xG\": -0.08611111111111111, \"npxG\": -0.08611111111111111, \"xA\": -0.11878676470588236, \"SCA\": -1.599978738902483, \"GCA\": -0.4084558823529411, \"Cmp\": -2.9263088503943884, \"Att\": -2.2153374894119224, \"Cmp%\": 3.2000000000000175, \"PrgDist\": -0.9069047056585192, \"Carries\": -4.701684090551414, \"PrgDist.1\": -28.24839205805778, \"Succ\": 0.37631578947368427, \"Att.1\": 0.2629355077835435, \"negative features\": 13}, {\"name\": \"Roberto Soriano\", \"injured?\": \"no\", \"injured games\": 0, \"Sh\": 1.116931135248563, \"SoT\": 2.4400662709767125, \"Touches\": 8.963595039604051, \"Press\": 3.815584570597576, \"Tkl\": 1.5318669416015551, \"Int\": -0.4283195093346454, \"Blocks\": -1.3456628933265828, \"xG\": -0.12026828579234332, \"npxG\": -0.12026828579234332, \"xA\": -0.05443801021405558, \"SCA\": 0.5593305883788822, \"GCA\": 0.0, \"Cmp\": 0.9279829784034774, \"Att\": 8.741380625983666, \"Cmp%\": -9.642307692307682, \"PrgDist\": -61.30148042946702, \"Carries\": 10.467909563582944, \"PrgDist.1\": 38.72273272689813, \"Succ\": 1.9421930774083933, \"Att.1\": 1.662764629394419, \"negative features\": 7}, {\"name\": \"Adama Diakhaby\", \"injured?\": \"no\", \"injured games\": 0, \"Sh\": 1.914912920489218, \"SoT\": 1.1987445806817656, \"Touches\": -28.614859759515966, \"Press\": -7.1442968257964194, \"Tkl\": -1.4833341937627411, \"Int\": 0.4095823098774889, \"Blocks\": -1.0667944306005874, \"xG\": 1.3278972022483644, \"npxG\": 1.3278972022483644, \"xA\": 0.3780737338147156, \"SCA\": 1.819467733322711, \"GCA\": 1.1106576134759754, \"Cmp\": -4.863647093264444, \"Att\": -25.1996021855756, \"Cmp%\": 19.768421052631567, \"PrgDist\": -3.3619545534381743, \"Carries\": -23.789275032299877, \"PrgDist.1\": -128.32014117926778, \"Succ\": -0.9714212044317022, \"Att.1\": -1.268778274998979, \"negative features\": 11}, {\"name\": \"Marc Bartra\", \"injured?\": \"no\", \"injured games\": 4, \"Sh\": -0.6071428571428571, \"SoT\": -0.25, \"Touches\": 10.809590811602874, \"Press\": -4.139971195806206, \"Tkl\": 0.744621575607491, \"Int\": 0.4390609390609392, \"Blocks\": -0.049726933026732034, \"xG\": -0.039285714285714285, \"npxG\": -0.039285714285714285, \"xA\": -0.04642857142857143, \"SCA\": -0.7801036991177835, \"GCA\": -0.15384615384615385, \"Cmp\": 11.397341592009596, \"Att\": 8.918169355795099, \"Cmp%\": 7.664285714285711, \"PrgDist\": 121.8143601870966, \"Carries\": 2.2638945561480743, \"PrgDist.1\": -67.78882083711056, \"Succ\": -0.6524144869215291, \"Att.1\": -0.795271629778672, \"negative features\": 11}, {\"name\": \"Daniel Wass\", \"injured?\": \"no\", \"injured games\": 1, \"Sh\": -1.5038461538461538, \"SoT\": -0.32142857142857145, \"Touches\": -5.775949905949929, \"Press\": -3.2386941415512855, \"Tkl\": -0.666031746031746, \"Int\": 0.31667953667953685, \"Blocks\": -0.1593491450634308, \"xG\": -0.13428571428571429, \"npxG\": -0.13428571428571429, \"xA\": -0.13838699138699134, \"SCA\": -3.0939401096543966, \"GCA\": -0.4571428571428571, \"Cmp\": -5.5636532450818095, \"Att\": -8.307891109319684, \"Cmp%\": 2.128571428571433, \"PrgDist\": -40.22735118163689, \"Carries\": -6.038808463094185, \"PrgDist.1\": -60.34381711381712, \"Succ\": -0.2914285714285714, \"Att.1\": -0.5803174603174602, \"negative features\": 17}, {\"name\": \"Simone Verdi\", \"injured?\": \"no\", \"injured games\": 0, \"Sh\": 0.4869963570586919, \"SoT\": 0.2152128498966204, \"Touches\": -14.741931131544463, \"Press\": 6.790592598349132, \"Tkl\": -0.02371074437000864, \"Int\": 0.015922367986274773, \"Blocks\": -0.7800853040351936, \"xG\": -0.16813675867284494, \"npxG\": -0.11400641413154153, \"xA\": -0.06670765505657343, \"SCA\": -0.1910874957953439, \"GCA\": 0.5373716983038682, \"Cmp\": -0.8701123568359463, \"Att\": -10.86923206625386, \"Cmp%\": 21.599999999999966, \"PrgDist\": -21.651980677889952, \"Carries\": -3.76195698036112, \"PrgDist.1\": -54.31614696791607, \"Succ\": -2.6073500386693382, \"Att.1\": -4.185959945270776, \"negative features\": 14}, {\"name\": \"Suat Serdar\", \"injured?\": \"no\", \"injured games\": 14, \"Sh\": 3.9141137165011406, \"SoT\": 2.2501422156594573, \"Touches\": 30.74472062529871, \"Press\": -12.438237650403972, \"Tkl\": 0.2644547298543243, \"Int\": -1.2647337400278575, \"Blocks\": 0.9340051762283, \"xG\": -0.0911830466830467, \"npxG\": -0.0911830466830467, \"xA\": -0.03247058823529412, \"SCA\": 0.9740019965780607, \"GCA\": 0.0, \"Cmp\": 11.763407514967348, \"Att\": 17.199776871229204, \"Cmp%\": -2.0959999999999748, \"PrgDist\": 27.568587769228746, \"Carries\": 18.47361475052549, \"PrgDist.1\": 35.95191293723545, \"Succ\": -2.2695630871513224, \"Att.1\": -3.567452377511201, \"negative features\": 8}, {\"name\": \"Yuri Berchiche\", \"injured?\": \"no\", \"injured games\": 2, \"Sh\": -0.9090909090909092, \"SoT\": -0.13636363636363635, \"Touches\": -2.653934300993143, \"Press\": -4.8456837280366685, \"Tkl\": 1.2142857142857144, \"Int\": 0.7727272727272727, \"Blocks\": 1.2727272727272727, \"xG\": -0.018181818181818184, \"npxG\": -0.018181818181818184, \"xA\": -0.03770053475935831, \"SCA\": -1.0133689839572195, \"GCA\": 0.5909090909090908, \"Cmp\": -1.2635599694423192, \"Att\": -1.6600458365164172, \"Cmp%\": 0.6863636363636658, \"PrgDist\": -20.828113063407162, \"Carries\": -2.829258976317796, \"PrgDist.1\": -3.2112299465240994, \"Succ\": 2.4545454545454546, \"Att.1\": 1.6229946524064172, \"negative features\": 12}, {\"name\": \"Chory Castro\", \"injured?\": \"no\", \"injured games\": 0, \"Sh\": -0.15599066814707865, \"SoT\": -0.3933713345478051, \"Touches\": 5.888724106285843, \"Press\": 6.241308683572048, \"Tkl\": -1.4499417868461302, \"Int\": -0.10671126043141732, \"Blocks\": -0.4924296290370007, \"xG\": -0.03153103723018978, \"npxG\": 0.020776655077502537, \"xA\": 0.0006871356876090863, \"SCA\": -0.2311083711676987, \"GCA\": -0.15708989805375348, \"Cmp\": 10.664592051327126, \"Att\": 8.742746832495946, \"Cmp%\": 8.94230769230768, \"PrgDist\": 22.523226110175894, \"Carries\": -3.15315469753898, \"PrgDist.1\": -72.03068397244019, \"Succ\": -0.789595544614061, \"Att.1\": -0.1596065545357186, \"negative features\": 11}, {\"name\": \"Dries Mertens\", \"injured?\": \"no\", \"injured games\": 0, \"Sh\": 1.0465626995594732, \"SoT\": -0.8233827949629395, \"Touches\": 2.9158384257577694, \"Press\": 10.285792270718002, \"Tkl\": -0.6964157670012947, \"Int\": -0.24759177722187964, \"Blocks\": 0.03868719125343412, \"xG\": 0.5340362439935288, \"npxG\": -0.17571985356744668, \"xA\": 0.6942100265161734, \"SCA\": 5.656963518376099, \"GCA\": 1.5068025528125464, \"Cmp\": 8.366054371248254, \"Att\": 3.2756076390990394, \"Cmp%\": 17.526829268292687, \"PrgDist\": 32.07230818253025, \"Carries\": 12.993119820873511, \"PrgDist.1\": -3.8135241303110954, \"Succ\": 0.5949070983405191, \"Att.1\": 0.033662721556486634, \"negative features\": 5}, {\"name\": \"Andrea Barberis\", \"injured?\": \"no\", \"injured games\": 0, \"Sh\": -0.6513157894736842, \"SoT\": -0.2269736842105264, \"Touches\": -11.78997088785546, \"Press\": 17.521789271063163, \"Tkl\": 0.2871861988778095, \"Int\": -0.3067148518359344, \"Blocks\": -2.15591007038681, \"xG\": -0.04111842105263158, \"npxG\": -0.04111842105263158, \"xA\": -0.06844150945762632, \"SCA\": 2.1694603584631267, \"GCA\": -0.14532820816085154, \"Cmp\": -7.461491234279632, \"Att\": -12.01787901477991, \"Cmp%\": 4.868421052631575, \"PrgDist\": -17.808679815257648, \"Carries\": -1.9407819640043584, \"PrgDist.1\": -26.21606975901193, \"Succ\": -0.6199066991438077, \"Att.1\": -1.029996130240404, \"negative features\": 15}, {\"name\": \"Paulo Oliveira\", \"injured?\": \"no\", \"injured games\": 0, \"Sh\": 0.3110367892976588, \"SoT\": -0.2274247491638796, \"Touches\": 7.6946435647130755, \"Press\": -1.1190214274036885, \"Tkl\": -0.2217194570135748, \"Int\": -1.6451801503492731, \"Blocks\": -0.4346121980753297, \"xG\": -0.015384615384615384, \"npxG\": -0.015384615384615384, \"xA\": -0.007692307692307694, \"SCA\": -0.7671290382467935, \"GCA\": -0.038461538461538464, \"Cmp\": 8.395047839664393, \"Att\": 8.226065620557897, \"Cmp%\": 6.015384615384605, \"PrgDist\": 32.744068186415404, \"Carries\": 1.6569537231256923, \"PrgDist.1\": 5.211287001964578, \"Succ\": -0.07692307692307693, \"Att.1\": -0.07692307692307693, \"negative features\": 12}, {\"name\": \"Marquinhos\", \"injured?\": \"no\", \"injured games\": 0, \"Sh\": -0.6301775147928995, \"SoT\": -0.038461538461538464, \"Touches\": -13.257607776838555, \"Press\": -3.4139898562975475, \"Tkl\": -0.032333051563820936, \"Int\": -0.6923076923076923, \"Blocks\": -1.7840236686390534, \"xG\": -0.0606508875739645, \"npxG\": -0.0606508875739645, \"xA\": -0.04230769230769231, \"SCA\": 0.5236686390532543, \"GCA\": -0.07692307692307693, \"Cmp\": -8.011411665257818, \"Att\": -11.223372781065102, \"Cmp%\": 4.942307692307693, \"PrgDist\": -68.98732037193564, \"Carries\": -6.147295012679643, \"PrgDist.1\": 59.64771766694847, \"Succ\": -0.07692307692307693, \"Att.1\": -0.07692307692307693, \"negative features\": 16}, {\"name\": \"Marcus Thuram\", \"injured?\": \"no\", \"injured games\": 0, \"Sh\": -2.7531635825561582, \"SoT\": -0.8003285233739574, \"Touches\": 23.03610976391227, \"Press\": 49.519192912378365, \"Tkl\": -0.6639695369969565, \"Int\": -0.21478370253501908, \"Blocks\": -0.6259362728070199, \"xG\": -0.3074864866221496, \"npxG\": -0.3074864866221496, \"xA\": 0.9329392244562412, \"SCA\": 2.625955562405712, \"GCA\": -0.2630272952853598, \"Cmp\": 13.935301853555664, \"Att\": 26.28002293266738, \"Cmp%\": -7.790322580645181, \"PrgDist\": 104.37039522998215, \"Carries\": 18.9066567098505, \"PrgDist.1\": 239.9640856753588, \"Succ\": -2.381091205610217, \"Att.1\": -3.2706863526254346, \"negative features\": 10}]}}, {\"mode\": \"vega-lite\"});\n",
       "</script>"
      ],
      "text/plain": [
       "alt.Chart(...)"
      ]
     },
     "execution_count": 117,
     "metadata": {},
     "output_type": "execute_result"
    }
   ],
   "source": [
    "chart = alt.Chart(plot_sample).mark_point().encode(\n",
    "    x = 'negative features',\n",
    "    y = \"injured games\",\n",
    "    color= \"injured?\",\n",
    "    tooltip = ['name', 'injured?']\n",
    "\n",
    ")\n",
    "\n",
    "chart = chart.configure(\n",
    ").configure_title(\n",
    "    fontSize=16\n",
    ").configure_axis(\n",
    "    titleFontSize=14,\n",
    "    labelFontSize=12\n",
    ").configure_legend(\n",
    "    titleFontSize=14,\n",
    "    labelFontSize=12,\n",
    "    symbolSize=400\n",
    ").configure_view(\n",
    "    continuousWidth=600,\n",
    "    continuousHeight=450\n",
    ")\n",
    "\n",
    "chart"
   ]
  },
  {
   "cell_type": "code",
   "execution_count": 118,
   "metadata": {},
   "outputs": [],
   "source": [
    "chart.save(\"chart.json\")\n",
    "chart.save(\"chart.html\")"
   ]
  },
  {
   "cell_type": "code",
   "execution_count": null,
   "metadata": {},
   "outputs": [],
   "source": []
  },
  {
   "cell_type": "code",
   "execution_count": null,
   "metadata": {},
   "outputs": [],
   "source": []
  },
  {
   "cell_type": "code",
   "execution_count": 20,
   "metadata": {},
   "outputs": [],
   "source": [
    "injuries_before_after = X.groupby('name').agg({'label': 'sum', 'injured games':'max'})"
   ]
  },
  {
   "cell_type": "code",
   "execution_count": 34,
   "metadata": {},
   "outputs": [],
   "source": [
    "df = injuries_before_after.set_index('label')"
   ]
  },
  {
   "cell_type": "code",
   "execution_count": 85,
   "metadata": {},
   "outputs": [],
   "source": [
    "label_averages = X.drop(columns=['name']).groupby('label').mean()"
   ]
  },
  {
   "cell_type": "code",
   "execution_count": 78,
   "metadata": {},
   "outputs": [],
   "source": [
    "def counter(row):\n",
    "    count=0\n",
    "    for column in column_names[1:]:\n",
    "        if row[column]<0:\n",
    "            count+=1\n",
    "    row['negative']=count\n",
    "    return row"
   ]
  },
  {
   "cell_type": "code",
   "execution_count": 77,
   "metadata": {},
   "outputs": [],
   "source": [
    "column_names = [ 'Sh',\n",
    " 'SoT',\n",
    " 'Touches',\n",
    " 'Press',\n",
    " 'Tkl',\n",
    " 'Int',\n",
    " 'Blocks',\n",
    " 'xG',\n",
    " 'npxG',\n",
    " 'xA',\n",
    " 'SCA',\n",
    " 'GCA',\n",
    " 'Cmp',\n",
    " 'Att',\n",
    " 'Cmp%',\n",
    " 'PrgDist',\n",
    " 'Carries',\n",
    " 'PrgDist.1',\n",
    " 'Succ',\n",
    " 'Att.1']"
   ]
  },
  {
   "cell_type": "code",
   "execution_count": 6,
   "metadata": {},
   "outputs": [],
   "source": [
    "df = X.drop(columns = ['name','injured games'])"
   ]
  },
  {
   "cell_type": "code",
   "execution_count": 9,
   "metadata": {},
   "outputs": [],
   "source": [
    "df.drop(columns=['Unnamed: 0'], inplace=True)"
   ]
  },
  {
   "cell_type": "code",
   "execution_count": 12,
   "metadata": {},
   "outputs": [],
   "source": [
    "df = df.apply(counter, axis =1)"
   ]
  },
  {
   "cell_type": "code",
   "execution_count": null,
   "metadata": {},
   "outputs": [
    {
     "data": {
      "text/plain": [
       "<matplotlib.axes._subplots.AxesSubplot at 0x1a298c2f28>"
      ]
     },
     "execution_count": 129,
     "metadata": {},
     "output_type": "execute_result"
    }
   ],
   "source": [
    "df[df['label'] == 0.0].negative.plot.bar()"
   ]
  },
  {
   "cell_type": "code",
   "execution_count": 16,
   "metadata": {},
   "outputs": [],
   "source": [
    "injuries_counts = df[df['label'] == 1.0].negative.value_counts()"
   ]
  },
  {
   "cell_type": "code",
   "execution_count": 17,
   "metadata": {},
   "outputs": [],
   "source": [
    "no_injuries_counts = df[df['label'] == 0.0].negative.value_counts()"
   ]
  },
  {
   "cell_type": "code",
   "execution_count": 19,
   "metadata": {},
   "outputs": [
    {
     "name": "stderr",
     "output_type": "stream",
     "text": [
      "/anaconda3/lib/python3.6/site-packages/scipy/stats/stats.py:1713: FutureWarning: Using a non-tuple sequence for multidimensional indexing is deprecated; use `arr[tuple(seq)]` instead of `arr[seq]`. In the future this will be interpreted as an array index, `arr[np.array(seq)]`, which will result either in an error or a different result.\n",
      "  return np.add.reduce(sorted[indexer] * weights, axis=axis) / sumval\n",
      "/anaconda3/lib/python3.6/site-packages/scipy/stats/stats.py:1713: FutureWarning: Using a non-tuple sequence for multidimensional indexing is deprecated; use `arr[tuple(seq)]` instead of `arr[seq]`. In the future this will be interpreted as an array index, `arr[np.array(seq)]`, which will result either in an error or a different result.\n",
      "  return np.add.reduce(sorted[indexer] * weights, axis=axis) / sumval\n"
     ]
    },
    {
     "data": {
      "image/png": "[encoded data removed]",
      "text/plain": [
       "<Figure size 432x288 with 1 Axes>"
      ]
     },
     "metadata": {
      "needs_background": "light"
     },
     "output_type": "display_data"
    }
   ],
   "source": [
    "for label in df['label'].unique():\n",
    "    sns.distplot(df[df['label'] == label]['negative'])"
   ]
  },
  {
   "cell_type": "code",
   "execution_count": 31,
   "metadata": {},
   "outputs": [],
   "source": [
    "inj_to_plot = injuries_counts.div(injuries_counts.sum(axis=0)).sort_index()"
   ]
  },
  {
   "cell_type": "code",
   "execution_count": 32,
   "metadata": {},
   "outputs": [],
   "source": [
    "noinj_to_plot = no_injuries_counts.div(no_injuries_counts.sum(axis=0)).sort_index()"
   ]
  },
  {
   "cell_type": "code",
   "execution_count": 49,
   "metadata": {},
   "outputs": [],
   "source": [
    "df_frequencies = pd.concat([inj_to_plot.rename('injury'), noinj_to_plot.rename('no injury')], axis=1).fillna(0)"
   ]
  },
  {
   "cell_type": "code",
   "execution_count": 72,
   "metadata": {},
   "outputs": [
    {
     "data": {
      "image/png": "[encoded data removed]",
      "text/plain": [
       "<Figure size 432x288 with 1 Axes>"
      ]
     },
     "metadata": {
      "needs_background": "light"
     },
     "output_type": "display_data"
    }
   ],
   "source": [
    "df_frequencies.plot(kind='bar', title = 'Frequencies of negative performance features').get_figure().savefig('output.png')\n",
    "\n"
   ]
  },
  {
   "cell_type": "code",
   "execution_count": 73,
   "metadata": {},
   "outputs": [
    {
     "data": {
      "image/png": "[encoded data removed]",
      "text/plain": [
       "<Figure size 432x288 with 1 Axes>"
      ]
     },
     "metadata": {
      "needs_background": "light"
     },
     "output_type": "display_data"
    }
   ],
   "source": [
    "df_frequencies.plot(kind='line', title = 'Frequencies of negative performance features').get_figure().savefig('output2.png')\n",
    "\n"
   ]
  },
  {
   "cell_type": "code",
   "execution_count": 67,
   "metadata": {},
   "outputs": [
    {
     "name": "stderr",
     "output_type": "stream",
     "text": [
      "/anaconda3/lib/python3.6/site-packages/scipy/stats/stats.py:1713: FutureWarning: Using a non-tuple sequence for multidimensional indexing is deprecated; use `arr[tuple(seq)]` instead of `arr[seq]`. In the future this will be interpreted as an array index, `arr[np.array(seq)]`, which will result either in an error or a different result.\n",
      "  return np.add.reduce(sorted[indexer] * weights, axis=axis) / sumval\n"
     ]
    },
    {
     "data": {
      "text/plain": [
       "<matplotlib.axes._subplots.AxesSubplot at 0x1a22ab4828>"
      ]
     },
     "execution_count": 67,
     "metadata": {},
     "output_type": "execute_result"
    },
    {
     "data": {
      "image/png": "[encoded data removed]",
      "text/plain": [
       "<Figure size 432x288 with 1 Axes>"
      ]
     },
     "metadata": {
      "needs_background": "light"
     },
     "output_type": "display_data"
    }
   ],
   "source": [
    "sns.distplot(df_frequencies.injury)"
   ]
  },
  {
   "cell_type": "code",
   "execution_count": null,
   "metadata": {},
   "outputs": [],
   "source": []
  },
  {
   "cell_type": "code",
   "execution_count": 49,
   "metadata": {},
   "outputs": [],
   "source": [
    "std = X.drop(columns=['name']).std()"
   ]
  },
  {
   "cell_type": "code",
   "execution_count": 51,
   "metadata": {},
   "outputs": [],
   "source": [
    "mean = X.drop(columns=['name']).mean()"
   ]
  },
  {
   "cell_type": "code",
   "execution_count": 69,
   "metadata": {},
   "outputs": [],
   "source": [
    "stats = std.to_frame().rename(columns={0:'std'}).transpose().append(mean.to_frame().rename(columns={0:'mean'}).transpose())"
   ]
  },
  {
   "cell_type": "code",
   "execution_count": 72,
   "metadata": {},
   "outputs": [],
   "source": [
    "stats.drop(columns=['label'], inplace=True)"
   ]
  },
  {
   "cell_type": "code",
   "execution_count": 73,
   "metadata": {},
   "outputs": [
    {
     "data": {
      "text/html": [
       "<div>\n",
       "<style scoped>\n",
       "    .dataframe tbody tr th:only-of-type {\n",
       "        vertical-align: middle;\n",
       "    }\n",
       "\n",
       "    .dataframe tbody tr th {\n",
       "        vertical-align: top;\n",
       "    }\n",
       "\n",
       "    .dataframe thead th {\n",
       "        text-align: right;\n",
       "    }\n",
       "</style>\n",
       "<table border=\"1\" class=\"dataframe\">\n",
       "  <thead>\n",
       "    <tr style=\"text-align: right;\">\n",
       "      <th></th>\n",
       "      <th>injured games</th>\n",
       "      <th>Sh</th>\n",
       "      <th>SoT</th>\n",
       "      <th>Touches</th>\n",
       "      <th>Press</th>\n",
       "      <th>Tkl</th>\n",
       "      <th>Int</th>\n",
       "      <th>Blocks</th>\n",
       "      <th>xG</th>\n",
       "      <th>npxG</th>\n",
       "      <th>...</th>\n",
       "      <th>SCA</th>\n",
       "      <th>GCA</th>\n",
       "      <th>Cmp</th>\n",
       "      <th>Att</th>\n",
       "      <th>Cmp%</th>\n",
       "      <th>PrgDist</th>\n",
       "      <th>Carries</th>\n",
       "      <th>PrgDist.1</th>\n",
       "      <th>Succ</th>\n",
       "      <th>Att.1</th>\n",
       "    </tr>\n",
       "  </thead>\n",
       "  <tbody>\n",
       "    <tr>\n",
       "      <th>std</th>\n",
       "      <td>6.266809</td>\n",
       "      <td>2.578607</td>\n",
       "      <td>1.621434</td>\n",
       "      <td>26.228730</td>\n",
       "      <td>14.275753</td>\n",
       "      <td>2.864828</td>\n",
       "      <td>2.327673</td>\n",
       "      <td>2.520872</td>\n",
       "      <td>0.537115</td>\n",
       "      <td>0.472080</td>\n",
       "      <td>...</td>\n",
       "      <td>3.647052</td>\n",
       "      <td>1.369858</td>\n",
       "      <td>19.568239</td>\n",
       "      <td>22.661594</td>\n",
       "      <td>12.296702</td>\n",
       "      <td>138.452136</td>\n",
       "      <td>20.192551</td>\n",
       "      <td>118.965433</td>\n",
       "      <td>2.544070</td>\n",
       "      <td>3.260294</td>\n",
       "    </tr>\n",
       "    <tr>\n",
       "      <th>mean</th>\n",
       "      <td>3.289558</td>\n",
       "      <td>0.000167</td>\n",
       "      <td>0.001155</td>\n",
       "      <td>0.121374</td>\n",
       "      <td>0.028941</td>\n",
       "      <td>0.002328</td>\n",
       "      <td>0.005531</td>\n",
       "      <td>0.008602</td>\n",
       "      <td>0.000391</td>\n",
       "      <td>0.000323</td>\n",
       "      <td>...</td>\n",
       "      <td>0.003988</td>\n",
       "      <td>0.002799</td>\n",
       "      <td>0.032261</td>\n",
       "      <td>0.089373</td>\n",
       "      <td>-0.097465</td>\n",
       "      <td>0.402157</td>\n",
       "      <td>0.054451</td>\n",
       "      <td>0.234084</td>\n",
       "      <td>-0.000723</td>\n",
       "      <td>-0.003052</td>\n",
       "    </tr>\n",
       "  </tbody>\n",
       "</table>\n",
       "<p>2 rows × 21 columns</p>\n",
       "</div>"
      ],
      "text/plain": [
       "      injured games        Sh       SoT    Touches      Press       Tkl  \\\n",
       "std        6.266809  2.578607  1.621434  26.228730  14.275753  2.864828   \n",
       "mean       3.289558  0.000167  0.001155   0.121374   0.028941  0.002328   \n",
       "\n",
       "           Int    Blocks        xG      npxG  ...       SCA       GCA  \\\n",
       "std   2.327673  2.520872  0.537115  0.472080  ...  3.647052  1.369858   \n",
       "mean  0.005531  0.008602  0.000391  0.000323  ...  0.003988  0.002799   \n",
       "\n",
       "            Cmp        Att       Cmp%     PrgDist    Carries   PrgDist.1  \\\n",
       "std   19.568239  22.661594  12.296702  138.452136  20.192551  118.965433   \n",
       "mean   0.032261   0.089373  -0.097465    0.402157   0.054451    0.234084   \n",
       "\n",
       "          Succ     Att.1  \n",
       "std   2.544070  3.260294  \n",
       "mean -0.000723 -0.003052  \n",
       "\n",
       "[2 rows x 21 columns]"
      ]
     },
     "execution_count": 73,
     "metadata": {},
     "output_type": "execute_result"
    }
   ],
   "source": [
    "stats"
   ]
  },
  {
   "cell_type": "code",
   "execution_count": 78,
   "metadata": {},
   "outputs": [],
   "source": [
    "column_names=stats.columns.to_list()"
   ]
  },
  {
   "cell_type": "code",
   "execution_count": 84,
   "metadata": {},
   "outputs": [],
   "source": [
    "def z_score(row):\n",
    "    for column in column_names:\n",
    "        name=column+' z_score'\n",
    "        row[name] = (row[column] - stats.loc['mean',column] ) / stats.loc['std',column]\n",
    "    return row"
   ]
  },
  {
   "cell_type": "code",
   "execution_count": 89,
   "metadata": {},
   "outputs": [],
   "source": [
    "z_scores = label_averages.apply(z_score, axis=1)"
   ]
  },
  {
   "cell_type": "code",
   "execution_count": 92,
   "metadata": {},
   "outputs": [],
   "source": [
    "z_scores = z_scores.iloc[:,21:]"
   ]
  },
  {
   "cell_type": "code",
   "execution_count": 98,
   "metadata": {},
   "outputs": [
    {
     "data": {
      "text/plain": [
       "injured games z_score    0.157611\n",
       "Sh z_score              -0.064923\n",
       "SoT z_score             -0.038410\n",
       "Touches z_score         -0.130663\n",
       "Press z_score           -0.056685\n",
       "Tkl z_score             -0.102710\n",
       "Int z_score             -0.032825\n",
       "Blocks z_score          -0.006925\n",
       "xG z_score              -0.049703\n",
       "npxG z_score            -0.053231\n",
       "xA z_score              -0.023622\n",
       "SCA z_score             -0.071261\n",
       "GCA z_score             -0.059063\n",
       "Cmp z_score             -0.085491\n",
       "Att z_score             -0.110184\n",
       "Cmp% z_score             0.039809\n",
       "PrgDist z_score         -0.080551\n",
       "Carries z_score         -0.130296\n",
       "PrgDist.1 z_score       -0.085847\n",
       "Succ z_score            -0.056806\n",
       "Att.1 z_score           -0.072649\n",
       "Name: 1, dtype: float64"
      ]
     },
     "execution_count": 98,
     "metadata": {},
     "output_type": "execute_result"
    }
   ],
   "source": [
    "z_scores.iloc[1]"
   ]
  },
  {
   "cell_type": "code",
   "execution_count": null,
   "metadata": {},
   "outputs": [],
   "source": []
  },
  {
   "cell_type": "code",
   "execution_count": 9,
   "metadata": {},
   "outputs": [],
   "source": [
    "sns.set_style(\"dark\")\n",
    "sns.set_context(\"talk\")"
   ]
  },
  {
   "cell_type": "code",
   "execution_count": 42,
   "metadata": {},
   "outputs": [
    {
     "data": {
      "text/plain": [
       "<matplotlib.axes._subplots.AxesSubplot at 0x1a211f6208>"
      ]
     },
     "execution_count": 42,
     "metadata": {},
     "output_type": "execute_result"
    },
    {
     "data": {
      "image/png": "[encoded data removed]",
      "text/plain": [
       "<Figure size 432x288 with 1 Axes>"
      ]
     },
     "metadata": {},
     "output_type": "display_data"
    }
   ],
   "source": [
    "sns.scatterplot(x = X.label, y = X.PrgDist)"
   ]
  },
  {
   "cell_type": "code",
   "execution_count": null,
   "metadata": {},
   "outputs": [],
   "source": []
  },
  {
   "cell_type": "code",
   "execution_count": null,
   "metadata": {},
   "outputs": [],
   "source": []
  },
  {
   "cell_type": "code",
   "execution_count": null,
   "metadata": {},
   "outputs": [],
   "source": []
  },
  {
   "cell_type": "code",
   "execution_count": 20,
   "metadata": {},
   "outputs": [],
   "source": [
    "history = pd.read_csv('full_avg_history.csv').drop(columns=['Unnamed: 0']).set_index('name')"
   ]
  },
  {
   "cell_type": "code",
   "execution_count": 26,
   "metadata": {},
   "outputs": [],
   "source": [
    "historic=history.iloc[4]"
   ]
  },
  {
   "cell_type": "code",
   "execution_count": 27,
   "metadata": {},
   "outputs": [
    {
     "data": {
      "text/plain": [
       "8.0"
      ]
     },
     "execution_count": 27,
     "metadata": {},
     "output_type": "execute_result"
    }
   ],
   "source": [
    "historic['injured games']"
   ]
  },
  {
   "cell_type": "code",
   "execution_count": 31,
   "metadata": {},
   "outputs": [],
   "source": [
    "current_array=history.iloc[23].values[1:-1]"
   ]
  },
  {
   "cell_type": "code",
   "execution_count": 32,
   "metadata": {},
   "outputs": [
    {
     "data": {
      "text/plain": [
       "20"
      ]
     },
     "execution_count": 32,
     "metadata": {},
     "output_type": "execute_result"
    }
   ],
   "source": [
    "len(current_array)"
   ]
  },
  {
   "cell_type": "code",
   "execution_count": 33,
   "metadata": {},
   "outputs": [],
   "source": [
    "injured_games=historic['injured games']\n",
    "averages=historic.values[1:-1]\n",
    "\n",
    "current_array = current_array - averages\n",
    "\n",
    "obs=np.insert(current_array, 0, injured_games, axis=0)"
   ]
  },
  {
   "cell_type": "code",
   "execution_count": 34,
   "metadata": {},
   "outputs": [
    {
     "data": {
      "text/plain": [
       "array([ 8.00000000e+00, -2.00688123e+00,  4.25165999e-01, -4.76135363e+00,\n",
       "        1.54309399e+00, -1.76935559e+00,  7.02625598e-01, -1.49738346e-01,\n",
       "        1.99046523e-03,  1.99046523e-03,  1.33038872e-01,  1.34415677e+00,\n",
       "        1.15455125e-01,  2.11193179e+00, -1.02923085e+00,  8.16000000e+00,\n",
       "        3.78208950e+01,  5.95604378e+00,  9.10679111e+01,  1.72887298e+00,\n",
       "        8.49756910e-01])"
      ]
     },
     "execution_count": 34,
     "metadata": {},
     "output_type": "execute_result"
    }
   ],
   "source": [
    "obs"
   ]
  },
  {
   "cell_type": "code",
   "execution_count": 45,
   "metadata": {},
   "outputs": [
    {
     "data": {
      "text/plain": [
       "0.04285714285714286"
      ]
     },
     "execution_count": 45,
     "metadata": {},
     "output_type": "execute_result"
    }
   ],
   "source": [
    "estimator.predict_proba(obs.reshape(1,-1))[0,1]"
   ]
  },
  {
   "cell_type": "code",
   "execution_count": 14,
   "metadata": {
    "scrolled": true
   },
   "outputs": [
    {
     "data": {
      "text/plain": [
       "injured games      0.000000\n",
       "Sh                -0.352941\n",
       "SoT               -0.029412\n",
       "Touches            2.285829\n",
       "Press              5.840241\n",
       "Tkl               -0.754211\n",
       "Int               -0.040307\n",
       "Blocks             0.788302\n",
       "xG                -0.005882\n",
       "npxG              -0.005882\n",
       "xA                -0.011765\n",
       "SCA               -1.070388\n",
       "GCA               -0.059492\n",
       "Cmp               -5.477340\n",
       "Att                0.172794\n",
       "Cmp%              -8.438235\n",
       "PrgDist          -68.657219\n",
       "Carries            4.718917\n",
       "PrgDist.1        105.002607\n",
       "Succ               0.876003\n",
       "Att.1              1.376003\n",
       "Name: 23, dtype: float64"
      ]
     },
     "execution_count": 14,
     "metadata": {},
     "output_type": "execute_result"
    }
   ],
   "source": [
    "X.iloc[23]"
   ]
  },
  {
   "cell_type": "code",
   "execution_count": 63,
   "metadata": {},
   "outputs": [
    {
     "name": "stdout",
     "output_type": "stream",
     "text": [
      "              precision    recall  f1-score   support\n",
      "\n",
      "       False       1.00      1.00      1.00      8073\n",
      "        True       1.00      0.99      1.00       195\n",
      "\n",
      "    accuracy                           1.00      8268\n",
      "   macro avg       1.00      1.00      1.00      8268\n",
      "weighted avg       1.00      1.00      1.00      8268\n",
      "\n"
     ]
    },
    {
     "data": {
      "text/html": [
       "<div>\n",
       "<style scoped>\n",
       "    .dataframe tbody tr th:only-of-type {\n",
       "        vertical-align: middle;\n",
       "    }\n",
       "\n",
       "    .dataframe tbody tr th {\n",
       "        vertical-align: top;\n",
       "    }\n",
       "\n",
       "    .dataframe thead th {\n",
       "        text-align: right;\n",
       "    }\n",
       "</style>\n",
       "<table border=\"1\" class=\"dataframe\">\n",
       "  <thead>\n",
       "    <tr style=\"text-align: right;\">\n",
       "      <th></th>\n",
       "      <th>class 0 pred</th>\n",
       "      <th>class 1 pred</th>\n",
       "    </tr>\n",
       "  </thead>\n",
       "  <tbody>\n",
       "    <tr>\n",
       "      <th>class 0 actual</th>\n",
       "      <td>8073</td>\n",
       "      <td>0</td>\n",
       "    </tr>\n",
       "    <tr>\n",
       "      <th>class 1 actual</th>\n",
       "      <td>1</td>\n",
       "      <td>194</td>\n",
       "    </tr>\n",
       "  </tbody>\n",
       "</table>\n",
       "</div>"
      ],
      "text/plain": [
       "                class 0 pred  class 1 pred\n",
       "class 0 actual          8073             0\n",
       "class 1 actual             1           194"
      ]
     },
     "execution_count": 63,
     "metadata": {},
     "output_type": "execute_result"
    }
   ],
   "source": [
    "rfc.fit(X,y)\n",
    "\n",
    "y_rfc_pred_real = rfc.predict(X)\n",
    "print(classification_report(y, y_rfc_pred_real))\n",
    "pd.DataFrame(confusion_matrix(y, y_rfc_pred_real),\n",
    "             index = ['class 0 actual', 'class 1 actual'],\n",
    "             columns = ['class 0 pred', 'class 1 pred'])"
   ]
  },
  {
   "cell_type": "code",
   "execution_count": 64,
   "metadata": {},
   "outputs": [
    {
     "data": {
      "text/plain": [
       "<bound method BaseEstimator.get_params of RandomForestClassifier(bootstrap=True, ccp_alpha=0.0,\n",
       "                       class_weight='balanced_subsample', criterion='gini',\n",
       "                       max_depth=None, max_features='auto', max_leaf_nodes=None,\n",
       "                       max_samples=None, min_impurity_decrease=0.0,\n",
       "                       min_impurity_split=None, min_samples_leaf=1,\n",
       "                       min_samples_split=2, min_weight_fraction_leaf=0.0,\n",
       "                       n_estimators=100, n_jobs=None, oob_score=False,\n",
       "                       random_state=None, verbose=0, warm_start=False)>"
      ]
     },
     "execution_count": 64,
     "metadata": {},
     "output_type": "execute_result"
    }
   ],
   "source": [
    "rfc.get_params"
   ]
  },
  {
   "cell_type": "code",
   "execution_count": 62,
   "metadata": {},
   "outputs": [
    {
     "name": "stdout",
     "output_type": "stream",
     "text": [
      "              precision    recall  f1-score   support\n",
      "\n",
      "       False       1.00      1.00      1.00      8073\n",
      "        True       1.00      1.00      1.00      8073\n",
      "\n",
      "    accuracy                           1.00     16146\n",
      "   macro avg       1.00      1.00      1.00     16146\n",
      "weighted avg       1.00      1.00      1.00     16146\n",
      "\n"
     ]
    },
    {
     "data": {
      "text/html": [
       "<div>\n",
       "<style scoped>\n",
       "    .dataframe tbody tr th:only-of-type {\n",
       "        vertical-align: middle;\n",
       "    }\n",
       "\n",
       "    .dataframe tbody tr th {\n",
       "        vertical-align: top;\n",
       "    }\n",
       "\n",
       "    .dataframe thead th {\n",
       "        text-align: right;\n",
       "    }\n",
       "</style>\n",
       "<table border=\"1\" class=\"dataframe\">\n",
       "  <thead>\n",
       "    <tr style=\"text-align: right;\">\n",
       "      <th></th>\n",
       "      <th>class 0 pred</th>\n",
       "      <th>class 1 pred</th>\n",
       "    </tr>\n",
       "  </thead>\n",
       "  <tbody>\n",
       "    <tr>\n",
       "      <th>class 0 actual</th>\n",
       "      <td>8073</td>\n",
       "      <td>0</td>\n",
       "    </tr>\n",
       "    <tr>\n",
       "      <th>class 1 actual</th>\n",
       "      <td>0</td>\n",
       "      <td>8073</td>\n",
       "    </tr>\n",
       "  </tbody>\n",
       "</table>\n",
       "</div>"
      ],
      "text/plain": [
       "                class 0 pred  class 1 pred\n",
       "class 0 actual          8073             0\n",
       "class 1 actual             0          8073"
      ]
     },
     "execution_count": 62,
     "metadata": {},
     "output_type": "execute_result"
    }
   ],
   "source": [
    "rfc.fit(smox,smoy)\n",
    "\n",
    "y_rfc_pred = rfc.predict(smox)\n",
    "print(classification_report(smoy, y_rfc_pred))\n",
    "pd.DataFrame(confusion_matrix(smoy, y_rfc_pred),\n",
    "             index = ['class 0 actual', 'class 1 actual'],\n",
    "             columns = ['class 0 pred', 'class 1 pred'])"
   ]
  },
  {
   "cell_type": "code",
   "execution_count": 53,
   "metadata": {},
   "outputs": [
    {
     "data": {
      "text/plain": [
       "100"
      ]
     },
     "execution_count": 53,
     "metadata": {},
     "output_type": "execute_result"
    }
   ],
   "source": [
    "rfc.n_estimators"
   ]
  },
  {
   "cell_type": "code",
   "execution_count": 12,
   "metadata": {},
   "outputs": [],
   "source": [
    "RFC=RandomForestClassifier(class_weight='balanced')"
   ]
  },
  {
   "cell_type": "code",
   "execution_count": 13,
   "metadata": {},
   "outputs": [],
   "source": [
    "gs = model_selection.GridSearchCV(\n",
    "    RFC,\n",
    "    {\"n_estimators\": range(10,101,10), \"max_depth\": range(5,10)},\n",
    "    cv=5,  # 5-fold cross validation\n",
    "    n_jobs=-1,  # run each hyperparameter in one of two parallel jobs\n",
    "    scoring='f1',\n",
    "    verbose=1\n",
    ")"
   ]
  },
  {
   "cell_type": "code",
   "execution_count": 14,
   "metadata": {},
   "outputs": [
    {
     "name": "stdout",
     "output_type": "stream",
     "text": [
      "Fitting 5 folds for each of 50 candidates, totalling 250 fits\n"
     ]
    },
    {
     "name": "stderr",
     "output_type": "stream",
     "text": [
      "[Parallel(n_jobs=-1)]: Using backend LokyBackend with 4 concurrent workers.\n",
      "[Parallel(n_jobs=-1)]: Done  42 tasks      | elapsed:   50.0s\n",
      "[Parallel(n_jobs=-1)]: Done 192 tasks      | elapsed:  3.7min\n",
      "[Parallel(n_jobs=-1)]: Done 250 out of 250 | elapsed:  5.1min finished\n"
     ]
    },
    {
     "name": "stdout",
     "output_type": "stream",
     "text": [
      "{'max_depth': 5, 'n_estimators': 60}\n"
     ]
    }
   ],
   "source": [
    "gs.fit(X,y)\n",
    "print (gs.best_params_)"
   ]
  },
  {
   "cell_type": "code",
   "execution_count": 15,
   "metadata": {},
   "outputs": [
    {
     "data": {
      "text/plain": [
       "0.1055399401577659"
      ]
     },
     "execution_count": 15,
     "metadata": {},
     "output_type": "execute_result"
    }
   ],
   "source": [
    "gs.score(X,y) #this is the score using f1 as estimator\n",
    "#best parameters: {'max_depth': 2, 'min_samples_leaf': 8, 'min_samples_split': 3, 'n_estimators': 100}"
   ]
  },
  {
   "cell_type": "code",
   "execution_count": 16,
   "metadata": {},
   "outputs": [
    {
     "name": "stdout",
     "output_type": "stream",
     "text": [
      "              precision    recall  f1-score   support\n",
      "\n",
      "           0       0.99      0.71      0.83     33020\n",
      "           1       0.06      0.66      0.11       880\n",
      "\n",
      "    accuracy                           0.71     33900\n",
      "   macro avg       0.52      0.69      0.47     33900\n",
      "weighted avg       0.96      0.71      0.81     33900\n",
      "\n"
     ]
    },
    {
     "data": {
      "text/html": [
       "<div>\n",
       "<style scoped>\n",
       "    .dataframe tbody tr th:only-of-type {\n",
       "        vertical-align: middle;\n",
       "    }\n",
       "\n",
       "    .dataframe tbody tr th {\n",
       "        vertical-align: top;\n",
       "    }\n",
       "\n",
       "    .dataframe thead th {\n",
       "        text-align: right;\n",
       "    }\n",
       "</style>\n",
       "<table border=\"1\" class=\"dataframe\">\n",
       "  <thead>\n",
       "    <tr style=\"text-align: right;\">\n",
       "      <th></th>\n",
       "      <th>class 0 pred</th>\n",
       "      <th>class 1 pred</th>\n",
       "    </tr>\n",
       "  </thead>\n",
       "  <tbody>\n",
       "    <tr>\n",
       "      <th>class 0 actual</th>\n",
       "      <td>23453</td>\n",
       "      <td>9567</td>\n",
       "    </tr>\n",
       "    <tr>\n",
       "      <th>class 1 actual</th>\n",
       "      <td>298</td>\n",
       "      <td>582</td>\n",
       "    </tr>\n",
       "  </tbody>\n",
       "</table>\n",
       "</div>"
      ],
      "text/plain": [
       "                class 0 pred  class 1 pred\n",
       "class 0 actual         23453          9567\n",
       "class 1 actual           298           582"
      ]
     },
     "execution_count": 16,
     "metadata": {},
     "output_type": "execute_result"
    }
   ],
   "source": [
    "y_gs_pred_real = gs.predict(X)\n",
    "print(classification_report(y, y_gs_pred_real))\n",
    "pd.DataFrame(confusion_matrix(y, y_gs_pred_real),\n",
    "             index = ['class 0 actual', 'class 1 actual'],\n",
    "             columns = ['class 0 pred', 'class 1 pred'])"
   ]
  },
  {
   "cell_type": "code",
   "execution_count": 74,
   "metadata": {},
   "outputs": [],
   "source": [
    "from sklearn.decomposition import PCA\n",
    "\n",
    "pca = PCA(n_components=2)\n",
    "x_vis = pca.fit_transform(X)\n",
    "smox_vis = pca.transform(smox)"
   ]
  },
  {
   "cell_type": "code",
   "execution_count": 77,
   "metadata": {},
   "outputs": [
    {
     "data": {
      "image/png": "[encoded data removed]",
      "text/plain": [
       "<Figure size 432x288 with 1 Axes>"
      ]
     },
     "metadata": {
      "needs_background": "light"
     },
     "output_type": "display_data"
    }
   ],
   "source": [
    "palette = sns.color_palette()\n",
    "\n",
    "\n",
    "plt.scatter(smox_vis[smoy==0, 0], smox_vis[smoy==0, 1], label=\"Class #0\", alpha=0.5,\n",
    "            facecolor=palette[0], linewidth=0.15)\n",
    "plt.scatter(smox_vis[smoy==1, 0], smox_vis[smoy==1, 1], label=\"Class #1\", alpha=0.5,\n",
    "            facecolor=palette[2], linewidth=0.15)\n",
    "\n",
    "\n",
    "plt.title('SMOTE');"
   ]
  },
  {
   "cell_type": "code",
   "execution_count": 76,
   "metadata": {},
   "outputs": [],
   "source": []
  },
  {
   "cell_type": "code",
   "execution_count": null,
   "metadata": {},
   "outputs": [],
   "source": [
    "pipe2 = Pipeline([('classifier' , RandomForestClassifier())])\n",
    "# pipe = Pipeline([('classifier', RandomForestClassifier())])\n",
    "\n",
    "# Create param grid.\n",
    "\n",
    "param_grid = [\n",
    "    {'classifier' : [LogisticRegression(class_weight='balanced')],\n",
    "     'classifier__penalty' : ['l1', 'l2'],\n",
    "    'classifier__C' : np.logspace(-4, 4, 20),\n",
    "    'classifier__solver' : ['liblinear']},\n",
    "    {'classifier' : [RandomForestClassifier(class_weight='balanced')],\n",
    "    'classifier__n_estimators' : list(range(10,101,10))} ]\n",
    "\n",
    "# Create grid search object"
   ]
  },
  {
   "cell_type": "code",
   "execution_count": 17,
   "metadata": {},
   "outputs": [
    {
     "name": "stdout",
     "output_type": "stream",
     "text": [
      "Fitting 5 folds for each of 11 candidates, totalling 55 fits\n"
     ]
    },
    {
     "name": "stderr",
     "output_type": "stream",
     "text": [
      "[Parallel(n_jobs=-1)]: Using backend LokyBackend with 4 concurrent workers.\n",
      "[Parallel(n_jobs=-1)]: Done  42 tasks      | elapsed:  2.2min\n",
      "[Parallel(n_jobs=-1)]: Done  55 out of  55 | elapsed:  3.2min finished\n"
     ]
    }
   ],
   "source": [
    "clf2 = GridSearchCV(RandomForestClassifier(class_weight='balanced'),\n",
    "                    param_grid = {'n_estimators' : list(range(50,151,10))}, cv = 5, verbose=True, n_jobs=-1)\n",
    "\n",
    "# Fit on data\n",
    "\n",
    "best_clf = clf2.fit(X, y)"
   ]
  },
  {
   "cell_type": "code",
   "execution_count": 18,
   "metadata": {},
   "outputs": [
    {
     "data": {
      "text/html": [
       "<div>\n",
       "<style scoped>\n",
       "    .dataframe tbody tr th:only-of-type {\n",
       "        vertical-align: middle;\n",
       "    }\n",
       "\n",
       "    .dataframe tbody tr th {\n",
       "        vertical-align: top;\n",
       "    }\n",
       "\n",
       "    .dataframe thead th {\n",
       "        text-align: right;\n",
       "    }\n",
       "</style>\n",
       "<table border=\"1\" class=\"dataframe\">\n",
       "  <thead>\n",
       "    <tr style=\"text-align: right;\">\n",
       "      <th></th>\n",
       "      <th>class 0 pred</th>\n",
       "      <th>class 1 pred</th>\n",
       "    </tr>\n",
       "  </thead>\n",
       "  <tbody>\n",
       "    <tr>\n",
       "      <th>class 0 actual</th>\n",
       "      <td>33000</td>\n",
       "      <td>20</td>\n",
       "    </tr>\n",
       "    <tr>\n",
       "      <th>class 1 actual</th>\n",
       "      <td>8</td>\n",
       "      <td>872</td>\n",
       "    </tr>\n",
       "  </tbody>\n",
       "</table>\n",
       "</div>"
      ],
      "text/plain": [
       "                class 0 pred  class 1 pred\n",
       "class 0 actual         33000            20\n",
       "class 1 actual             8           872"
      ]
     },
     "execution_count": 18,
     "metadata": {},
     "output_type": "execute_result"
    }
   ],
   "source": [
    "pd.DataFrame(confusion_matrix(y, best_clf.predict(X)),\n",
    "             index = ['class 0 actual', 'class 1 actual'],\n",
    "             columns = ['class 0 pred', 'class 1 pred'])"
   ]
  },
  {
   "cell_type": "code",
   "execution_count": 19,
   "metadata": {},
   "outputs": [
    {
     "data": {
      "text/plain": [
       "{'n_estimators': 70}"
      ]
     },
     "execution_count": 19,
     "metadata": {},
     "output_type": "execute_result"
    }
   ],
   "source": [
    "best_clf.best_params_"
   ]
  },
  {
   "cell_type": "code",
   "execution_count": 36,
   "metadata": {},
   "outputs": [],
   "source": [
    "import dill"
   ]
  },
  {
   "cell_type": "code",
   "execution_count": 24,
   "metadata": {},
   "outputs": [],
   "source": [
    "dill.dump(best_clf, open('estimator.dill', 'wb'))"
   ]
  },
  {
   "cell_type": "code",
   "execution_count": 37,
   "metadata": {},
   "outputs": [],
   "source": [
    "estimator = dill.load(open('estimator.dill', 'rb'))"
   ]
  },
  {
   "cell_type": "code",
   "execution_count": 38,
   "metadata": {},
   "outputs": [
    {
     "data": {
      "text/plain": [
       "array([[1.        , 0.        ],\n",
       "       [1.        , 0.        ],\n",
       "       [0.98571429, 0.01428571],\n",
       "       [1.        , 0.        ],\n",
       "       [1.        , 0.        ],\n",
       "       [1.        , 0.        ],\n",
       "       [1.        , 0.        ],\n",
       "       [1.        , 0.        ],\n",
       "       [1.        , 0.        ],\n",
       "       [1.        , 0.        ],\n",
       "       [0.98571429, 0.01428571],\n",
       "       [1.        , 0.        ],\n",
       "       [0.98571429, 0.01428571],\n",
       "       [1.        , 0.        ],\n",
       "       [1.        , 0.        ],\n",
       "       [1.        , 0.        ],\n",
       "       [1.        , 0.        ],\n",
       "       [1.        , 0.        ],\n",
       "       [1.        , 0.        ],\n",
       "       [0.98571429, 0.01428571],\n",
       "       [1.        , 0.        ],\n",
       "       [1.        , 0.        ],\n",
       "       [0.98571429, 0.01428571],\n",
       "       [1.        , 0.        ],\n",
       "       [0.98571429, 0.01428571],\n",
       "       [1.        , 0.        ],\n",
       "       [0.95714286, 0.04285714],\n",
       "       [1.        , 0.        ],\n",
       "       [0.98571429, 0.01428571],\n",
       "       [1.        , 0.        ],\n",
       "       [0.98571429, 0.01428571],\n",
       "       [0.98571429, 0.01428571],\n",
       "       [1.        , 0.        ],\n",
       "       [1.        , 0.        ],\n",
       "       [0.98571429, 0.01428571],\n",
       "       [0.98571429, 0.01428571],\n",
       "       [1.        , 0.        ],\n",
       "       [1.        , 0.        ],\n",
       "       [0.97142857, 0.02857143],\n",
       "       [0.98571429, 0.01428571]])"
      ]
     },
     "execution_count": 38,
     "metadata": {},
     "output_type": "execute_result"
    }
   ],
   "source": [
    "estimator.predict_proba(X[:40])"
   ]
  },
  {
   "cell_type": "code",
   "execution_count": 21,
   "metadata": {},
   "outputs": [],
   "source": [
    "rfc=RandomForestClassifier(class_weight='balanced', n_estimators=70)"
   ]
  },
  {
   "cell_type": "code",
   "execution_count": 22,
   "metadata": {},
   "outputs": [
    {
     "data": {
      "text/plain": [
       "RandomForestClassifier(bootstrap=True, ccp_alpha=0.0, class_weight='balanced',\n",
       "                       criterion='gini', max_depth=None, max_features='auto',\n",
       "                       max_leaf_nodes=None, max_samples=None,\n",
       "                       min_impurity_decrease=0.0, min_impurity_split=None,\n",
       "                       min_samples_leaf=1, min_samples_split=2,\n",
       "                       min_weight_fraction_leaf=0.0, n_estimators=70,\n",
       "                       n_jobs=None, oob_score=False, random_state=None,\n",
       "                       verbose=0, warm_start=False)"
      ]
     },
     "execution_count": 22,
     "metadata": {},
     "output_type": "execute_result"
    }
   ],
   "source": [
    "rfc.fit(X,y)"
   ]
  },
  {
   "cell_type": "code",
   "execution_count": 23,
   "metadata": {},
   "outputs": [
    {
     "data": {
      "text/html": [
       "<div>\n",
       "<style scoped>\n",
       "    .dataframe tbody tr th:only-of-type {\n",
       "        vertical-align: middle;\n",
       "    }\n",
       "\n",
       "    .dataframe tbody tr th {\n",
       "        vertical-align: top;\n",
       "    }\n",
       "\n",
       "    .dataframe thead th {\n",
       "        text-align: right;\n",
       "    }\n",
       "</style>\n",
       "<table border=\"1\" class=\"dataframe\">\n",
       "  <thead>\n",
       "    <tr style=\"text-align: right;\">\n",
       "      <th></th>\n",
       "      <th>class 0 pred</th>\n",
       "      <th>class 1 pred</th>\n",
       "    </tr>\n",
       "  </thead>\n",
       "  <tbody>\n",
       "    <tr>\n",
       "      <th>class 0 actual</th>\n",
       "      <td>33000</td>\n",
       "      <td>20</td>\n",
       "    </tr>\n",
       "    <tr>\n",
       "      <th>class 1 actual</th>\n",
       "      <td>10</td>\n",
       "      <td>870</td>\n",
       "    </tr>\n",
       "  </tbody>\n",
       "</table>\n",
       "</div>"
      ],
      "text/plain": [
       "                class 0 pred  class 1 pred\n",
       "class 0 actual         33000            20\n",
       "class 1 actual            10           870"
      ]
     },
     "execution_count": 23,
     "metadata": {},
     "output_type": "execute_result"
    }
   ],
   "source": [
    "pd.DataFrame(confusion_matrix(y, rfc.predict(X)),\n",
    "             index = ['class 0 actual', 'class 1 actual'],\n",
    "             columns = ['class 0 pred', 'class 1 pred'])"
   ]
  },
  {
   "cell_type": "code",
   "execution_count": null,
   "metadata": {},
   "outputs": [],
   "source": []
  },
  {
   "cell_type": "code",
   "execution_count": 24,
   "metadata": {},
   "outputs": [
    {
     "data": {
      "text/plain": [
       "array([0.04539837, 0.04954095, 0.04561436, 0.04565095, 0.0521196 ,\n",
       "       0.05576251, 0.05142496, 0.0513029 , 0.04228768, 0.04209358,\n",
       "       0.04772698, 0.04878223, 0.04342582, 0.04168272, 0.04413946,\n",
       "       0.05180021, 0.049869  , 0.04696803, 0.04947367, 0.04663794,\n",
       "       0.04829809])"
      ]
     },
     "execution_count": 24,
     "metadata": {},
     "output_type": "execute_result"
    }
   ],
   "source": [
    "rfc.feature_importances_"
   ]
  },
  {
   "cell_type": "code",
   "execution_count": null,
   "metadata": {},
   "outputs": [],
   "source": []
  },
  {
   "cell_type": "code",
   "execution_count": null,
   "metadata": {},
   "outputs": [],
   "source": []
  },
  {
   "cell_type": "code",
   "execution_count": null,
   "metadata": {},
   "outputs": [],
   "source": []
  },
  {
   "cell_type": "code",
   "execution_count": 82,
   "metadata": {},
   "outputs": [],
   "source": [
    "Xandy.to_csv('fbref_cleaneddata.csv')"
   ]
  },
  {
   "cell_type": "code",
   "execution_count": 65,
   "metadata": {},
   "outputs": [],
   "source": [
    "from sklearn.svm import OneClassSVM"
   ]
  },
  {
   "cell_type": "code",
   "execution_count": 66,
   "metadata": {},
   "outputs": [
    {
     "data": {
      "text/plain": [
       "OneClassSVM(cache_size=200, coef0=0.0, degree=3, gamma='scale', kernel='rbf',\n",
       "            max_iter=-1, nu=0.5, shrinking=True, tol=0.001, verbose=False)"
      ]
     },
     "execution_count": 66,
     "metadata": {},
     "output_type": "execute_result"
    }
   ],
   "source": [
    "one=OneClassSVM()\n",
    "one.fit(X)"
   ]
  },
  {
   "cell_type": "code",
   "execution_count": 67,
   "metadata": {},
   "outputs": [],
   "source": [
    "y_svm_pred=one.predict(X)"
   ]
  },
  {
   "cell_type": "code",
   "execution_count": 68,
   "metadata": {},
   "outputs": [
    {
     "data": {
      "text/plain": [
       "8253"
      ]
     },
     "execution_count": 68,
     "metadata": {},
     "output_type": "execute_result"
    }
   ],
   "source": [
    "sum(abs(y - y_svm_pred))"
   ]
  },
  {
   "cell_type": "code",
   "execution_count": 69,
   "metadata": {},
   "outputs": [],
   "source": [
    "from sklearn.tree import DecisionTreeRegressor"
   ]
  },
  {
   "cell_type": "code",
   "execution_count": 70,
   "metadata": {},
   "outputs": [],
   "source": [
    "from sklearn import tree"
   ]
  },
  {
   "cell_type": "code",
   "execution_count": 71,
   "metadata": {},
   "outputs": [
    {
     "data": {
      "text/plain": [
       "DecisionTreeRegressor(ccp_alpha=0.0, criterion='mse', max_depth=8,\n",
       "                      max_features=None, max_leaf_nodes=None,\n",
       "                      min_impurity_decrease=0.0, min_impurity_split=None,\n",
       "                      min_samples_leaf=1, min_samples_split=2,\n",
       "                      min_weight_fraction_leaf=0.0, presort='deprecated',\n",
       "                      random_state=None, splitter='best')"
      ]
     },
     "execution_count": 71,
     "metadata": {},
     "output_type": "execute_result"
    }
   ],
   "source": [
    "#import graphviz\n",
    "\n",
    "tree_est = DecisionTreeRegressor(max_depth=8)\n",
    "tree_est.fit(X, y)\n",
    "#graphviz.Source(tree.export_graphviz(tree_est, out_file=None))"
   ]
  },
  {
   "cell_type": "code",
   "execution_count": 72,
   "metadata": {},
   "outputs": [
    {
     "data": {
      "text/plain": [
       "0.18269229232636608"
      ]
     },
     "execution_count": 72,
     "metadata": {},
     "output_type": "execute_result"
    }
   ],
   "source": [
    "tree_est.score(X,y)"
   ]
  },
  {
   "cell_type": "code",
   "execution_count": 69,
   "metadata": {},
   "outputs": [],
   "source": [
    "X_train, X_test, y_train, y_test = model_selection.train_test_split(X_clean, y_clean, test_size=0.3, random_state=42)\n"
   ]
  },
  {
   "cell_type": "code",
   "execution_count": null,
   "metadata": {},
   "outputs": [],
   "source": [
    "from sklearn import metrics"
   ]
  },
  {
   "cell_type": "code",
   "execution_count": null,
   "metadata": {},
   "outputs": [],
   "source": [
    "test_errors = []\n",
    "for max_depth in max_depths:\n",
    "    est = DecisionTreeRegressor(max_depth=max_depth).fit(X_train, y_train)\n",
    "    y_pred = est.predict(X_test)\n",
    "    test_errors.append(metrics.f1_score(y_test, y_pred))\n",
    "\n",
    "plt.plot(max_depths, in_sample_errors, label='In-Sample Error')\n",
    "plt.plot(max_depths, test_errors, label='Out-of-Sample Error')\n",
    "plt.xlabel('max_depth')\n",
    "plt.ylabel('MSE')\n",
    "plt.legend(loc='upper right');"
   ]
  },
  {
   "cell_type": "code",
   "execution_count": null,
   "metadata": {},
   "outputs": [],
   "source": []
  },
  {
   "cell_type": "code",
   "execution_count": null,
   "metadata": {},
   "outputs": [],
   "source": [
    "true_neg=0\n",
    "true_pos=0\n",
    "false_neg=0\n",
    "false_pos=0\n",
    "for i in range(0,len(y_pred)):\n",
    "    if y_pred[i] == 1 and y_clean[i] == False:\n",
    "        true_neg+=1\n",
    "    elif y_pred[i] == -1 and y_clean[i] == True:\n",
    "        true_pos+=1\n",
    "    elif y_pred[i] == 1 and y_clean[i] == True:\n",
    "        false_neg+=1\n",
    "    elif y_pred[i] == -1 and y_clean[i] == False:\n",
    "        false_pos+=1\n",
    "        \n",
    "print('true neg',true_neg)\n",
    "print('true_pos',true_pos)\n",
    "print('false_neg',false_neg)\n",
    "print('false_pos',false_pos)"
   ]
  },
  {
   "cell_type": "code",
   "execution_count": null,
   "metadata": {},
   "outputs": [],
   "source": []
  }
 ],
 "metadata": {
  "kernelspec": {
   "display_name": "Python 3",
   "language": "python",
   "name": "python3"
  },
  "language_info": {
   "codemirror_mode": {
    "name": "ipython",
    "version": 3
   },
   "file_extension": ".py",
   "mimetype": "text/x-python",
   "name": "python",
   "nbconvert_exporter": "python",
   "pygments_lexer": "ipython3",
   "version": "3.6.8"
  }
 },
 "nbformat": 4,
 "nbformat_minor": 2
}
